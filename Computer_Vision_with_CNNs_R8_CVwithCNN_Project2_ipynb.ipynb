{
  "nbformat": 4,
  "nbformat_minor": 0,
  "metadata": {
    "accelerator": "TPU",
    "colab": {
      "name": "Computer_Vision_with_CNNs_R8_CVwithCNN_Project2.ipynb.ipynb",
      "provenance": [],
      "collapsed_sections": [],
      "machine_shape": "hm",
      "include_colab_link": true
    },
    "kernelspec": {
      "display_name": "Python 3",
      "language": "python",
      "name": "python3"
    },
    "language_info": {
      "codemirror_mode": {
        "name": "ipython",
        "version": 3
      },
      "file_extension": ".py",
      "mimetype": "text/x-python",
      "name": "python",
      "nbconvert_exporter": "python",
      "pygments_lexer": "ipython3",
      "version": "3.7.4"
    }
  },
  "cells": [
    {
      "cell_type": "markdown",
      "metadata": {
        "id": "view-in-github",
        "colab_type": "text"
      },
      "source": [
        "<a href=\"https://colab.research.google.com/github/bhaveshgandhi1/greatlearningpgaiml/blob/master/Computer_Vision_with_CNNs_R8_CVwithCNN_Project2_ipynb.ipynb\" target=\"_parent\"><img src=\"https://colab.research.google.com/assets/colab-badge.svg\" alt=\"Open In Colab\"/></a>"
      ]
    },
    {
      "cell_type": "markdown",
      "metadata": {
        "id": "O9jAqShELHZI"
      },
      "source": [
        "<img src=\"http://drive.google.com/uc?export=view&id=1tpOCamr9aWz817atPnyXus8w5gJ3mIts\" width=500px>\n",
        "\n",
        "Proprietary content. © Great Learning. All Rights Reserved. Unauthorized use or distribution prohibited."
      ]
    },
    {
      "cell_type": "markdown",
      "metadata": {
        "id": "SRkFT8HtCZHS"
      },
      "source": [
        "# German Traffic Sign Recognition\n",
        "Multi-class, single-image classification"
      ]
    },
    {
      "cell_type": "markdown",
      "metadata": {
        "id": "SJWdbMALTcGJ"
      },
      "source": [
        "### Dataset\n",
        "The German Traffic Sign Benchmark is a multi-class, single-image classification challenge held at the International Joint Conference on Neural Networks (IJCNN) 2011. They cordially invite researchers from relevant fields to participate: The competition is designed to allow for participation without special domain knowledge. Their benchmark has the following properties:\n",
        "\n",
        "- Single-image, multi-class classification problem\n",
        "- More than 40 classes\n",
        "- More than 50,000 images in total\n",
        "- Large, lifelike database"
      ]
    },
    {
      "cell_type": "markdown",
      "metadata": {
        "id": "hRhJulWyIGMN"
      },
      "source": [
        "#### Notes\n",
        "- You can check “Meta” folder for getting information about the classes.\n",
        "- If the model is taking too much time to get trained then you can reduce the number of classes. There are around 43 classes in the dataset, model should be trained on a minimum of 15 classes."
      ]
    },
    {
      "cell_type": "markdown",
      "metadata": {
        "id": "qC37j3FUDVYd"
      },
      "source": [
        "### Initialize ImageDataGenerator (5 Marks)\n",
        "- Rescale the images\n",
        "- Specify value for validation_split & get 75% data in training and 25% data in validation"
      ]
    },
    {
      "cell_type": "code",
      "metadata": {
        "colab": {
          "base_uri": "https://localhost:8080/"
        },
        "id": "fP8qCJq_Dozr",
        "outputId": "233f66f1-31d0-4af7-9aa5-289d9ff30fe5"
      },
      "source": [
        "gpu_info = !nvidia-smi\r\n",
        "gpu_info = '\\n'.join(gpu_info)\r\n",
        "if gpu_info.find('failed') >= 0:\r\n",
        "  print('Select the Runtime > \"Change runtime type\" menu to enable a GPU accelerator, ')\r\n",
        "  print('and then re-execute this cell.')\r\n",
        "else:\r\n",
        "  print(gpu_info)"
      ],
      "execution_count": null,
      "outputs": [
        {
          "output_type": "stream",
          "text": [
            "Select the Runtime > \"Change runtime type\" menu to enable a GPU accelerator, \n",
            "and then re-execute this cell.\n"
          ],
          "name": "stdout"
        }
      ]
    },
    {
      "cell_type": "code",
      "metadata": {
        "colab": {
          "base_uri": "https://localhost:8080/"
        },
        "id": "SCo_tBAlDwzv",
        "outputId": "185346c6-a49f-40cb-c7ea-b4ad3807558b"
      },
      "source": [
        "from psutil import virtual_memory\r\n",
        "ram_gb = virtual_memory().total / 1e9\r\n",
        "print('Your runtime has {:.1f} gigabytes of available RAM\\n'.format(ram_gb))\r\n",
        "\r\n",
        "if ram_gb < 20:\r\n",
        "  print('To enable a high-RAM runtime, select the Runtime > \"Change runtime type\"')\r\n",
        "  print('menu, and then select High-RAM in the Runtime shape dropdown. Then, ')\r\n",
        "  print('re-execute this cell.')\r\n",
        "else:\r\n",
        "  print('You are using a high-RAM runtime!')"
      ],
      "execution_count": null,
      "outputs": [
        {
          "output_type": "stream",
          "text": [
            "Your runtime has 38.0 gigabytes of available RAM\n",
            "\n",
            "You are using a high-RAM runtime!\n"
          ],
          "name": "stdout"
        }
      ]
    },
    {
      "cell_type": "code",
      "metadata": {
        "id": "OakETLlCBwy1"
      },
      "source": [
        "import os\r\n",
        "import pandas as pd\r\n",
        "import numpy as np\r\n",
        "import seaborn as sns\r\n",
        "import matplotlib.pyplot as plt\r\n",
        "from matplotlib.image import imread\r\n",
        "# Technically not necessary in newest versions of jupyter\r\n",
        "%matplotlib inline"
      ],
      "execution_count": null,
      "outputs": []
    },
    {
      "cell_type": "code",
      "metadata": {
        "colab": {
          "base_uri": "https://localhost:8080/"
        },
        "id": "seD77SbgSRAj",
        "outputId": "6ac96a09-a69b-47de-e036-4618a5375378"
      },
      "source": [
        "from google.colab import drive\r\n",
        "drive.mount('/content/drive')"
      ],
      "execution_count": null,
      "outputs": [
        {
          "output_type": "stream",
          "text": [
            "Mounted at /content/drive\n"
          ],
          "name": "stdout"
        }
      ]
    },
    {
      "cell_type": "code",
      "metadata": {
        "id": "uCGdqVxERZNe"
      },
      "source": [
        "my_data_dir = '/content/drive/My Drive/CNN/Data_German_Traffic_Sign_Recognition'"
      ],
      "execution_count": null,
      "outputs": []
    },
    {
      "cell_type": "code",
      "metadata": {
        "colab": {
          "base_uri": "https://localhost:8080/"
        },
        "id": "RotEXuwvR0MM",
        "outputId": "da4c2b04-b1ff-4438-ace3-2ccad3199d76"
      },
      "source": [
        "# CONFIRM THAT THIS REPORTS BACK 'test', and 'train'\r\n",
        "os.listdir(my_data_dir) "
      ],
      "execution_count": null,
      "outputs": [
        {
          "output_type": "execute_result",
          "data": {
            "text/plain": [
              "['Train', 'Meta']"
            ]
          },
          "metadata": {
            "tags": []
          },
          "execution_count": 7
        }
      ]
    },
    {
      "cell_type": "code",
      "metadata": {
        "id": "zgyhvuQbSdO2"
      },
      "source": [
        "train_path = my_data_dir+'/Train'"
      ],
      "execution_count": null,
      "outputs": []
    },
    {
      "cell_type": "code",
      "metadata": {
        "id": "eNv0ZkUFSi6N"
      },
      "source": [
        "l_classes = os.listdir(train_path)"
      ],
      "execution_count": null,
      "outputs": []
    },
    {
      "cell_type": "code",
      "metadata": {
        "colab": {
          "base_uri": "https://localhost:8080/",
          "height": 35
        },
        "id": "2gME_VfZSrRB",
        "outputId": "95763860-04cd-446b-bf8c-7d655b909fca"
      },
      "source": [
        "os.listdir(train_path+'/30')[0]"
      ],
      "execution_count": null,
      "outputs": [
        {
          "output_type": "execute_result",
          "data": {
            "application/vnd.google.colaboratory.intrinsic+json": {
              "type": "string"
            },
            "text/plain": [
              "'00030_00012_00002.png'"
            ]
          },
          "metadata": {
            "tags": []
          },
          "execution_count": 10
        }
      ]
    },
    {
      "cell_type": "code",
      "metadata": {
        "id": "NfCsi86dS6zE"
      },
      "source": [
        "para_cell = train_path+'/30'+'/00030_00012_00002.png'"
      ],
      "execution_count": null,
      "outputs": []
    },
    {
      "cell_type": "code",
      "metadata": {
        "id": "FbdjOqkvTH-R"
      },
      "source": [
        "para_img= imread(para_cell)"
      ],
      "execution_count": null,
      "outputs": []
    },
    {
      "cell_type": "code",
      "metadata": {
        "colab": {
          "base_uri": "https://localhost:8080/",
          "height": 282
        },
        "id": "3qBELjRrTM6h",
        "outputId": "fbaecfef-ef96-4491-9ffc-0526f2eea9ad"
      },
      "source": [
        "plt.imshow(para_img)"
      ],
      "execution_count": null,
      "outputs": [
        {
          "output_type": "execute_result",
          "data": {
            "text/plain": [
              "<matplotlib.image.AxesImage at 0x7f257eff7080>"
            ]
          },
          "metadata": {
            "tags": []
          },
          "execution_count": 13
        },
        {
          "output_type": "display_data",
          "data": {
            "image/png": "[encoded data removed]",
            "text/plain": [
              "<Figure size 432x288 with 1 Axes>"
            ]
          },
          "metadata": {
            "tags": [],
            "needs_background": "light"
          }
        }
      ]
    },
    {
      "cell_type": "code",
      "metadata": {
        "colab": {
          "base_uri": "https://localhost:8080/"
        },
        "id": "95tDQmMxTOsi",
        "outputId": "7a362dd1-a4e6-4347-d43b-b947ec432ace"
      },
      "source": [
        "para_img.shape"
      ],
      "execution_count": null,
      "outputs": [
        {
          "output_type": "execute_result",
          "data": {
            "text/plain": [
              "(34, 34, 3)"
            ]
          },
          "metadata": {
            "tags": []
          },
          "execution_count": 14
        }
      ]
    },
    {
      "cell_type": "code",
      "metadata": {
        "id": "4EMclsNkTRoz"
      },
      "source": [
        "# Other options: https://stackoverflow.com/questions/1507084/how-to-check-dimensions-of-all-images-in-a-directory-using-python\r\n",
        "# Other options: https://stackoverflow.com/questions/1507084/how-to-check-dimensions-of-all-images-in-a-directory-using-python\r\n",
        "dim1 = []\r\n",
        "dim2 = []\r\n",
        "#for i in l_classes:\r\n",
        "for image_filename in os.listdir(train_path+'/'+'30'):\r\n",
        "  img = imread(train_path+'/'+'30'+'/'+image_filename)\r\n",
        "  d1,d2,colors = img.shape\r\n",
        "  dim1.append(d1)\r\n",
        "  dim2.append(d2)\r\n",
        "\r\n",
        "\r\n",
        "\r\n",
        "\r\n",
        "    \r\n",
        "    \r\n",
        "    \r\n",
        "    \r\n",
        "    "
      ],
      "execution_count": null,
      "outputs": []
    },
    {
      "cell_type": "code",
      "metadata": {
        "colab": {
          "base_uri": "https://localhost:8080/",
          "height": 511
        },
        "id": "q3-Ac72-Q0L0",
        "outputId": "1093d2a2-4953-4836-e0f7-1e44f4410324"
      },
      "source": [
        "sns.jointplot(dim1,dim2)"
      ],
      "execution_count": null,
      "outputs": [
        {
          "output_type": "stream",
          "text": [
            "/usr/local/lib/python3.6/dist-packages/seaborn/_decorators.py:43: FutureWarning: Pass the following variables as keyword args: x, y. From version 0.12, the only valid positional argument will be `data`, and passing other arguments without an explicit keyword will result in an error or misinterpretation.\n",
            "  FutureWarning\n"
          ],
          "name": "stderr"
        },
        {
          "output_type": "execute_result",
          "data": {
            "text/plain": [
              "<seaborn.axisgrid.JointGrid at 0x7f3fa3f93f60>"
            ]
          },
          "metadata": {
            "tags": []
          },
          "execution_count": 149
        },
        {
          "output_type": "display_data",
          "data": {
            "image/png": "[encoded data removed]",
            "text/plain": [
              "<Figure size 432x432 with 3 Axes>"
            ]
          },
          "metadata": {
            "tags": [],
            "needs_background": "light"
          }
        }
      ]
    },
    {
      "cell_type": "code",
      "metadata": {
        "colab": {
          "base_uri": "https://localhost:8080/"
        },
        "id": "ZGAnukyRRm13",
        "outputId": "f56c6757-4c16-4b2a-987e-a549c12480e0"
      },
      "source": [
        "np.mean(dim1)"
      ],
      "execution_count": null,
      "outputs": [
        {
          "output_type": "execute_result",
          "data": {
            "text/plain": [
              "51.64"
            ]
          },
          "metadata": {
            "tags": []
          },
          "execution_count": 150
        }
      ]
    },
    {
      "cell_type": "code",
      "metadata": {
        "colab": {
          "base_uri": "https://localhost:8080/"
        },
        "id": "-iZnpT_qRr36",
        "outputId": "8f528a12-ce61-460c-997f-26a444222318"
      },
      "source": [
        "np.mean(dim2)"
      ],
      "execution_count": null,
      "outputs": [
        {
          "output_type": "execute_result",
          "data": {
            "text/plain": [
              "56.24"
            ]
          },
          "metadata": {
            "tags": []
          },
          "execution_count": 151
        }
      ]
    },
    {
      "cell_type": "code",
      "metadata": {
        "id": "K_y531gURzzw"
      },
      "source": [
        "# Other options: https://stackoverflow.com/questions/1507084/how-to-check-dimensions-of-all-images-in-a-directory-using-python\r\n",
        "# Other options: https://stackoverflow.com/questions/1507084/how-to-check-dimensions-of-all-images-in-a-directory-using-python\r\n",
        "dim1 = []\r\n",
        "dim2 = []\r\n",
        "#for i in l_classes:\r\n",
        "for image_filename in os.listdir(train_path+'/'+'25'):\r\n",
        "  img = imread(train_path+'/'+'25'+'/'+image_filename)\r\n",
        "  d1,d2,colors = img.shape\r\n",
        "  dim1.append(d1)\r\n",
        "  dim2.append(d2)"
      ],
      "execution_count": null,
      "outputs": []
    },
    {
      "cell_type": "code",
      "metadata": {
        "colab": {
          "base_uri": "https://localhost:8080/"
        },
        "id": "N7nhC_IOT2dD",
        "outputId": "ea4a28bb-3b19-46b3-8975-7334a776d72d"
      },
      "source": [
        "np.mean(dim1)"
      ],
      "execution_count": null,
      "outputs": [
        {
          "output_type": "execute_result",
          "data": {
            "text/plain": [
              "60.83533333333333"
            ]
          },
          "metadata": {
            "tags": []
          },
          "execution_count": 20
        }
      ]
    },
    {
      "cell_type": "code",
      "metadata": {
        "colab": {
          "base_uri": "https://localhost:8080/"
        },
        "id": "bYyO5N7eT4Ng",
        "outputId": "3cf15d73-856e-44df-8e20-a95196900682"
      },
      "source": [
        "np.mean(dim2)"
      ],
      "execution_count": null,
      "outputs": [
        {
          "output_type": "execute_result",
          "data": {
            "text/plain": [
              "64.822"
            ]
          },
          "metadata": {
            "tags": []
          },
          "execution_count": 21
        }
      ]
    },
    {
      "cell_type": "code",
      "metadata": {
        "id": "_LEC9ACJUCh7"
      },
      "source": [
        "# Other options: https://stackoverflow.com/questions/1507084/how-to-check-dimensions-of-all-images-in-a-directory-using-python\r\n",
        "# Other options: https://stackoverflow.com/questions/1507084/how-to-check-dimensions-of-all-images-in-a-directory-using-python\r\n",
        "dim1 = []\r\n",
        "dim2 = []\r\n",
        "for i in l_classes:\r\n",
        "  for image_filename in os.listdir(train_path+'/'+i):\r\n",
        "    img = imread(train_path+'/'+i+'/'+image_filename)\r\n",
        "    d1,d2,colors = img.shape\r\n",
        "    dim1.append(d1)\r\n",
        "    dim2.append(d2)"
      ],
      "execution_count": null,
      "outputs": []
    },
    {
      "cell_type": "code",
      "metadata": {
        "colab": {
          "base_uri": "https://localhost:8080/"
        },
        "id": "5dCX-xNs03oZ",
        "outputId": "d18aef03-ad9c-40a6-9e89-500faf59ec94"
      },
      "source": [
        "np.mean(dim1)"
      ],
      "execution_count": null,
      "outputs": [
        {
          "output_type": "execute_result",
          "data": {
            "text/plain": [
              "51.859603906673904"
            ]
          },
          "metadata": {
            "tags": []
          },
          "execution_count": 37
        }
      ]
    },
    {
      "cell_type": "code",
      "metadata": {
        "colab": {
          "base_uri": "https://localhost:8080/"
        },
        "id": "sPy3LjCM06v4",
        "outputId": "f1735dcf-e512-4ee1-c6fd-b6cd490a86ab"
      },
      "source": [
        "np.mean(dim2)"
      ],
      "execution_count": null,
      "outputs": [
        {
          "output_type": "execute_result",
          "data": {
            "text/plain": [
              "52.68692349430277"
            ]
          },
          "metadata": {
            "tags": []
          },
          "execution_count": 38
        }
      ]
    },
    {
      "cell_type": "code",
      "metadata": {
        "colab": {
          "base_uri": "https://localhost:8080/",
          "height": 511
        },
        "id": "oqn_Jn661B65",
        "outputId": "22375be9-2f9e-480c-b40f-370dbd2cc6d0"
      },
      "source": [
        "sns.jointplot(dim1,dim2)"
      ],
      "execution_count": null,
      "outputs": [
        {
          "output_type": "stream",
          "text": [
            "/usr/local/lib/python3.6/dist-packages/seaborn/_decorators.py:43: FutureWarning: Pass the following variables as keyword args: x, y. From version 0.12, the only valid positional argument will be `data`, and passing other arguments without an explicit keyword will result in an error or misinterpretation.\n",
            "  FutureWarning\n"
          ],
          "name": "stderr"
        },
        {
          "output_type": "execute_result",
          "data": {
            "text/plain": [
              "<seaborn.axisgrid.JointGrid at 0x7f542c9cecc0>"
            ]
          },
          "metadata": {
            "tags": []
          },
          "execution_count": 39
        },
        {
          "output_type": "display_data",
          "data": {
            "image/png": "[encoded data removed]",
            "text/plain": [
              "<Figure size 432x432 with 3 Axes>"
            ]
          },
          "metadata": {
            "tags": [],
            "needs_background": "light"
          }
        }
      ]
    },
    {
      "cell_type": "code",
      "metadata": {
        "id": "oa-Di7851kzO"
      },
      "source": [
        "img_size=71"
      ],
      "execution_count": null,
      "outputs": []
    },
    {
      "cell_type": "code",
      "metadata": {
        "id": "aBiTAypV16z7"
      },
      "source": [
        "from tensorflow.keras.preprocessing.image import ImageDataGenerator\r\n",
        "import tensorflow as tf"
      ],
      "execution_count": null,
      "outputs": []
    },
    {
      "cell_type": "markdown",
      "metadata": {
        "id": "58e4ODapEVdx"
      },
      "source": [
        "### Get training data from ImageDataGenerator (5 Marks)\n",
        "- Give directory path\n",
        "- Give target size\n",
        "- Give batch_size\n",
        "- Specify classes, if you wish to use less number of classes you need to give class names in a list (Atleast 15 classes should be there)\n",
        "- Specify class_mode\n",
        "- Specify color_mode\n",
        "- Specify subset\n",
        "\n",
        "You can get details here\n",
        "https://www.tensorflow.org/api_docs/python/tf/keras/preprocessing/image/ImageDataGenerator"
      ]
    },
    {
      "cell_type": "code",
      "metadata": {
        "id": "GSfT2cB4COgC"
      },
      "source": [
        "batch_size = 32\r\n",
        "train_datagen = tf.keras.preprocessing.image.ImageDataGenerator(    \r\n",
        "      rescale=1./255.,\r\n",
        "      #vertical_flip=True, \r\n",
        "      horizontal_flip=True,\r\n",
        "      rotation_range=0.4, \r\n",
        "      zoom_range=0.25,\r\n",
        "      shear_range=0.1,\r\n",
        "      fill_mode='nearest',\r\n",
        "      validation_split=0.25\r\n",
        ")\r\n"
      ],
      "execution_count": null,
      "outputs": []
    },
    {
      "cell_type": "code",
      "metadata": {
        "colab": {
          "base_uri": "https://localhost:8080/"
        },
        "id": "2hbDk9vU1SOc",
        "outputId": "a0077d9a-7b5a-451e-f24e-0520320cbf86"
      },
      "source": [
        "print(train_datagen)"
      ],
      "execution_count": null,
      "outputs": [
        {
          "output_type": "stream",
          "text": [
            "<tensorflow.python.keras.preprocessing.image.ImageDataGenerator object at 0x7f257ef60f28>\n"
          ],
          "name": "stdout"
        }
      ]
    },
    {
      "cell_type": "code",
      "metadata": {
        "colab": {
          "base_uri": "https://localhost:8080/"
        },
        "id": "CPJ-C-FH2iz6",
        "outputId": "b35b81e0-696b-44a9-d1cb-462bc1b71264"
      },
      "source": [
        "#val_datagen=tf.keras.preprocessing.image.ImageDataGenerator(rescale=1./255.)\r\n",
        "\r\n",
        "train_generator = train_datagen.flow_from_directory(\r\n",
        "        '/content/drive/My Drive/CNN/Data_German_Traffic_Sign_Recognition/Train',\r\n",
        "        subset='training',\r\n",
        "        target_size=(img_size, img_size),\r\n",
        "        color_mode='rgb',\r\n",
        "        batch_size=batch_size,\r\n",
        "        class_mode='categorical')\r\n"
      ],
      "execution_count": null,
      "outputs": [
        {
          "output_type": "stream",
          "text": [
            "Found 22124 images belonging to 33 classes.\n"
          ],
          "name": "stdout"
        }
      ]
    },
    {
      "cell_type": "markdown",
      "metadata": {
        "id": "GzYNcoV9Gawj"
      },
      "source": [
        "### Get validation data from ImageDataGenerator (5 Marks)\n",
        "- Give directory path\n",
        "- Give target size\n",
        "- Give batch_size\n",
        "- Specify classes, if you wish to use less number of classes you need to give class names in a list (Atleast 15 classes should be there)\n",
        "- Specify class_mode\n",
        "- Specify color_mode\n",
        "- Specify subset\n",
        "\n",
        "You can get details here\n",
        "https://www.tensorflow.org/api_docs/python/tf/keras/preprocessing/image/ImageDataGenerator"
      ]
    },
    {
      "cell_type": "code",
      "metadata": {
        "id": "-m9zfw0AHIma",
        "colab": {
          "base_uri": "https://localhost:8080/"
        },
        "outputId": "5f42f662-e4f4-429e-ecd8-8a5d41df68c2"
      },
      "source": [
        "validation_generator = train_datagen.flow_from_directory(\r\n",
        "        '/content/drive/My Drive/CNN/Data_German_Traffic_Sign_Recognition/Train',\r\n",
        "        subset='validation',\r\n",
        "        target_size=(img_size, img_size),\r\n",
        "        color_mode='rgb',\r\n",
        "        batch_size=batch_size,\r\n",
        "        class_mode='categorical')"
      ],
      "execution_count": null,
      "outputs": [
        {
          "output_type": "stream",
          "text": [
            "Found 7364 images belonging to 33 classes.\n"
          ],
          "name": "stdout"
        }
      ]
    },
    {
      "cell_type": "markdown",
      "metadata": {
        "id": "S2fXxJz1I_SV"
      },
      "source": [
        "### Define model (5 Marks)\n",
        "- Initialize a Sequential Model\n",
        "- Add Convolution, Maxpool, Dropout, Flatten & Dense layers according to your model architecture"
      ]
    },
    {
      "cell_type": "code",
      "metadata": {
        "id": "Fns3rEJ-DHQq"
      },
      "source": [
        "from tensorflow.keras.preprocessing import image\r\n",
        "from tensorflow.keras.preprocessing.image import ImageDataGenerator, img_to_array, array_to_img, load_img\r\n",
        "from tensorflow.keras.utils import to_categorical\r\n",
        "from tensorflow.keras.layers import Conv2D, MaxPool2D, Dense, Flatten, Dropout,GlobalAveragePooling2D\r\n",
        "from tensorflow.keras.models import Sequential"
      ],
      "execution_count": null,
      "outputs": []
    },
    {
      "cell_type": "code",
      "metadata": {
        "id": "2BBLGKdj4SN6"
      },
      "source": [
        "model = Sequential()\r\n",
        "\r\n",
        "\r\n",
        "\r\n",
        "model.add(Conv2D(filters=128, kernel_size=3,activation='relu', input_shape=(img_size,img_size,3)))\r\n",
        "model.add(MaxPool2D(pool_size=(2, 2)))\r\n",
        "#model.add(Dropout(rate=0.25))\r\n",
        "\r\n",
        "# Second Convolutional Layer\r\n",
        "#model.add(tf.keras.layers.BatchNormalization())\r\n",
        "model.add(Conv2D(filters=64, kernel_size=3, activation='relu'))\r\n",
        "model.add(MaxPool2D(pool_size=(2, 2)))\r\n",
        "#model.add(Dropout(rate=0.25))\r\n",
        "\r\n",
        "# Third Convolutional Layer\r\n",
        "model.add(tf.keras.layers.BatchNormalization())\r\n",
        "model.add(Conv2D(filters=32, kernel_size=3, activation='relu'))\r\n",
        "model.add(MaxPool2D(pool_size=(2, 2)))\r\n",
        "#model.add(Dropout(rate=0.25))\r\n",
        "\r\n",
        "# Flattening the layer and adding Dense Layer\r\n",
        "model.add(Flatten())\r\n",
        "model.add(Dense(units=64, activation='relu'))\r\n",
        "model.add(Dropout(rate=0.25))\r\n",
        "model.add(Dense(units = len(set(train_generator.classes)), activation = 'softmax'))\r\n",
        "\r\n"
      ],
      "execution_count": null,
      "outputs": []
    },
    {
      "cell_type": "markdown",
      "metadata": {
        "id": "lRs36YJgJvI0"
      },
      "source": [
        "### Compile the model (2 Marks)\n",
        "- Specify optimizer, loss & metrics"
      ]
    },
    {
      "cell_type": "code",
      "metadata": {
        "id": "jvgO3JPvDQpL"
      },
      "source": [
        "from keras.optimizers import Adam\r\n",
        "opt = Adam(learning_rate=0.01)\r\n",
        "model.compile(optimizer = opt, loss = 'CategoricalCrossentropy', metrics = ['accuracy'])"
      ],
      "execution_count": null,
      "outputs": []
    },
    {
      "cell_type": "markdown",
      "metadata": {
        "id": "U_Q6ihfUJ6Hm"
      },
      "source": [
        "### Get model summary (2 Marks)"
      ]
    },
    {
      "cell_type": "code",
      "metadata": {
        "id": "b3Sxnbo-lhfV",
        "colab": {
          "base_uri": "https://localhost:8080/"
        },
        "outputId": "26cd7575-f119-4db6-e16b-a5159e20b923"
      },
      "source": [
        "model.summary()"
      ],
      "execution_count": null,
      "outputs": [
        {
          "output_type": "stream",
          "text": [
            "Model: \"sequential\"\n",
            "_________________________________________________________________\n",
            "Layer (type)                 Output Shape              Param #   \n",
            "=================================================================\n",
            "conv2d (Conv2D)              (None, 53, 53, 128)       3584      \n",
            "_________________________________________________________________\n",
            "max_pooling2d (MaxPooling2D) (None, 26, 26, 128)       0         \n",
            "_________________________________________________________________\n",
            "conv2d_1 (Conv2D)            (None, 24, 24, 64)        73792     \n",
            "_________________________________________________________________\n",
            "max_pooling2d_1 (MaxPooling2 (None, 12, 12, 64)        0         \n",
            "_________________________________________________________________\n",
            "batch_normalization (BatchNo (None, 12, 12, 64)        256       \n",
            "_________________________________________________________________\n",
            "conv2d_2 (Conv2D)            (None, 10, 10, 32)        18464     \n",
            "_________________________________________________________________\n",
            "max_pooling2d_2 (MaxPooling2 (None, 5, 5, 32)          0         \n",
            "_________________________________________________________________\n",
            "flatten (Flatten)            (None, 800)               0         \n",
            "_________________________________________________________________\n",
            "dense (Dense)                (None, 64)                51264     \n",
            "_________________________________________________________________\n",
            "dropout (Dropout)            (None, 64)                0         \n",
            "_________________________________________________________________\n",
            "dense_1 (Dense)              (None, 33)                2145      \n",
            "=================================================================\n",
            "Total params: 149,505\n",
            "Trainable params: 149,377\n",
            "Non-trainable params: 128\n",
            "_________________________________________________________________\n"
          ],
          "name": "stdout"
        }
      ]
    },
    {
      "cell_type": "markdown",
      "metadata": {
        "id": "4mK8GNxFJ9vB"
      },
      "source": [
        "### Fit the model (3 Marks)\n",
        "- Specify epochs\n",
        "- Specify batch_size\n",
        "- Give validation_data\n",
        "- Validation accuracy should be more than 90%"
      ]
    },
    {
      "cell_type": "code",
      "metadata": {
        "id": "2R0z9wnF7_mU"
      },
      "source": [
        ""
      ],
      "execution_count": null,
      "outputs": []
    },
    {
      "cell_type": "code",
      "metadata": {
        "id": "9SLjprPDDYOs"
      },
      "source": [
        "# checkpoint\r\n",
        "filepath=\"weights.trafficsign.transfer.preprocess.best.hdf5\"\r\n",
        "checkpoint = tf.keras.callbacks.ModelCheckpoint(filepath, monitor='val_accuracy', verbose=1, save_best_only=True, mode='max')"
      ],
      "execution_count": null,
      "outputs": []
    },
    {
      "cell_type": "code",
      "metadata": {
        "colab": {
          "base_uri": "https://localhost:8080/"
        },
        "id": "-xmspsS25eqb",
        "outputId": "c93d3018-053c-4f4e-cc29-74afc030a519"
      },
      "source": [
        "batch_size = 32\r\n",
        "\r\n",
        "fitted_model = model.fit(\r\n",
        "        train_generator,\r\n",
        "        #steps_per_epoch= int(train_generator.samples) // batch_size,\r\n",
        "        epochs=100,\r\n",
        "        validation_data=validation_generator,\r\n",
        "        #validation_steps= int(validation_generator.samples) // batch_size,\r\n",
        "        callbacks=[checkpoint]\r\n",
        "        )"
      ],
      "execution_count": null,
      "outputs": [
        {
          "output_type": "stream",
          "text": [
            "Epoch 1/100\n",
            "173/173 [==============================] - 6101s 35s/step - loss: 3.3132 - accuracy: 0.1369 - val_loss: 2.6590 - val_accuracy: 0.2380\n",
            "\n",
            "Epoch 00001: val_accuracy improved from -inf to 0.23805, saving model to weights.trafficsign.transfer.preprocess.best.hdf5\n",
            "Epoch 2/100\n",
            "173/173 [==============================] - 77s 447ms/step - loss: 1.6835 - accuracy: 0.4431 - val_loss: 1.6290 - val_accuracy: 0.5065\n",
            "\n",
            "Epoch 00002: val_accuracy improved from 0.23805 to 0.50652, saving model to weights.trafficsign.transfer.preprocess.best.hdf5\n",
            "Epoch 3/100\n",
            "173/173 [==============================] - 77s 444ms/step - loss: 1.3653 - accuracy: 0.5297 - val_loss: 1.3938 - val_accuracy: 0.5600\n",
            "\n",
            "Epoch 00003: val_accuracy improved from 0.50652 to 0.56002, saving model to weights.trafficsign.transfer.preprocess.best.hdf5\n",
            "Epoch 4/100\n",
            "173/173 [==============================] - 77s 447ms/step - loss: 1.1518 - accuracy: 0.6079 - val_loss: 0.9822 - val_accuracy: 0.7051\n",
            "\n",
            "Epoch 00004: val_accuracy improved from 0.56002 to 0.70505, saving model to weights.trafficsign.transfer.preprocess.best.hdf5\n",
            "Epoch 5/100\n",
            "173/173 [==============================] - 77s 444ms/step - loss: 1.0743 - accuracy: 0.6378 - val_loss: 0.7748 - val_accuracy: 0.7645\n",
            "\n",
            "Epoch 00005: val_accuracy improved from 0.70505 to 0.76453, saving model to weights.trafficsign.transfer.preprocess.best.hdf5\n",
            "Epoch 6/100\n",
            "173/173 [==============================] - 76s 441ms/step - loss: 0.9608 - accuracy: 0.6749 - val_loss: 0.8561 - val_accuracy: 0.7189\n",
            "\n",
            "Epoch 00006: val_accuracy did not improve from 0.76453\n",
            "Epoch 7/100\n",
            "173/173 [==============================] - 76s 441ms/step - loss: 0.8752 - accuracy: 0.6986 - val_loss: 0.6454 - val_accuracy: 0.8002\n",
            "\n",
            "Epoch 00007: val_accuracy improved from 0.76453 to 0.80024, saving model to weights.trafficsign.transfer.preprocess.best.hdf5\n",
            "Epoch 8/100\n",
            "173/173 [==============================] - 78s 449ms/step - loss: 0.8346 - accuracy: 0.7169 - val_loss: 0.6558 - val_accuracy: 0.8118\n",
            "\n",
            "Epoch 00008: val_accuracy improved from 0.80024 to 0.81179, saving model to weights.trafficsign.transfer.preprocess.best.hdf5\n",
            "Epoch 9/100\n",
            "173/173 [==============================] - 76s 442ms/step - loss: 0.7491 - accuracy: 0.7415 - val_loss: 0.6483 - val_accuracy: 0.7903\n",
            "\n",
            "Epoch 00009: val_accuracy did not improve from 0.81179\n",
            "Epoch 10/100\n",
            "173/173 [==============================] - 76s 442ms/step - loss: 0.6948 - accuracy: 0.7619 - val_loss: 1.1041 - val_accuracy: 0.7208\n",
            "\n",
            "Epoch 00010: val_accuracy did not improve from 0.81179\n",
            "Epoch 11/100\n",
            "173/173 [==============================] - 77s 445ms/step - loss: 0.8079 - accuracy: 0.7329 - val_loss: 1.3003 - val_accuracy: 0.6638\n",
            "\n",
            "Epoch 00011: val_accuracy did not improve from 0.81179\n",
            "Epoch 12/100\n",
            "173/173 [==============================] - 77s 446ms/step - loss: 0.7109 - accuracy: 0.7645 - val_loss: 0.5301 - val_accuracy: 0.8308\n",
            "\n",
            "Epoch 00012: val_accuracy improved from 0.81179 to 0.83080, saving model to weights.trafficsign.transfer.preprocess.best.hdf5\n",
            "Epoch 13/100\n",
            "173/173 [==============================] - 77s 444ms/step - loss: 0.6065 - accuracy: 0.7953 - val_loss: 0.5251 - val_accuracy: 0.8426\n",
            "\n",
            "Epoch 00013: val_accuracy improved from 0.83080 to 0.84261, saving model to weights.trafficsign.transfer.preprocess.best.hdf5\n",
            "Epoch 14/100\n",
            "173/173 [==============================] - 76s 440ms/step - loss: 0.7599 - accuracy: 0.7608 - val_loss: 0.7732 - val_accuracy: 0.7801\n",
            "\n",
            "Epoch 00014: val_accuracy did not improve from 0.84261\n",
            "Epoch 15/100\n",
            "173/173 [==============================] - 76s 440ms/step - loss: 0.6297 - accuracy: 0.7926 - val_loss: 0.5642 - val_accuracy: 0.8476\n",
            "\n",
            "Epoch 00015: val_accuracy improved from 0.84261 to 0.84764, saving model to weights.trafficsign.transfer.preprocess.best.hdf5\n",
            "Epoch 16/100\n",
            "173/173 [==============================] - 77s 444ms/step - loss: 0.5551 - accuracy: 0.8175 - val_loss: 0.5173 - val_accuracy: 0.8453\n",
            "\n",
            "Epoch 00016: val_accuracy did not improve from 0.84764\n",
            "Epoch 17/100\n",
            "173/173 [==============================] - 76s 437ms/step - loss: 0.5012 - accuracy: 0.8314 - val_loss: 0.4950 - val_accuracy: 0.8506\n",
            "\n",
            "Epoch 00017: val_accuracy improved from 0.84764 to 0.85062, saving model to weights.trafficsign.transfer.preprocess.best.hdf5\n",
            "Epoch 18/100\n",
            "173/173 [==============================] - 76s 439ms/step - loss: 0.4875 - accuracy: 0.8383 - val_loss: 0.6885 - val_accuracy: 0.8286\n",
            "\n",
            "Epoch 00018: val_accuracy did not improve from 0.85062\n",
            "Epoch 19/100\n",
            "173/173 [==============================] - 75s 436ms/step - loss: 0.4830 - accuracy: 0.8405 - val_loss: 0.5657 - val_accuracy: 0.8470\n",
            "\n",
            "Epoch 00019: val_accuracy did not improve from 0.85062\n",
            "Epoch 20/100\n",
            "173/173 [==============================] - 75s 436ms/step - loss: 0.4694 - accuracy: 0.8387 - val_loss: 0.5924 - val_accuracy: 0.8395\n",
            "\n",
            "Epoch 00020: val_accuracy did not improve from 0.85062\n",
            "Epoch 21/100\n",
            "173/173 [==============================] - 75s 434ms/step - loss: 0.4589 - accuracy: 0.8457 - val_loss: 0.6748 - val_accuracy: 0.8320\n",
            "\n",
            "Epoch 00021: val_accuracy did not improve from 0.85062\n",
            "Epoch 22/100\n",
            "173/173 [==============================] - 75s 434ms/step - loss: 0.4439 - accuracy: 0.8480 - val_loss: 0.5442 - val_accuracy: 0.8616\n",
            "\n",
            "Epoch 00022: val_accuracy improved from 0.85062 to 0.86162, saving model to weights.trafficsign.transfer.preprocess.best.hdf5\n",
            "Epoch 23/100\n",
            "173/173 [==============================] - 75s 436ms/step - loss: 0.4153 - accuracy: 0.8608 - val_loss: 0.5210 - val_accuracy: 0.8531\n",
            "\n",
            "Epoch 00023: val_accuracy did not improve from 0.86162\n",
            "Epoch 24/100\n",
            "173/173 [==============================] - 75s 436ms/step - loss: 0.4340 - accuracy: 0.8551 - val_loss: 0.5873 - val_accuracy: 0.8490\n",
            "\n",
            "Epoch 00024: val_accuracy did not improve from 0.86162\n",
            "Epoch 25/100\n",
            "173/173 [==============================] - 75s 433ms/step - loss: 0.4458 - accuracy: 0.8517 - val_loss: 0.5591 - val_accuracy: 0.8494\n",
            "\n",
            "Epoch 00025: val_accuracy did not improve from 0.86162\n",
            "Epoch 26/100\n",
            "173/173 [==============================] - 75s 432ms/step - loss: 0.4141 - accuracy: 0.8644 - val_loss: 0.6528 - val_accuracy: 0.8421\n",
            "\n",
            "Epoch 00026: val_accuracy did not improve from 0.86162\n",
            "Epoch 27/100\n",
            "173/173 [==============================] - 76s 437ms/step - loss: 0.4155 - accuracy: 0.8605 - val_loss: 0.4612 - val_accuracy: 0.8714\n",
            "\n",
            "Epoch 00027: val_accuracy improved from 0.86162 to 0.87140, saving model to weights.trafficsign.transfer.preprocess.best.hdf5\n",
            "Epoch 28/100\n",
            "173/173 [==============================] - 75s 432ms/step - loss: 0.3886 - accuracy: 0.8680 - val_loss: 0.4383 - val_accuracy: 0.8715\n",
            "\n",
            "Epoch 00028: val_accuracy improved from 0.87140 to 0.87154, saving model to weights.trafficsign.transfer.preprocess.best.hdf5\n",
            "Epoch 29/100\n",
            "173/173 [==============================] - 76s 437ms/step - loss: 0.3869 - accuracy: 0.8713 - val_loss: 0.5541 - val_accuracy: 0.8631\n",
            "\n",
            "Epoch 00029: val_accuracy did not improve from 0.87154\n",
            "Epoch 30/100\n",
            "173/173 [==============================] - 74s 430ms/step - loss: 0.3864 - accuracy: 0.8672 - val_loss: 0.4983 - val_accuracy: 0.8673\n",
            "\n",
            "Epoch 00030: val_accuracy did not improve from 0.87154\n",
            "Epoch 31/100\n",
            "173/173 [==============================] - 75s 434ms/step - loss: 0.3918 - accuracy: 0.8689 - val_loss: 0.4504 - val_accuracy: 0.8714\n",
            "\n",
            "Epoch 00031: val_accuracy did not improve from 0.87154\n",
            "Epoch 32/100\n",
            "173/173 [==============================] - 75s 434ms/step - loss: 0.3906 - accuracy: 0.8724 - val_loss: 0.5210 - val_accuracy: 0.8593\n",
            "\n",
            "Epoch 00032: val_accuracy did not improve from 0.87154\n",
            "Epoch 33/100\n",
            "173/173 [==============================] - 76s 438ms/step - loss: 0.3677 - accuracy: 0.8811 - val_loss: 0.3939 - val_accuracy: 0.8874\n",
            "\n",
            "Epoch 00033: val_accuracy improved from 0.87154 to 0.88743, saving model to weights.trafficsign.transfer.preprocess.best.hdf5\n",
            "Epoch 34/100\n",
            "173/173 [==============================] - 77s 442ms/step - loss: 0.3466 - accuracy: 0.8864 - val_loss: 0.5132 - val_accuracy: 0.8643\n",
            "\n",
            "Epoch 00034: val_accuracy did not improve from 0.88743\n",
            "Epoch 35/100\n",
            "173/173 [==============================] - 79s 458ms/step - loss: 0.3595 - accuracy: 0.8794 - val_loss: 0.4140 - val_accuracy: 0.8904\n",
            "\n",
            "Epoch 00035: val_accuracy improved from 0.88743 to 0.89041, saving model to weights.trafficsign.transfer.preprocess.best.hdf5\n",
            "Epoch 36/100\n",
            "173/173 [==============================] - 76s 437ms/step - loss: 0.3356 - accuracy: 0.8926 - val_loss: 0.4903 - val_accuracy: 0.8681\n",
            "\n",
            "Epoch 00036: val_accuracy did not improve from 0.89041\n",
            "Epoch 37/100\n",
            "173/173 [==============================] - 76s 438ms/step - loss: 0.3546 - accuracy: 0.8815 - val_loss: 0.4421 - val_accuracy: 0.8859\n",
            "\n",
            "Epoch 00037: val_accuracy did not improve from 0.89041\n",
            "Epoch 38/100\n",
            "173/173 [==============================] - 75s 434ms/step - loss: 0.3310 - accuracy: 0.8909 - val_loss: 0.4841 - val_accuracy: 0.8740\n",
            "\n",
            "Epoch 00038: val_accuracy did not improve from 0.89041\n",
            "Epoch 39/100\n",
            "173/173 [==============================] - 75s 433ms/step - loss: 0.3399 - accuracy: 0.8905 - val_loss: 0.6770 - val_accuracy: 0.8330\n",
            "\n",
            "Epoch 00039: val_accuracy did not improve from 0.89041\n",
            "Epoch 40/100\n",
            "173/173 [==============================] - 75s 434ms/step - loss: 0.3620 - accuracy: 0.8820 - val_loss: 0.4033 - val_accuracy: 0.8853\n",
            "\n",
            "Epoch 00040: val_accuracy did not improve from 0.89041\n",
            "Epoch 41/100\n",
            "173/173 [==============================] - 77s 443ms/step - loss: 0.3347 - accuracy: 0.8895 - val_loss: 0.5108 - val_accuracy: 0.8715\n",
            "\n",
            "Epoch 00041: val_accuracy did not improve from 0.89041\n",
            "Epoch 42/100\n",
            "173/173 [==============================] - 77s 446ms/step - loss: 0.3162 - accuracy: 0.8962 - val_loss: 0.4789 - val_accuracy: 0.8760\n",
            "\n",
            "Epoch 00042: val_accuracy did not improve from 0.89041\n",
            "Epoch 43/100\n",
            "173/173 [==============================] - 76s 442ms/step - loss: 0.3152 - accuracy: 0.8967 - val_loss: 0.4127 - val_accuracy: 0.8995\n",
            "\n",
            "Epoch 00043: val_accuracy improved from 0.89041 to 0.89951, saving model to weights.trafficsign.transfer.preprocess.best.hdf5\n",
            "Epoch 44/100\n",
            "173/173 [==============================] - 75s 435ms/step - loss: 0.3131 - accuracy: 0.8993 - val_loss: 0.4434 - val_accuracy: 0.8842\n",
            "\n",
            "Epoch 00044: val_accuracy did not improve from 0.89951\n",
            "Epoch 45/100\n",
            "173/173 [==============================] - 78s 453ms/step - loss: 0.3060 - accuracy: 0.8980 - val_loss: 0.4791 - val_accuracy: 0.8865\n",
            "\n",
            "Epoch 00045: val_accuracy did not improve from 0.89951\n",
            "Epoch 46/100\n",
            "173/173 [==============================] - 78s 453ms/step - loss: 0.3326 - accuracy: 0.8907 - val_loss: 0.4664 - val_accuracy: 0.8873\n",
            "\n",
            "Epoch 00046: val_accuracy did not improve from 0.89951\n",
            "Epoch 47/100\n",
            "173/173 [==============================] - 78s 450ms/step - loss: 0.2946 - accuracy: 0.9064 - val_loss: 0.5209 - val_accuracy: 0.8790\n",
            "\n",
            "Epoch 00047: val_accuracy did not improve from 0.89951\n",
            "Epoch 48/100\n",
            "173/173 [==============================] - 78s 448ms/step - loss: 0.3292 - accuracy: 0.8934 - val_loss: 0.4170 - val_accuracy: 0.8927\n",
            "\n",
            "Epoch 00048: val_accuracy did not improve from 0.89951\n",
            "Epoch 49/100\n",
            "173/173 [==============================] - 79s 455ms/step - loss: 0.3130 - accuracy: 0.8972 - val_loss: 0.4014 - val_accuracy: 0.9024\n",
            "\n",
            "Epoch 00049: val_accuracy improved from 0.89951 to 0.90236, saving model to weights.trafficsign.transfer.preprocess.best.hdf5\n",
            "Epoch 50/100\n",
            "173/173 [==============================] - 78s 449ms/step - loss: 0.3129 - accuracy: 0.8957 - val_loss: 0.4318 - val_accuracy: 0.8958\n",
            "\n",
            "Epoch 00050: val_accuracy did not improve from 0.90236\n",
            "Epoch 51/100\n",
            "173/173 [==============================] - 79s 455ms/step - loss: 0.3104 - accuracy: 0.9000 - val_loss: 0.4566 - val_accuracy: 0.8944\n",
            "\n",
            "Epoch 00051: val_accuracy did not improve from 0.90236\n",
            "Epoch 52/100\n",
            "173/173 [==============================] - 78s 454ms/step - loss: 0.3053 - accuracy: 0.9006 - val_loss: 0.5637 - val_accuracy: 0.8650\n",
            "\n",
            "Epoch 00052: val_accuracy did not improve from 0.90236\n",
            "Epoch 53/100\n",
            "173/173 [==============================] - 79s 459ms/step - loss: 0.2976 - accuracy: 0.8999 - val_loss: 0.5358 - val_accuracy: 0.8817\n",
            "\n",
            "Epoch 00053: val_accuracy did not improve from 0.90236\n",
            "Epoch 54/100\n",
            "173/173 [==============================] - 78s 452ms/step - loss: 0.3098 - accuracy: 0.9015 - val_loss: 0.4295 - val_accuracy: 0.8904\n",
            "\n",
            "Epoch 00054: val_accuracy did not improve from 0.90236\n",
            "Epoch 55/100\n",
            "173/173 [==============================] - 78s 451ms/step - loss: 0.2854 - accuracy: 0.9092 - val_loss: 0.4240 - val_accuracy: 0.8944\n",
            "\n",
            "Epoch 00055: val_accuracy did not improve from 0.90236\n",
            "Epoch 56/100\n",
            "173/173 [==============================] - 78s 449ms/step - loss: 0.2837 - accuracy: 0.9050 - val_loss: 0.9391 - val_accuracy: 0.8529\n",
            "\n",
            "Epoch 00056: val_accuracy did not improve from 0.90236\n",
            "Epoch 57/100\n",
            "173/173 [==============================] - 78s 449ms/step - loss: 0.3201 - accuracy: 0.8975 - val_loss: 0.4378 - val_accuracy: 0.8915\n",
            "\n",
            "Epoch 00057: val_accuracy did not improve from 0.90236\n",
            "Epoch 58/100\n",
            "173/173 [==============================] - 77s 444ms/step - loss: 0.2867 - accuracy: 0.9111 - val_loss: 0.4374 - val_accuracy: 0.8858\n",
            "\n",
            "Epoch 00058: val_accuracy did not improve from 0.90236\n",
            "Epoch 59/100\n",
            "173/173 [==============================] - 76s 441ms/step - loss: 0.2949 - accuracy: 0.9050 - val_loss: 0.4064 - val_accuracy: 0.9024\n",
            "\n",
            "Epoch 00059: val_accuracy did not improve from 0.90236\n",
            "Epoch 60/100\n",
            "173/173 [==============================] - 76s 438ms/step - loss: 0.2946 - accuracy: 0.9064 - val_loss: 0.4963 - val_accuracy: 0.8816\n",
            "\n",
            "Epoch 00060: val_accuracy did not improve from 0.90236\n",
            "Epoch 61/100\n",
            "173/173 [==============================] - 76s 441ms/step - loss: 0.2720 - accuracy: 0.9132 - val_loss: 0.4594 - val_accuracy: 0.8939\n",
            "\n",
            "Epoch 00061: val_accuracy did not improve from 0.90236\n",
            "Epoch 62/100\n",
            "173/173 [==============================] - 76s 440ms/step - loss: 0.2533 - accuracy: 0.9150 - val_loss: 0.4105 - val_accuracy: 0.8915\n",
            "\n",
            "Epoch 00062: val_accuracy did not improve from 0.90236\n",
            "Epoch 63/100\n",
            "173/173 [==============================] - 76s 442ms/step - loss: 0.2676 - accuracy: 0.9138 - val_loss: 0.5185 - val_accuracy: 0.8825\n",
            "\n",
            "Epoch 00063: val_accuracy did not improve from 0.90236\n",
            "Epoch 64/100\n",
            "173/173 [==============================] - 76s 439ms/step - loss: 0.2644 - accuracy: 0.9162 - val_loss: 0.5045 - val_accuracy: 0.8710\n",
            "\n",
            "Epoch 00064: val_accuracy did not improve from 0.90236\n",
            "Epoch 65/100\n",
            "173/173 [==============================] - 77s 448ms/step - loss: 0.3082 - accuracy: 0.9067 - val_loss: 0.5873 - val_accuracy: 0.8692\n",
            "\n",
            "Epoch 00065: val_accuracy did not improve from 0.90236\n",
            "Epoch 66/100\n",
            "173/173 [==============================] - 76s 439ms/step - loss: 0.2757 - accuracy: 0.9165 - val_loss: 0.5307 - val_accuracy: 0.8795\n",
            "\n",
            "Epoch 00066: val_accuracy did not improve from 0.90236\n",
            "Epoch 67/100\n",
            "173/173 [==============================] - 77s 448ms/step - loss: 0.2839 - accuracy: 0.9121 - val_loss: 0.4118 - val_accuracy: 0.8956\n",
            "\n",
            "Epoch 00067: val_accuracy did not improve from 0.90236\n",
            "Epoch 68/100\n",
            "173/173 [==============================] - 76s 439ms/step - loss: 0.2533 - accuracy: 0.9184 - val_loss: 0.4345 - val_accuracy: 0.8905\n",
            "\n",
            "Epoch 00068: val_accuracy did not improve from 0.90236\n",
            "Epoch 69/100\n",
            "173/173 [==============================] - 77s 446ms/step - loss: 0.2449 - accuracy: 0.9200 - val_loss: 0.4489 - val_accuracy: 0.8866\n",
            "\n",
            "Epoch 00069: val_accuracy did not improve from 0.90236\n",
            "Epoch 70/100\n",
            "173/173 [==============================] - 75s 435ms/step - loss: 0.2932 - accuracy: 0.9061 - val_loss: 0.5249 - val_accuracy: 0.8874\n",
            "\n",
            "Epoch 00070: val_accuracy did not improve from 0.90236\n",
            "Epoch 71/100\n",
            "173/173 [==============================] - 76s 439ms/step - loss: 0.2828 - accuracy: 0.9110 - val_loss: 0.5623 - val_accuracy: 0.8820\n",
            "\n",
            "Epoch 00071: val_accuracy did not improve from 0.90236\n",
            "Epoch 72/100\n",
            "173/173 [==============================] - 76s 438ms/step - loss: 0.2537 - accuracy: 0.9193 - val_loss: 0.4661 - val_accuracy: 0.8904\n",
            "\n",
            "Epoch 00072: val_accuracy did not improve from 0.90236\n",
            "Epoch 73/100\n",
            "173/173 [==============================] - 76s 441ms/step - loss: 0.2548 - accuracy: 0.9176 - val_loss: 0.5184 - val_accuracy: 0.8900\n",
            "\n",
            "Epoch 00073: val_accuracy did not improve from 0.90236\n",
            "Epoch 74/100\n",
            "173/173 [==============================] - 75s 433ms/step - loss: 0.2541 - accuracy: 0.9205 - val_loss: 0.4713 - val_accuracy: 0.9011\n",
            "\n",
            "Epoch 00074: val_accuracy did not improve from 0.90236\n",
            "Epoch 75/100\n",
            "173/173 [==============================] - 75s 435ms/step - loss: 0.2469 - accuracy: 0.9212 - val_loss: 0.4810 - val_accuracy: 0.8963\n",
            "\n",
            "Epoch 00075: val_accuracy did not improve from 0.90236\n",
            "Epoch 76/100\n",
            "173/173 [==============================] - 75s 434ms/step - loss: 0.2475 - accuracy: 0.9226 - val_loss: 0.5185 - val_accuracy: 0.8923\n",
            "\n",
            "Epoch 00076: val_accuracy did not improve from 0.90236\n",
            "Epoch 77/100\n",
            "173/173 [==============================] - 76s 438ms/step - loss: 0.2518 - accuracy: 0.9178 - val_loss: 0.5478 - val_accuracy: 0.8832\n",
            "\n",
            "Epoch 00077: val_accuracy did not improve from 0.90236\n",
            "Epoch 78/100\n",
            "173/173 [==============================] - 75s 435ms/step - loss: 0.2554 - accuracy: 0.9169 - val_loss: 0.4489 - val_accuracy: 0.9018\n",
            "\n",
            "Epoch 00078: val_accuracy did not improve from 0.90236\n",
            "Epoch 79/100\n",
            "173/173 [==============================] - 76s 439ms/step - loss: 0.2427 - accuracy: 0.9231 - val_loss: 0.6393 - val_accuracy: 0.8797\n",
            "\n",
            "Epoch 00079: val_accuracy did not improve from 0.90236\n",
            "Epoch 80/100\n",
            "173/173 [==============================] - 75s 436ms/step - loss: 0.2384 - accuracy: 0.9238 - val_loss: 0.4579 - val_accuracy: 0.9067\n",
            "\n",
            "Epoch 00080: val_accuracy improved from 0.90236 to 0.90671, saving model to weights.trafficsign.transfer.preprocess.best.hdf5\n",
            "Epoch 81/100\n",
            "173/173 [==============================] - 77s 448ms/step - loss: 0.2461 - accuracy: 0.9213 - val_loss: 0.4771 - val_accuracy: 0.8963\n",
            "\n",
            "Epoch 00081: val_accuracy did not improve from 0.90671\n",
            "Epoch 82/100\n",
            "173/173 [==============================] - 77s 448ms/step - loss: 0.2396 - accuracy: 0.9244 - val_loss: 0.4636 - val_accuracy: 0.8999\n",
            "\n",
            "Epoch 00082: val_accuracy did not improve from 0.90671\n",
            "Epoch 83/100\n",
            "173/173 [==============================] - 78s 448ms/step - loss: 0.2430 - accuracy: 0.9227 - val_loss: 0.4381 - val_accuracy: 0.8945\n",
            "\n",
            "Epoch 00083: val_accuracy did not improve from 0.90671\n",
            "Epoch 84/100\n",
            "173/173 [==============================] - 77s 444ms/step - loss: 0.3529 - accuracy: 0.9016 - val_loss: 0.5701 - val_accuracy: 0.8787\n",
            "\n",
            "Epoch 00084: val_accuracy did not improve from 0.90671\n",
            "Epoch 85/100\n",
            "173/173 [==============================] - 78s 451ms/step - loss: 0.3042 - accuracy: 0.9092 - val_loss: 0.4780 - val_accuracy: 0.8986\n",
            "\n",
            "Epoch 00085: val_accuracy did not improve from 0.90671\n",
            "Epoch 86/100\n",
            "173/173 [==============================] - 77s 444ms/step - loss: 0.2299 - accuracy: 0.9290 - val_loss: 0.4415 - val_accuracy: 0.9003\n",
            "\n",
            "Epoch 00086: val_accuracy did not improve from 0.90671\n",
            "Epoch 87/100\n",
            "173/173 [==============================] - 78s 450ms/step - loss: 0.2149 - accuracy: 0.9287 - val_loss: 0.4827 - val_accuracy: 0.9001\n",
            "\n",
            "Epoch 00087: val_accuracy did not improve from 0.90671\n",
            "Epoch 88/100\n",
            "173/173 [==============================] - 76s 441ms/step - loss: 0.2098 - accuracy: 0.9318 - val_loss: 0.5055 - val_accuracy: 0.8884\n",
            "\n",
            "Epoch 00088: val_accuracy did not improve from 0.90671\n",
            "Epoch 89/100\n",
            "173/173 [==============================] - 79s 455ms/step - loss: 0.2234 - accuracy: 0.9299 - val_loss: 0.5249 - val_accuracy: 0.8957\n",
            "\n",
            "Epoch 00089: val_accuracy did not improve from 0.90671\n",
            "Epoch 90/100\n",
            "173/173 [==============================] - 77s 444ms/step - loss: 0.2165 - accuracy: 0.9333 - val_loss: 0.4058 - val_accuracy: 0.9071\n",
            "\n",
            "Epoch 00090: val_accuracy improved from 0.90671 to 0.90712, saving model to weights.trafficsign.transfer.preprocess.best.hdf5\n",
            "Epoch 91/100\n",
            "173/173 [==============================] - 79s 457ms/step - loss: 0.2081 - accuracy: 0.9308 - val_loss: 0.4177 - val_accuracy: 0.9034\n",
            "\n",
            "Epoch 00091: val_accuracy did not improve from 0.90712\n",
            "Epoch 92/100\n",
            "173/173 [==============================] - 78s 448ms/step - loss: 0.2025 - accuracy: 0.9341 - val_loss: 0.4816 - val_accuracy: 0.9013\n",
            "\n",
            "Epoch 00092: val_accuracy did not improve from 0.90712\n",
            "Epoch 93/100\n",
            "173/173 [==============================] - 77s 447ms/step - loss: 0.1975 - accuracy: 0.9372 - val_loss: 0.5132 - val_accuracy: 0.9022\n",
            "\n",
            "Epoch 00093: val_accuracy did not improve from 0.90712\n",
            "Epoch 94/100\n",
            "173/173 [==============================] - 75s 434ms/step - loss: 0.1782 - accuracy: 0.9412 - val_loss: 0.5919 - val_accuracy: 0.8884\n",
            "\n",
            "Epoch 00094: val_accuracy did not improve from 0.90712\n",
            "Epoch 95/100\n",
            "173/173 [==============================] - 75s 436ms/step - loss: 0.2000 - accuracy: 0.9361 - val_loss: 0.4659 - val_accuracy: 0.9003\n",
            "\n",
            "Epoch 00095: val_accuracy did not improve from 0.90712\n",
            "Epoch 96/100\n",
            "173/173 [==============================] - 75s 434ms/step - loss: 0.2137 - accuracy: 0.9345 - val_loss: 0.4590 - val_accuracy: 0.8862\n",
            "\n",
            "Epoch 00096: val_accuracy did not improve from 0.90712\n",
            "Epoch 97/100\n",
            "173/173 [==============================] - 75s 433ms/step - loss: 0.1948 - accuracy: 0.9389 - val_loss: 0.5765 - val_accuracy: 0.8904\n",
            "\n",
            "Epoch 00097: val_accuracy did not improve from 0.90712\n",
            "Epoch 98/100\n",
            "173/173 [==============================] - 77s 445ms/step - loss: 0.2397 - accuracy: 0.9268 - val_loss: 0.6796 - val_accuracy: 0.8764\n",
            "\n",
            "Epoch 00098: val_accuracy did not improve from 0.90712\n",
            "Epoch 99/100\n",
            "173/173 [==============================] - 76s 441ms/step - loss: 0.5752 - accuracy: 0.8617 - val_loss: 0.5301 - val_accuracy: 0.8889\n",
            "\n",
            "Epoch 00099: val_accuracy did not improve from 0.90712\n",
            "Epoch 100/100\n",
            "173/173 [==============================] - 76s 438ms/step - loss: 0.2611 - accuracy: 0.9202 - val_loss: 0.5751 - val_accuracy: 0.8980\n",
            "\n",
            "Epoch 00100: val_accuracy did not improve from 0.90712\n"
          ],
          "name": "stdout"
        }
      ]
    },
    {
      "cell_type": "markdown",
      "metadata": {
        "id": "diNbnH_dKO8J"
      },
      "source": [
        "### Draw plots (3 Marks)\n",
        "\n",
        "\n",
        "- Plot training accuracy and validation accuracy with respect to epochs\n",
        "- Plot training loss and validation loss with respect to epochs"
      ]
    },
    {
      "cell_type": "code",
      "metadata": {
        "id": "8uoIPTssDofN",
        "colab": {
          "base_uri": "https://localhost:8080/",
          "height": 607
        },
        "outputId": "eeea4769-f1a6-4d04-9023-21ce84b6dc4c"
      },
      "source": [
        "# Evaluate train and validation accuracies and losses\r\n",
        "\r\n",
        "train_acc = fitted_model.history['accuracy']\r\n",
        "val_acc = fitted_model.history['val_accuracy']\r\n",
        "\r\n",
        "train_loss = fitted_model.history['loss']\r\n",
        "val_loss = fitted_model.history['val_loss']\r\n",
        "\r\n",
        "\r\n",
        "\r\n",
        "plt.figure(figsize=(20, 10))\r\n",
        "\r\n",
        "plt.subplot(1, 2, 1)\r\n",
        "plt.plot(train_acc, label='Training Accuracy')\r\n",
        "plt.plot(val_acc, label='Validation Accuracy')\r\n",
        "plt.legend()\r\n",
        "plt.title('Epochs vs. Training and Validation Accuracy')\r\n",
        "    \r\n",
        "plt.subplot(1, 2, 2)\r\n",
        "plt.plot(train_loss, label='Training Loss')\r\n",
        "plt.plot(val_loss, label='Validation Loss')\r\n",
        "plt.legend()\r\n",
        "plt.title('Epochs vs. Training and Validation Loss')\r\n",
        "\r\n",
        "plt.show()"
      ],
      "execution_count": null,
      "outputs": [
        {
          "output_type": "display_data",
          "data": {
            "image/png": "[encoded data removed]",
            "text/plain": [
              "<Figure size 1440x720 with 2 Axes>"
            ]
          },
          "metadata": {
            "tags": [],
            "needs_background": "light"
          }
        }
      ]
    },
    {
      "cell_type": "code",
      "metadata": {
        "id": "VHtTCQZLL7b1"
      },
      "source": [
        "from keras.applications import ResNet50,Xception\r\n",
        "tf.keras.backend.clear_session()"
      ],
      "execution_count": null,
      "outputs": []
    },
    {
      "cell_type": "code",
      "metadata": {
        "id": "ewlkUVReNR_J"
      },
      "source": [
        "conv_base = Xception(weights='imagenet',include_top=False,input_shape=(71,71,3))"
      ],
      "execution_count": null,
      "outputs": []
    },
    {
      "cell_type": "code",
      "metadata": {
        "colab": {
          "base_uri": "https://localhost:8080/"
        },
        "id": "ZGNUDSUiOPtx",
        "outputId": "4f66337b-8245-46bd-83d2-5639923ebf40"
      },
      "source": [
        "conv_base.summary()"
      ],
      "execution_count": null,
      "outputs": [
        {
          "output_type": "stream",
          "text": [
            "Model: \"xception\"\n",
            "__________________________________________________________________________________________________\n",
            "Layer (type)                    Output Shape         Param #     Connected to                     \n",
            "==================================================================================================\n",
            "input_1 (InputLayer)            [(None, 71, 71, 3)]  0                                            \n",
            "__________________________________________________________________________________________________\n",
            "block1_conv1 (Conv2D)           (None, 35, 35, 32)   864         input_1[0][0]                    \n",
            "__________________________________________________________________________________________________\n",
            "block1_conv1_bn (BatchNormaliza (None, 35, 35, 32)   128         block1_conv1[0][0]               \n",
            "__________________________________________________________________________________________________\n",
            "block1_conv1_act (Activation)   (None, 35, 35, 32)   0           block1_conv1_bn[0][0]            \n",
            "__________________________________________________________________________________________________\n",
            "block1_conv2 (Conv2D)           (None, 33, 33, 64)   18432       block1_conv1_act[0][0]           \n",
            "__________________________________________________________________________________________________\n",
            "block1_conv2_bn (BatchNormaliza (None, 33, 33, 64)   256         block1_conv2[0][0]               \n",
            "__________________________________________________________________________________________________\n",
            "block1_conv2_act (Activation)   (None, 33, 33, 64)   0           block1_conv2_bn[0][0]            \n",
            "__________________________________________________________________________________________________\n",
            "block2_sepconv1 (SeparableConv2 (None, 33, 33, 128)  8768        block1_conv2_act[0][0]           \n",
            "__________________________________________________________________________________________________\n",
            "block2_sepconv1_bn (BatchNormal (None, 33, 33, 128)  512         block2_sepconv1[0][0]            \n",
            "__________________________________________________________________________________________________\n",
            "block2_sepconv2_act (Activation (None, 33, 33, 128)  0           block2_sepconv1_bn[0][0]         \n",
            "__________________________________________________________________________________________________\n",
            "block2_sepconv2 (SeparableConv2 (None, 33, 33, 128)  17536       block2_sepconv2_act[0][0]        \n",
            "__________________________________________________________________________________________________\n",
            "block2_sepconv2_bn (BatchNormal (None, 33, 33, 128)  512         block2_sepconv2[0][0]            \n",
            "__________________________________________________________________________________________________\n",
            "conv2d (Conv2D)                 (None, 17, 17, 128)  8192        block1_conv2_act[0][0]           \n",
            "__________________________________________________________________________________________________\n",
            "block2_pool (MaxPooling2D)      (None, 17, 17, 128)  0           block2_sepconv2_bn[0][0]         \n",
            "__________________________________________________________________________________________________\n",
            "batch_normalization (BatchNorma (None, 17, 17, 128)  512         conv2d[0][0]                     \n",
            "__________________________________________________________________________________________________\n",
            "add (Add)                       (None, 17, 17, 128)  0           block2_pool[0][0]                \n",
            "                                                                 batch_normalization[0][0]        \n",
            "__________________________________________________________________________________________________\n",
            "block3_sepconv1_act (Activation (None, 17, 17, 128)  0           add[0][0]                        \n",
            "__________________________________________________________________________________________________\n",
            "block3_sepconv1 (SeparableConv2 (None, 17, 17, 256)  33920       block3_sepconv1_act[0][0]        \n",
            "__________________________________________________________________________________________________\n",
            "block3_sepconv1_bn (BatchNormal (None, 17, 17, 256)  1024        block3_sepconv1[0][0]            \n",
            "__________________________________________________________________________________________________\n",
            "block3_sepconv2_act (Activation (None, 17, 17, 256)  0           block3_sepconv1_bn[0][0]         \n",
            "__________________________________________________________________________________________________\n",
            "block3_sepconv2 (SeparableConv2 (None, 17, 17, 256)  67840       block3_sepconv2_act[0][0]        \n",
            "__________________________________________________________________________________________________\n",
            "block3_sepconv2_bn (BatchNormal (None, 17, 17, 256)  1024        block3_sepconv2[0][0]            \n",
            "__________________________________________________________________________________________________\n",
            "conv2d_1 (Conv2D)               (None, 9, 9, 256)    32768       add[0][0]                        \n",
            "__________________________________________________________________________________________________\n",
            "block3_pool (MaxPooling2D)      (None, 9, 9, 256)    0           block3_sepconv2_bn[0][0]         \n",
            "__________________________________________________________________________________________________\n",
            "batch_normalization_1 (BatchNor (None, 9, 9, 256)    1024        conv2d_1[0][0]                   \n",
            "__________________________________________________________________________________________________\n",
            "add_1 (Add)                     (None, 9, 9, 256)    0           block3_pool[0][0]                \n",
            "                                                                 batch_normalization_1[0][0]      \n",
            "__________________________________________________________________________________________________\n",
            "block4_sepconv1_act (Activation (None, 9, 9, 256)    0           add_1[0][0]                      \n",
            "__________________________________________________________________________________________________\n",
            "block4_sepconv1 (SeparableConv2 (None, 9, 9, 728)    188672      block4_sepconv1_act[0][0]        \n",
            "__________________________________________________________________________________________________\n",
            "block4_sepconv1_bn (BatchNormal (None, 9, 9, 728)    2912        block4_sepconv1[0][0]            \n",
            "__________________________________________________________________________________________________\n",
            "block4_sepconv2_act (Activation (None, 9, 9, 728)    0           block4_sepconv1_bn[0][0]         \n",
            "__________________________________________________________________________________________________\n",
            "block4_sepconv2 (SeparableConv2 (None, 9, 9, 728)    536536      block4_sepconv2_act[0][0]        \n",
            "__________________________________________________________________________________________________\n",
            "block4_sepconv2_bn (BatchNormal (None, 9, 9, 728)    2912        block4_sepconv2[0][0]            \n",
            "__________________________________________________________________________________________________\n",
            "conv2d_2 (Conv2D)               (None, 5, 5, 728)    186368      add_1[0][0]                      \n",
            "__________________________________________________________________________________________________\n",
            "block4_pool (MaxPooling2D)      (None, 5, 5, 728)    0           block4_sepconv2_bn[0][0]         \n",
            "__________________________________________________________________________________________________\n",
            "batch_normalization_2 (BatchNor (None, 5, 5, 728)    2912        conv2d_2[0][0]                   \n",
            "__________________________________________________________________________________________________\n",
            "add_2 (Add)                     (None, 5, 5, 728)    0           block4_pool[0][0]                \n",
            "                                                                 batch_normalization_2[0][0]      \n",
            "__________________________________________________________________________________________________\n",
            "block5_sepconv1_act (Activation (None, 5, 5, 728)    0           add_2[0][0]                      \n",
            "__________________________________________________________________________________________________\n",
            "block5_sepconv1 (SeparableConv2 (None, 5, 5, 728)    536536      block5_sepconv1_act[0][0]        \n",
            "__________________________________________________________________________________________________\n",
            "block5_sepconv1_bn (BatchNormal (None, 5, 5, 728)    2912        block5_sepconv1[0][0]            \n",
            "__________________________________________________________________________________________________\n",
            "block5_sepconv2_act (Activation (None, 5, 5, 728)    0           block5_sepconv1_bn[0][0]         \n",
            "__________________________________________________________________________________________________\n",
            "block5_sepconv2 (SeparableConv2 (None, 5, 5, 728)    536536      block5_sepconv2_act[0][0]        \n",
            "__________________________________________________________________________________________________\n",
            "block5_sepconv2_bn (BatchNormal (None, 5, 5, 728)    2912        block5_sepconv2[0][0]            \n",
            "__________________________________________________________________________________________________\n",
            "block5_sepconv3_act (Activation (None, 5, 5, 728)    0           block5_sepconv2_bn[0][0]         \n",
            "__________________________________________________________________________________________________\n",
            "block5_sepconv3 (SeparableConv2 (None, 5, 5, 728)    536536      block5_sepconv3_act[0][0]        \n",
            "__________________________________________________________________________________________________\n",
            "block5_sepconv3_bn (BatchNormal (None, 5, 5, 728)    2912        block5_sepconv3[0][0]            \n",
            "__________________________________________________________________________________________________\n",
            "add_3 (Add)                     (None, 5, 5, 728)    0           block5_sepconv3_bn[0][0]         \n",
            "                                                                 add_2[0][0]                      \n",
            "__________________________________________________________________________________________________\n",
            "block6_sepconv1_act (Activation (None, 5, 5, 728)    0           add_3[0][0]                      \n",
            "__________________________________________________________________________________________________\n",
            "block6_sepconv1 (SeparableConv2 (None, 5, 5, 728)    536536      block6_sepconv1_act[0][0]        \n",
            "__________________________________________________________________________________________________\n",
            "block6_sepconv1_bn (BatchNormal (None, 5, 5, 728)    2912        block6_sepconv1[0][0]            \n",
            "__________________________________________________________________________________________________\n",
            "block6_sepconv2_act (Activation (None, 5, 5, 728)    0           block6_sepconv1_bn[0][0]         \n",
            "__________________________________________________________________________________________________\n",
            "block6_sepconv2 (SeparableConv2 (None, 5, 5, 728)    536536      block6_sepconv2_act[0][0]        \n",
            "__________________________________________________________________________________________________\n",
            "block6_sepconv2_bn (BatchNormal (None, 5, 5, 728)    2912        block6_sepconv2[0][0]            \n",
            "__________________________________________________________________________________________________\n",
            "block6_sepconv3_act (Activation (None, 5, 5, 728)    0           block6_sepconv2_bn[0][0]         \n",
            "__________________________________________________________________________________________________\n",
            "block6_sepconv3 (SeparableConv2 (None, 5, 5, 728)    536536      block6_sepconv3_act[0][0]        \n",
            "__________________________________________________________________________________________________\n",
            "block6_sepconv3_bn (BatchNormal (None, 5, 5, 728)    2912        block6_sepconv3[0][0]            \n",
            "__________________________________________________________________________________________________\n",
            "add_4 (Add)                     (None, 5, 5, 728)    0           block6_sepconv3_bn[0][0]         \n",
            "                                                                 add_3[0][0]                      \n",
            "__________________________________________________________________________________________________\n",
            "block7_sepconv1_act (Activation (None, 5, 5, 728)    0           add_4[0][0]                      \n",
            "__________________________________________________________________________________________________\n",
            "block7_sepconv1 (SeparableConv2 (None, 5, 5, 728)    536536      block7_sepconv1_act[0][0]        \n",
            "__________________________________________________________________________________________________\n",
            "block7_sepconv1_bn (BatchNormal (None, 5, 5, 728)    2912        block7_sepconv1[0][0]            \n",
            "__________________________________________________________________________________________________\n",
            "block7_sepconv2_act (Activation (None, 5, 5, 728)    0           block7_sepconv1_bn[0][0]         \n",
            "__________________________________________________________________________________________________\n",
            "block7_sepconv2 (SeparableConv2 (None, 5, 5, 728)    536536      block7_sepconv2_act[0][0]        \n",
            "__________________________________________________________________________________________________\n",
            "block7_sepconv2_bn (BatchNormal (None, 5, 5, 728)    2912        block7_sepconv2[0][0]            \n",
            "__________________________________________________________________________________________________\n",
            "block7_sepconv3_act (Activation (None, 5, 5, 728)    0           block7_sepconv2_bn[0][0]         \n",
            "__________________________________________________________________________________________________\n",
            "block7_sepconv3 (SeparableConv2 (None, 5, 5, 728)    536536      block7_sepconv3_act[0][0]        \n",
            "__________________________________________________________________________________________________\n",
            "block7_sepconv3_bn (BatchNormal (None, 5, 5, 728)    2912        block7_sepconv3[0][0]            \n",
            "__________________________________________________________________________________________________\n",
            "add_5 (Add)                     (None, 5, 5, 728)    0           block7_sepconv3_bn[0][0]         \n",
            "                                                                 add_4[0][0]                      \n",
            "__________________________________________________________________________________________________\n",
            "block8_sepconv1_act (Activation (None, 5, 5, 728)    0           add_5[0][0]                      \n",
            "__________________________________________________________________________________________________\n",
            "block8_sepconv1 (SeparableConv2 (None, 5, 5, 728)    536536      block8_sepconv1_act[0][0]        \n",
            "__________________________________________________________________________________________________\n",
            "block8_sepconv1_bn (BatchNormal (None, 5, 5, 728)    2912        block8_sepconv1[0][0]            \n",
            "__________________________________________________________________________________________________\n",
            "block8_sepconv2_act (Activation (None, 5, 5, 728)    0           block8_sepconv1_bn[0][0]         \n",
            "__________________________________________________________________________________________________\n",
            "block8_sepconv2 (SeparableConv2 (None, 5, 5, 728)    536536      block8_sepconv2_act[0][0]        \n",
            "__________________________________________________________________________________________________\n",
            "block8_sepconv2_bn (BatchNormal (None, 5, 5, 728)    2912        block8_sepconv2[0][0]            \n",
            "__________________________________________________________________________________________________\n",
            "block8_sepconv3_act (Activation (None, 5, 5, 728)    0           block8_sepconv2_bn[0][0]         \n",
            "__________________________________________________________________________________________________\n",
            "block8_sepconv3 (SeparableConv2 (None, 5, 5, 728)    536536      block8_sepconv3_act[0][0]        \n",
            "__________________________________________________________________________________________________\n",
            "block8_sepconv3_bn (BatchNormal (None, 5, 5, 728)    2912        block8_sepconv3[0][0]            \n",
            "__________________________________________________________________________________________________\n",
            "add_6 (Add)                     (None, 5, 5, 728)    0           block8_sepconv3_bn[0][0]         \n",
            "                                                                 add_5[0][0]                      \n",
            "__________________________________________________________________________________________________\n",
            "block9_sepconv1_act (Activation (None, 5, 5, 728)    0           add_6[0][0]                      \n",
            "__________________________________________________________________________________________________\n",
            "block9_sepconv1 (SeparableConv2 (None, 5, 5, 728)    536536      block9_sepconv1_act[0][0]        \n",
            "__________________________________________________________________________________________________\n",
            "block9_sepconv1_bn (BatchNormal (None, 5, 5, 728)    2912        block9_sepconv1[0][0]            \n",
            "__________________________________________________________________________________________________\n",
            "block9_sepconv2_act (Activation (None, 5, 5, 728)    0           block9_sepconv1_bn[0][0]         \n",
            "__________________________________________________________________________________________________\n",
            "block9_sepconv2 (SeparableConv2 (None, 5, 5, 728)    536536      block9_sepconv2_act[0][0]        \n",
            "__________________________________________________________________________________________________\n",
            "block9_sepconv2_bn (BatchNormal (None, 5, 5, 728)    2912        block9_sepconv2[0][0]            \n",
            "__________________________________________________________________________________________________\n",
            "block9_sepconv3_act (Activation (None, 5, 5, 728)    0           block9_sepconv2_bn[0][0]         \n",
            "__________________________________________________________________________________________________\n",
            "block9_sepconv3 (SeparableConv2 (None, 5, 5, 728)    536536      block9_sepconv3_act[0][0]        \n",
            "__________________________________________________________________________________________________\n",
            "block9_sepconv3_bn (BatchNormal (None, 5, 5, 728)    2912        block9_sepconv3[0][0]            \n",
            "__________________________________________________________________________________________________\n",
            "add_7 (Add)                     (None, 5, 5, 728)    0           block9_sepconv3_bn[0][0]         \n",
            "                                                                 add_6[0][0]                      \n",
            "__________________________________________________________________________________________________\n",
            "block10_sepconv1_act (Activatio (None, 5, 5, 728)    0           add_7[0][0]                      \n",
            "__________________________________________________________________________________________________\n",
            "block10_sepconv1 (SeparableConv (None, 5, 5, 728)    536536      block10_sepconv1_act[0][0]       \n",
            "__________________________________________________________________________________________________\n",
            "block10_sepconv1_bn (BatchNorma (None, 5, 5, 728)    2912        block10_sepconv1[0][0]           \n",
            "__________________________________________________________________________________________________\n",
            "block10_sepconv2_act (Activatio (None, 5, 5, 728)    0           block10_sepconv1_bn[0][0]        \n",
            "__________________________________________________________________________________________________\n",
            "block10_sepconv2 (SeparableConv (None, 5, 5, 728)    536536      block10_sepconv2_act[0][0]       \n",
            "__________________________________________________________________________________________________\n",
            "block10_sepconv2_bn (BatchNorma (None, 5, 5, 728)    2912        block10_sepconv2[0][0]           \n",
            "__________________________________________________________________________________________________\n",
            "block10_sepconv3_act (Activatio (None, 5, 5, 728)    0           block10_sepconv2_bn[0][0]        \n",
            "__________________________________________________________________________________________________\n",
            "block10_sepconv3 (SeparableConv (None, 5, 5, 728)    536536      block10_sepconv3_act[0][0]       \n",
            "__________________________________________________________________________________________________\n",
            "block10_sepconv3_bn (BatchNorma (None, 5, 5, 728)    2912        block10_sepconv3[0][0]           \n",
            "__________________________________________________________________________________________________\n",
            "add_8 (Add)                     (None, 5, 5, 728)    0           block10_sepconv3_bn[0][0]        \n",
            "                                                                 add_7[0][0]                      \n",
            "__________________________________________________________________________________________________\n",
            "block11_sepconv1_act (Activatio (None, 5, 5, 728)    0           add_8[0][0]                      \n",
            "__________________________________________________________________________________________________\n",
            "block11_sepconv1 (SeparableConv (None, 5, 5, 728)    536536      block11_sepconv1_act[0][0]       \n",
            "__________________________________________________________________________________________________\n",
            "block11_sepconv1_bn (BatchNorma (None, 5, 5, 728)    2912        block11_sepconv1[0][0]           \n",
            "__________________________________________________________________________________________________\n",
            "block11_sepconv2_act (Activatio (None, 5, 5, 728)    0           block11_sepconv1_bn[0][0]        \n",
            "__________________________________________________________________________________________________\n",
            "block11_sepconv2 (SeparableConv (None, 5, 5, 728)    536536      block11_sepconv2_act[0][0]       \n",
            "__________________________________________________________________________________________________\n",
            "block11_sepconv2_bn (BatchNorma (None, 5, 5, 728)    2912        block11_sepconv2[0][0]           \n",
            "__________________________________________________________________________________________________\n",
            "block11_sepconv3_act (Activatio (None, 5, 5, 728)    0           block11_sepconv2_bn[0][0]        \n",
            "__________________________________________________________________________________________________\n",
            "block11_sepconv3 (SeparableConv (None, 5, 5, 728)    536536      block11_sepconv3_act[0][0]       \n",
            "__________________________________________________________________________________________________\n",
            "block11_sepconv3_bn (BatchNorma (None, 5, 5, 728)    2912        block11_sepconv3[0][0]           \n",
            "__________________________________________________________________________________________________\n",
            "add_9 (Add)                     (None, 5, 5, 728)    0           block11_sepconv3_bn[0][0]        \n",
            "                                                                 add_8[0][0]                      \n",
            "__________________________________________________________________________________________________\n",
            "block12_sepconv1_act (Activatio (None, 5, 5, 728)    0           add_9[0][0]                      \n",
            "__________________________________________________________________________________________________\n",
            "block12_sepconv1 (SeparableConv (None, 5, 5, 728)    536536      block12_sepconv1_act[0][0]       \n",
            "__________________________________________________________________________________________________\n",
            "block12_sepconv1_bn (BatchNorma (None, 5, 5, 728)    2912        block12_sepconv1[0][0]           \n",
            "__________________________________________________________________________________________________\n",
            "block12_sepconv2_act (Activatio (None, 5, 5, 728)    0           block12_sepconv1_bn[0][0]        \n",
            "__________________________________________________________________________________________________\n",
            "block12_sepconv2 (SeparableConv (None, 5, 5, 728)    536536      block12_sepconv2_act[0][0]       \n",
            "__________________________________________________________________________________________________\n",
            "block12_sepconv2_bn (BatchNorma (None, 5, 5, 728)    2912        block12_sepconv2[0][0]           \n",
            "__________________________________________________________________________________________________\n",
            "block12_sepconv3_act (Activatio (None, 5, 5, 728)    0           block12_sepconv2_bn[0][0]        \n",
            "__________________________________________________________________________________________________\n",
            "block12_sepconv3 (SeparableConv (None, 5, 5, 728)    536536      block12_sepconv3_act[0][0]       \n",
            "__________________________________________________________________________________________________\n",
            "block12_sepconv3_bn (BatchNorma (None, 5, 5, 728)    2912        block12_sepconv3[0][0]           \n",
            "__________________________________________________________________________________________________\n",
            "add_10 (Add)                    (None, 5, 5, 728)    0           block12_sepconv3_bn[0][0]        \n",
            "                                                                 add_9[0][0]                      \n",
            "__________________________________________________________________________________________________\n",
            "block13_sepconv1_act (Activatio (None, 5, 5, 728)    0           add_10[0][0]                     \n",
            "__________________________________________________________________________________________________\n",
            "block13_sepconv1 (SeparableConv (None, 5, 5, 728)    536536      block13_sepconv1_act[0][0]       \n",
            "__________________________________________________________________________________________________\n",
            "block13_sepconv1_bn (BatchNorma (None, 5, 5, 728)    2912        block13_sepconv1[0][0]           \n",
            "__________________________________________________________________________________________________\n",
            "block13_sepconv2_act (Activatio (None, 5, 5, 728)    0           block13_sepconv1_bn[0][0]        \n",
            "__________________________________________________________________________________________________\n",
            "block13_sepconv2 (SeparableConv (None, 5, 5, 1024)   752024      block13_sepconv2_act[0][0]       \n",
            "__________________________________________________________________________________________________\n",
            "block13_sepconv2_bn (BatchNorma (None, 5, 5, 1024)   4096        block13_sepconv2[0][0]           \n",
            "__________________________________________________________________________________________________\n",
            "conv2d_3 (Conv2D)               (None, 3, 3, 1024)   745472      add_10[0][0]                     \n",
            "__________________________________________________________________________________________________\n",
            "block13_pool (MaxPooling2D)     (None, 3, 3, 1024)   0           block13_sepconv2_bn[0][0]        \n",
            "__________________________________________________________________________________________________\n",
            "batch_normalization_3 (BatchNor (None, 3, 3, 1024)   4096        conv2d_3[0][0]                   \n",
            "__________________________________________________________________________________________________\n",
            "add_11 (Add)                    (None, 3, 3, 1024)   0           block13_pool[0][0]               \n",
            "                                                                 batch_normalization_3[0][0]      \n",
            "__________________________________________________________________________________________________\n",
            "block14_sepconv1 (SeparableConv (None, 3, 3, 1536)   1582080     add_11[0][0]                     \n",
            "__________________________________________________________________________________________________\n",
            "block14_sepconv1_bn (BatchNorma (None, 3, 3, 1536)   6144        block14_sepconv1[0][0]           \n",
            "__________________________________________________________________________________________________\n",
            "block14_sepconv1_act (Activatio (None, 3, 3, 1536)   0           block14_sepconv1_bn[0][0]        \n",
            "__________________________________________________________________________________________________\n",
            "block14_sepconv2 (SeparableConv (None, 3, 3, 2048)   3159552     block14_sepconv1_act[0][0]       \n",
            "__________________________________________________________________________________________________\n",
            "block14_sepconv2_bn (BatchNorma (None, 3, 3, 2048)   8192        block14_sepconv2[0][0]           \n",
            "__________________________________________________________________________________________________\n",
            "block14_sepconv2_act (Activatio (None, 3, 3, 2048)   0           block14_sepconv2_bn[0][0]        \n",
            "==================================================================================================\n",
            "Total params: 20,861,480\n",
            "Trainable params: 20,806,952\n",
            "Non-trainable params: 54,528\n",
            "__________________________________________________________________________________________________\n"
          ],
          "name": "stdout"
        }
      ]
    },
    {
      "cell_type": "code",
      "metadata": {
        "id": "-vC80SgjO7zF"
      },
      "source": [
        "conv_base.trainable = True"
      ],
      "execution_count": null,
      "outputs": []
    },
    {
      "cell_type": "code",
      "metadata": {
        "id": "YjsDQJnoPBn2"
      },
      "source": [
        "set_trainable=False"
      ],
      "execution_count": null,
      "outputs": []
    },
    {
      "cell_type": "code",
      "metadata": {
        "id": "M_sOlsOIPILw"
      },
      "source": [
        "for layer in conv_base.layers:\r\n",
        "  if layer.name=='block14_sepconv1':\r\n",
        "    set_trainable=True\r\n",
        "  if set_trainable:\r\n",
        "    layer.trainable = True\r\n",
        "  else:\r\n",
        "    layer.trainable = False\r\n",
        "\r\n",
        "\r\n",
        "\r\n"
      ],
      "execution_count": null,
      "outputs": []
    },
    {
      "cell_type": "code",
      "metadata": {
        "id": "VzSj1ib29ZrQ"
      },
      "source": [
        "from tensorflow.keras.layers.experimental.preprocessing import Resizing,Rescaling"
      ],
      "execution_count": null,
      "outputs": []
    },
    {
      "cell_type": "code",
      "metadata": {
        "id": "CHzBgii-RJz1"
      },
      "source": [
        "model = Sequential()\r\n",
        "# First Convolutional Layer\r\n",
        "#model.add(tf.keras.layers.BatchNormalization())\r\n",
        "model.add(Resizing(img_size, img_size))\r\n",
        "#model.add(Rescaling(1./255))\r\n",
        "\r\n",
        "model.add(conv_base)\r\n",
        "\r\n",
        "model.add(GlobalAveragePooling2D())\r\n",
        "\r\n",
        "model.add(Flatten())\r\n",
        "model.add(Dense(units=128, activation='relu'))\r\n",
        "model.add(Dropout(rate=0.50))\r\n",
        "\r\n",
        "model.add(Dense(units = len(set(train_generator.classes)), activation = 'softmax'))"
      ],
      "execution_count": null,
      "outputs": []
    },
    {
      "cell_type": "code",
      "metadata": {
        "colab": {
          "base_uri": "https://localhost:8080/",
          "height": 295
        },
        "id": "Z5qfHXeiR8it",
        "outputId": "43a893d3-af9a-4e10-f448-1c2f58cd5269"
      },
      "source": [
        "model.summary()"
      ],
      "execution_count": null,
      "outputs": [
        {
          "output_type": "error",
          "ename": "ValueError",
          "evalue": "ignored",
          "traceback": [
            "\u001b[0;31m---------------------------------------------------------------------------\u001b[0m",
            "\u001b[0;31mValueError\u001b[0m                                Traceback (most recent call last)",
            "\u001b[0;32m<ipython-input-79-5f15418b3570>\u001b[0m in \u001b[0;36m<module>\u001b[0;34m()\u001b[0m\n\u001b[0;32m----> 1\u001b[0;31m \u001b[0mmodel\u001b[0m\u001b[0;34m.\u001b[0m\u001b[0msummary\u001b[0m\u001b[0;34m(\u001b[0m\u001b[0;34m)\u001b[0m\u001b[0;34m\u001b[0m\u001b[0;34m\u001b[0m\u001b[0m\n\u001b[0m",
            "\u001b[0;32m/usr/local/lib/python3.6/dist-packages/tensorflow/python/keras/engine/training.py\u001b[0m in \u001b[0;36msummary\u001b[0;34m(self, line_length, positions, print_fn)\u001b[0m\n\u001b[1;32m   2374\u001b[0m     \"\"\"\n\u001b[1;32m   2375\u001b[0m     \u001b[0;32mif\u001b[0m \u001b[0;32mnot\u001b[0m \u001b[0mself\u001b[0m\u001b[0;34m.\u001b[0m\u001b[0mbuilt\u001b[0m\u001b[0;34m:\u001b[0m\u001b[0;34m\u001b[0m\u001b[0;34m\u001b[0m\u001b[0m\n\u001b[0;32m-> 2376\u001b[0;31m       raise ValueError('This model has not yet been built. '\n\u001b[0m\u001b[1;32m   2377\u001b[0m                        \u001b[0;34m'Build the model first by calling `build()` or calling '\u001b[0m\u001b[0;34m\u001b[0m\u001b[0;34m\u001b[0m\u001b[0m\n\u001b[1;32m   2378\u001b[0m                        \u001b[0;34m'`fit()` with some data, or specify '\u001b[0m\u001b[0;34m\u001b[0m\u001b[0;34m\u001b[0m\u001b[0m\n",
            "\u001b[0;31mValueError\u001b[0m: This model has not yet been built. Build the model first by calling `build()` or calling `fit()` with some data, or specify an `input_shape` argument in the first layer(s) for automatic build."
          ]
        }
      ]
    },
    {
      "cell_type": "code",
      "metadata": {
        "colab": {
          "base_uri": "https://localhost:8080/"
        },
        "id": "4_szqPueSOAZ",
        "outputId": "62735ce9-a193-480c-d972-0719b190fdd2"
      },
      "source": [
        "conv_base.summary()"
      ],
      "execution_count": null,
      "outputs": [
        {
          "output_type": "stream",
          "text": [
            "Model: \"xception\"\n",
            "__________________________________________________________________________________________________\n",
            "Layer (type)                    Output Shape         Param #     Connected to                     \n",
            "==================================================================================================\n",
            "input_1 (InputLayer)            [(None, 71, 71, 3)]  0                                            \n",
            "__________________________________________________________________________________________________\n",
            "block1_conv1 (Conv2D)           (None, 35, 35, 32)   864         input_1[0][0]                    \n",
            "__________________________________________________________________________________________________\n",
            "block1_conv1_bn (BatchNormaliza (None, 35, 35, 32)   128         block1_conv1[0][0]               \n",
            "__________________________________________________________________________________________________\n",
            "block1_conv1_act (Activation)   (None, 35, 35, 32)   0           block1_conv1_bn[0][0]            \n",
            "__________________________________________________________________________________________________\n",
            "block1_conv2 (Conv2D)           (None, 33, 33, 64)   18432       block1_conv1_act[0][0]           \n",
            "__________________________________________________________________________________________________\n",
            "block1_conv2_bn (BatchNormaliza (None, 33, 33, 64)   256         block1_conv2[0][0]               \n",
            "__________________________________________________________________________________________________\n",
            "block1_conv2_act (Activation)   (None, 33, 33, 64)   0           block1_conv2_bn[0][0]            \n",
            "__________________________________________________________________________________________________\n",
            "block2_sepconv1 (SeparableConv2 (None, 33, 33, 128)  8768        block1_conv2_act[0][0]           \n",
            "__________________________________________________________________________________________________\n",
            "block2_sepconv1_bn (BatchNormal (None, 33, 33, 128)  512         block2_sepconv1[0][0]            \n",
            "__________________________________________________________________________________________________\n",
            "block2_sepconv2_act (Activation (None, 33, 33, 128)  0           block2_sepconv1_bn[0][0]         \n",
            "__________________________________________________________________________________________________\n",
            "block2_sepconv2 (SeparableConv2 (None, 33, 33, 128)  17536       block2_sepconv2_act[0][0]        \n",
            "__________________________________________________________________________________________________\n",
            "block2_sepconv2_bn (BatchNormal (None, 33, 33, 128)  512         block2_sepconv2[0][0]            \n",
            "__________________________________________________________________________________________________\n",
            "conv2d (Conv2D)                 (None, 17, 17, 128)  8192        block1_conv2_act[0][0]           \n",
            "__________________________________________________________________________________________________\n",
            "block2_pool (MaxPooling2D)      (None, 17, 17, 128)  0           block2_sepconv2_bn[0][0]         \n",
            "__________________________________________________________________________________________________\n",
            "batch_normalization (BatchNorma (None, 17, 17, 128)  512         conv2d[0][0]                     \n",
            "__________________________________________________________________________________________________\n",
            "add (Add)                       (None, 17, 17, 128)  0           block2_pool[0][0]                \n",
            "                                                                 batch_normalization[0][0]        \n",
            "__________________________________________________________________________________________________\n",
            "block3_sepconv1_act (Activation (None, 17, 17, 128)  0           add[0][0]                        \n",
            "__________________________________________________________________________________________________\n",
            "block3_sepconv1 (SeparableConv2 (None, 17, 17, 256)  33920       block3_sepconv1_act[0][0]        \n",
            "__________________________________________________________________________________________________\n",
            "block3_sepconv1_bn (BatchNormal (None, 17, 17, 256)  1024        block3_sepconv1[0][0]            \n",
            "__________________________________________________________________________________________________\n",
            "block3_sepconv2_act (Activation (None, 17, 17, 256)  0           block3_sepconv1_bn[0][0]         \n",
            "__________________________________________________________________________________________________\n",
            "block3_sepconv2 (SeparableConv2 (None, 17, 17, 256)  67840       block3_sepconv2_act[0][0]        \n",
            "__________________________________________________________________________________________________\n",
            "block3_sepconv2_bn (BatchNormal (None, 17, 17, 256)  1024        block3_sepconv2[0][0]            \n",
            "__________________________________________________________________________________________________\n",
            "conv2d_1 (Conv2D)               (None, 9, 9, 256)    32768       add[0][0]                        \n",
            "__________________________________________________________________________________________________\n",
            "block3_pool (MaxPooling2D)      (None, 9, 9, 256)    0           block3_sepconv2_bn[0][0]         \n",
            "__________________________________________________________________________________________________\n",
            "batch_normalization_1 (BatchNor (None, 9, 9, 256)    1024        conv2d_1[0][0]                   \n",
            "__________________________________________________________________________________________________\n",
            "add_1 (Add)                     (None, 9, 9, 256)    0           block3_pool[0][0]                \n",
            "                                                                 batch_normalization_1[0][0]      \n",
            "__________________________________________________________________________________________________\n",
            "block4_sepconv1_act (Activation (None, 9, 9, 256)    0           add_1[0][0]                      \n",
            "__________________________________________________________________________________________________\n",
            "block4_sepconv1 (SeparableConv2 (None, 9, 9, 728)    188672      block4_sepconv1_act[0][0]        \n",
            "__________________________________________________________________________________________________\n",
            "block4_sepconv1_bn (BatchNormal (None, 9, 9, 728)    2912        block4_sepconv1[0][0]            \n",
            "__________________________________________________________________________________________________\n",
            "block4_sepconv2_act (Activation (None, 9, 9, 728)    0           block4_sepconv1_bn[0][0]         \n",
            "__________________________________________________________________________________________________\n",
            "block4_sepconv2 (SeparableConv2 (None, 9, 9, 728)    536536      block4_sepconv2_act[0][0]        \n",
            "__________________________________________________________________________________________________\n",
            "block4_sepconv2_bn (BatchNormal (None, 9, 9, 728)    2912        block4_sepconv2[0][0]            \n",
            "__________________________________________________________________________________________________\n",
            "conv2d_2 (Conv2D)               (None, 5, 5, 728)    186368      add_1[0][0]                      \n",
            "__________________________________________________________________________________________________\n",
            "block4_pool (MaxPooling2D)      (None, 5, 5, 728)    0           block4_sepconv2_bn[0][0]         \n",
            "__________________________________________________________________________________________________\n",
            "batch_normalization_2 (BatchNor (None, 5, 5, 728)    2912        conv2d_2[0][0]                   \n",
            "__________________________________________________________________________________________________\n",
            "add_2 (Add)                     (None, 5, 5, 728)    0           block4_pool[0][0]                \n",
            "                                                                 batch_normalization_2[0][0]      \n",
            "__________________________________________________________________________________________________\n",
            "block5_sepconv1_act (Activation (None, 5, 5, 728)    0           add_2[0][0]                      \n",
            "__________________________________________________________________________________________________\n",
            "block5_sepconv1 (SeparableConv2 (None, 5, 5, 728)    536536      block5_sepconv1_act[0][0]        \n",
            "__________________________________________________________________________________________________\n",
            "block5_sepconv1_bn (BatchNormal (None, 5, 5, 728)    2912        block5_sepconv1[0][0]            \n",
            "__________________________________________________________________________________________________\n",
            "block5_sepconv2_act (Activation (None, 5, 5, 728)    0           block5_sepconv1_bn[0][0]         \n",
            "__________________________________________________________________________________________________\n",
            "block5_sepconv2 (SeparableConv2 (None, 5, 5, 728)    536536      block5_sepconv2_act[0][0]        \n",
            "__________________________________________________________________________________________________\n",
            "block5_sepconv2_bn (BatchNormal (None, 5, 5, 728)    2912        block5_sepconv2[0][0]            \n",
            "__________________________________________________________________________________________________\n",
            "block5_sepconv3_act (Activation (None, 5, 5, 728)    0           block5_sepconv2_bn[0][0]         \n",
            "__________________________________________________________________________________________________\n",
            "block5_sepconv3 (SeparableConv2 (None, 5, 5, 728)    536536      block5_sepconv3_act[0][0]        \n",
            "__________________________________________________________________________________________________\n",
            "block5_sepconv3_bn (BatchNormal (None, 5, 5, 728)    2912        block5_sepconv3[0][0]            \n",
            "__________________________________________________________________________________________________\n",
            "add_3 (Add)                     (None, 5, 5, 728)    0           block5_sepconv3_bn[0][0]         \n",
            "                                                                 add_2[0][0]                      \n",
            "__________________________________________________________________________________________________\n",
            "block6_sepconv1_act (Activation (None, 5, 5, 728)    0           add_3[0][0]                      \n",
            "__________________________________________________________________________________________________\n",
            "block6_sepconv1 (SeparableConv2 (None, 5, 5, 728)    536536      block6_sepconv1_act[0][0]        \n",
            "__________________________________________________________________________________________________\n",
            "block6_sepconv1_bn (BatchNormal (None, 5, 5, 728)    2912        block6_sepconv1[0][0]            \n",
            "__________________________________________________________________________________________________\n",
            "block6_sepconv2_act (Activation (None, 5, 5, 728)    0           block6_sepconv1_bn[0][0]         \n",
            "__________________________________________________________________________________________________\n",
            "block6_sepconv2 (SeparableConv2 (None, 5, 5, 728)    536536      block6_sepconv2_act[0][0]        \n",
            "__________________________________________________________________________________________________\n",
            "block6_sepconv2_bn (BatchNormal (None, 5, 5, 728)    2912        block6_sepconv2[0][0]            \n",
            "__________________________________________________________________________________________________\n",
            "block6_sepconv3_act (Activation (None, 5, 5, 728)    0           block6_sepconv2_bn[0][0]         \n",
            "__________________________________________________________________________________________________\n",
            "block6_sepconv3 (SeparableConv2 (None, 5, 5, 728)    536536      block6_sepconv3_act[0][0]        \n",
            "__________________________________________________________________________________________________\n",
            "block6_sepconv3_bn (BatchNormal (None, 5, 5, 728)    2912        block6_sepconv3[0][0]            \n",
            "__________________________________________________________________________________________________\n",
            "add_4 (Add)                     (None, 5, 5, 728)    0           block6_sepconv3_bn[0][0]         \n",
            "                                                                 add_3[0][0]                      \n",
            "__________________________________________________________________________________________________\n",
            "block7_sepconv1_act (Activation (None, 5, 5, 728)    0           add_4[0][0]                      \n",
            "__________________________________________________________________________________________________\n",
            "block7_sepconv1 (SeparableConv2 (None, 5, 5, 728)    536536      block7_sepconv1_act[0][0]        \n",
            "__________________________________________________________________________________________________\n",
            "block7_sepconv1_bn (BatchNormal (None, 5, 5, 728)    2912        block7_sepconv1[0][0]            \n",
            "__________________________________________________________________________________________________\n",
            "block7_sepconv2_act (Activation (None, 5, 5, 728)    0           block7_sepconv1_bn[0][0]         \n",
            "__________________________________________________________________________________________________\n",
            "block7_sepconv2 (SeparableConv2 (None, 5, 5, 728)    536536      block7_sepconv2_act[0][0]        \n",
            "__________________________________________________________________________________________________\n",
            "block7_sepconv2_bn (BatchNormal (None, 5, 5, 728)    2912        block7_sepconv2[0][0]            \n",
            "__________________________________________________________________________________________________\n",
            "block7_sepconv3_act (Activation (None, 5, 5, 728)    0           block7_sepconv2_bn[0][0]         \n",
            "__________________________________________________________________________________________________\n",
            "block7_sepconv3 (SeparableConv2 (None, 5, 5, 728)    536536      block7_sepconv3_act[0][0]        \n",
            "__________________________________________________________________________________________________\n",
            "block7_sepconv3_bn (BatchNormal (None, 5, 5, 728)    2912        block7_sepconv3[0][0]            \n",
            "__________________________________________________________________________________________________\n",
            "add_5 (Add)                     (None, 5, 5, 728)    0           block7_sepconv3_bn[0][0]         \n",
            "                                                                 add_4[0][0]                      \n",
            "__________________________________________________________________________________________________\n",
            "block8_sepconv1_act (Activation (None, 5, 5, 728)    0           add_5[0][0]                      \n",
            "__________________________________________________________________________________________________\n",
            "block8_sepconv1 (SeparableConv2 (None, 5, 5, 728)    536536      block8_sepconv1_act[0][0]        \n",
            "__________________________________________________________________________________________________\n",
            "block8_sepconv1_bn (BatchNormal (None, 5, 5, 728)    2912        block8_sepconv1[0][0]            \n",
            "__________________________________________________________________________________________________\n",
            "block8_sepconv2_act (Activation (None, 5, 5, 728)    0           block8_sepconv1_bn[0][0]         \n",
            "__________________________________________________________________________________________________\n",
            "block8_sepconv2 (SeparableConv2 (None, 5, 5, 728)    536536      block8_sepconv2_act[0][0]        \n",
            "__________________________________________________________________________________________________\n",
            "block8_sepconv2_bn (BatchNormal (None, 5, 5, 728)    2912        block8_sepconv2[0][0]            \n",
            "__________________________________________________________________________________________________\n",
            "block8_sepconv3_act (Activation (None, 5, 5, 728)    0           block8_sepconv2_bn[0][0]         \n",
            "__________________________________________________________________________________________________\n",
            "block8_sepconv3 (SeparableConv2 (None, 5, 5, 728)    536536      block8_sepconv3_act[0][0]        \n",
            "__________________________________________________________________________________________________\n",
            "block8_sepconv3_bn (BatchNormal (None, 5, 5, 728)    2912        block8_sepconv3[0][0]            \n",
            "__________________________________________________________________________________________________\n",
            "add_6 (Add)                     (None, 5, 5, 728)    0           block8_sepconv3_bn[0][0]         \n",
            "                                                                 add_5[0][0]                      \n",
            "__________________________________________________________________________________________________\n",
            "block9_sepconv1_act (Activation (None, 5, 5, 728)    0           add_6[0][0]                      \n",
            "__________________________________________________________________________________________________\n",
            "block9_sepconv1 (SeparableConv2 (None, 5, 5, 728)    536536      block9_sepconv1_act[0][0]        \n",
            "__________________________________________________________________________________________________\n",
            "block9_sepconv1_bn (BatchNormal (None, 5, 5, 728)    2912        block9_sepconv1[0][0]            \n",
            "__________________________________________________________________________________________________\n",
            "block9_sepconv2_act (Activation (None, 5, 5, 728)    0           block9_sepconv1_bn[0][0]         \n",
            "__________________________________________________________________________________________________\n",
            "block9_sepconv2 (SeparableConv2 (None, 5, 5, 728)    536536      block9_sepconv2_act[0][0]        \n",
            "__________________________________________________________________________________________________\n",
            "block9_sepconv2_bn (BatchNormal (None, 5, 5, 728)    2912        block9_sepconv2[0][0]            \n",
            "__________________________________________________________________________________________________\n",
            "block9_sepconv3_act (Activation (None, 5, 5, 728)    0           block9_sepconv2_bn[0][0]         \n",
            "__________________________________________________________________________________________________\n",
            "block9_sepconv3 (SeparableConv2 (None, 5, 5, 728)    536536      block9_sepconv3_act[0][0]        \n",
            "__________________________________________________________________________________________________\n",
            "block9_sepconv3_bn (BatchNormal (None, 5, 5, 728)    2912        block9_sepconv3[0][0]            \n",
            "__________________________________________________________________________________________________\n",
            "add_7 (Add)                     (None, 5, 5, 728)    0           block9_sepconv3_bn[0][0]         \n",
            "                                                                 add_6[0][0]                      \n",
            "__________________________________________________________________________________________________\n",
            "block10_sepconv1_act (Activatio (None, 5, 5, 728)    0           add_7[0][0]                      \n",
            "__________________________________________________________________________________________________\n",
            "block10_sepconv1 (SeparableConv (None, 5, 5, 728)    536536      block10_sepconv1_act[0][0]       \n",
            "__________________________________________________________________________________________________\n",
            "block10_sepconv1_bn (BatchNorma (None, 5, 5, 728)    2912        block10_sepconv1[0][0]           \n",
            "__________________________________________________________________________________________________\n",
            "block10_sepconv2_act (Activatio (None, 5, 5, 728)    0           block10_sepconv1_bn[0][0]        \n",
            "__________________________________________________________________________________________________\n",
            "block10_sepconv2 (SeparableConv (None, 5, 5, 728)    536536      block10_sepconv2_act[0][0]       \n",
            "__________________________________________________________________________________________________\n",
            "block10_sepconv2_bn (BatchNorma (None, 5, 5, 728)    2912        block10_sepconv2[0][0]           \n",
            "__________________________________________________________________________________________________\n",
            "block10_sepconv3_act (Activatio (None, 5, 5, 728)    0           block10_sepconv2_bn[0][0]        \n",
            "__________________________________________________________________________________________________\n",
            "block10_sepconv3 (SeparableConv (None, 5, 5, 728)    536536      block10_sepconv3_act[0][0]       \n",
            "__________________________________________________________________________________________________\n",
            "block10_sepconv3_bn (BatchNorma (None, 5, 5, 728)    2912        block10_sepconv3[0][0]           \n",
            "__________________________________________________________________________________________________\n",
            "add_8 (Add)                     (None, 5, 5, 728)    0           block10_sepconv3_bn[0][0]        \n",
            "                                                                 add_7[0][0]                      \n",
            "__________________________________________________________________________________________________\n",
            "block11_sepconv1_act (Activatio (None, 5, 5, 728)    0           add_8[0][0]                      \n",
            "__________________________________________________________________________________________________\n",
            "block11_sepconv1 (SeparableConv (None, 5, 5, 728)    536536      block11_sepconv1_act[0][0]       \n",
            "__________________________________________________________________________________________________\n",
            "block11_sepconv1_bn (BatchNorma (None, 5, 5, 728)    2912        block11_sepconv1[0][0]           \n",
            "__________________________________________________________________________________________________\n",
            "block11_sepconv2_act (Activatio (None, 5, 5, 728)    0           block11_sepconv1_bn[0][0]        \n",
            "__________________________________________________________________________________________________\n",
            "block11_sepconv2 (SeparableConv (None, 5, 5, 728)    536536      block11_sepconv2_act[0][0]       \n",
            "__________________________________________________________________________________________________\n",
            "block11_sepconv2_bn (BatchNorma (None, 5, 5, 728)    2912        block11_sepconv2[0][0]           \n",
            "__________________________________________________________________________________________________\n",
            "block11_sepconv3_act (Activatio (None, 5, 5, 728)    0           block11_sepconv2_bn[0][0]        \n",
            "__________________________________________________________________________________________________\n",
            "block11_sepconv3 (SeparableConv (None, 5, 5, 728)    536536      block11_sepconv3_act[0][0]       \n",
            "__________________________________________________________________________________________________\n",
            "block11_sepconv3_bn (BatchNorma (None, 5, 5, 728)    2912        block11_sepconv3[0][0]           \n",
            "__________________________________________________________________________________________________\n",
            "add_9 (Add)                     (None, 5, 5, 728)    0           block11_sepconv3_bn[0][0]        \n",
            "                                                                 add_8[0][0]                      \n",
            "__________________________________________________________________________________________________\n",
            "block12_sepconv1_act (Activatio (None, 5, 5, 728)    0           add_9[0][0]                      \n",
            "__________________________________________________________________________________________________\n",
            "block12_sepconv1 (SeparableConv (None, 5, 5, 728)    536536      block12_sepconv1_act[0][0]       \n",
            "__________________________________________________________________________________________________\n",
            "block12_sepconv1_bn (BatchNorma (None, 5, 5, 728)    2912        block12_sepconv1[0][0]           \n",
            "__________________________________________________________________________________________________\n",
            "block12_sepconv2_act (Activatio (None, 5, 5, 728)    0           block12_sepconv1_bn[0][0]        \n",
            "__________________________________________________________________________________________________\n",
            "block12_sepconv2 (SeparableConv (None, 5, 5, 728)    536536      block12_sepconv2_act[0][0]       \n",
            "__________________________________________________________________________________________________\n",
            "block12_sepconv2_bn (BatchNorma (None, 5, 5, 728)    2912        block12_sepconv2[0][0]           \n",
            "__________________________________________________________________________________________________\n",
            "block12_sepconv3_act (Activatio (None, 5, 5, 728)    0           block12_sepconv2_bn[0][0]        \n",
            "__________________________________________________________________________________________________\n",
            "block12_sepconv3 (SeparableConv (None, 5, 5, 728)    536536      block12_sepconv3_act[0][0]       \n",
            "__________________________________________________________________________________________________\n",
            "block12_sepconv3_bn (BatchNorma (None, 5, 5, 728)    2912        block12_sepconv3[0][0]           \n",
            "__________________________________________________________________________________________________\n",
            "add_10 (Add)                    (None, 5, 5, 728)    0           block12_sepconv3_bn[0][0]        \n",
            "                                                                 add_9[0][0]                      \n",
            "__________________________________________________________________________________________________\n",
            "block13_sepconv1_act (Activatio (None, 5, 5, 728)    0           add_10[0][0]                     \n",
            "__________________________________________________________________________________________________\n",
            "block13_sepconv1 (SeparableConv (None, 5, 5, 728)    536536      block13_sepconv1_act[0][0]       \n",
            "__________________________________________________________________________________________________\n",
            "block13_sepconv1_bn (BatchNorma (None, 5, 5, 728)    2912        block13_sepconv1[0][0]           \n",
            "__________________________________________________________________________________________________\n",
            "block13_sepconv2_act (Activatio (None, 5, 5, 728)    0           block13_sepconv1_bn[0][0]        \n",
            "__________________________________________________________________________________________________\n",
            "block13_sepconv2 (SeparableConv (None, 5, 5, 1024)   752024      block13_sepconv2_act[0][0]       \n",
            "__________________________________________________________________________________________________\n",
            "block13_sepconv2_bn (BatchNorma (None, 5, 5, 1024)   4096        block13_sepconv2[0][0]           \n",
            "__________________________________________________________________________________________________\n",
            "conv2d_3 (Conv2D)               (None, 3, 3, 1024)   745472      add_10[0][0]                     \n",
            "__________________________________________________________________________________________________\n",
            "block13_pool (MaxPooling2D)     (None, 3, 3, 1024)   0           block13_sepconv2_bn[0][0]        \n",
            "__________________________________________________________________________________________________\n",
            "batch_normalization_3 (BatchNor (None, 3, 3, 1024)   4096        conv2d_3[0][0]                   \n",
            "__________________________________________________________________________________________________\n",
            "add_11 (Add)                    (None, 3, 3, 1024)   0           block13_pool[0][0]               \n",
            "                                                                 batch_normalization_3[0][0]      \n",
            "__________________________________________________________________________________________________\n",
            "block14_sepconv1 (SeparableConv (None, 3, 3, 1536)   1582080     add_11[0][0]                     \n",
            "__________________________________________________________________________________________________\n",
            "block14_sepconv1_bn (BatchNorma (None, 3, 3, 1536)   6144        block14_sepconv1[0][0]           \n",
            "__________________________________________________________________________________________________\n",
            "block14_sepconv1_act (Activatio (None, 3, 3, 1536)   0           block14_sepconv1_bn[0][0]        \n",
            "__________________________________________________________________________________________________\n",
            "block14_sepconv2 (SeparableConv (None, 3, 3, 2048)   3159552     block14_sepconv1_act[0][0]       \n",
            "__________________________________________________________________________________________________\n",
            "block14_sepconv2_bn (BatchNorma (None, 3, 3, 2048)   8192        block14_sepconv2[0][0]           \n",
            "__________________________________________________________________________________________________\n",
            "block14_sepconv2_act (Activatio (None, 3, 3, 2048)   0           block14_sepconv2_bn[0][0]        \n",
            "==================================================================================================\n",
            "Total params: 20,861,480\n",
            "Trainable params: 4,748,800\n",
            "Non-trainable params: 16,112,680\n",
            "__________________________________________________________________________________________________\n"
          ],
          "name": "stdout"
        }
      ]
    },
    {
      "cell_type": "code",
      "metadata": {
        "colab": {
          "base_uri": "https://localhost:8080/"
        },
        "id": "s9zmUSCeS77s",
        "outputId": "7ece0c3d-4ec0-40fe-d7f1-b1c6a7bc43a1"
      },
      "source": [
        "for layer in conv_base.layers:\r\n",
        "  if layer.trainable:\r\n",
        "    print(layer.name)\r\n"
      ],
      "execution_count": null,
      "outputs": [
        {
          "output_type": "stream",
          "text": [
            "block14_sepconv1\n",
            "block14_sepconv1_bn\n",
            "block14_sepconv1_act\n",
            "block14_sepconv2\n",
            "block14_sepconv2_bn\n",
            "block14_sepconv2_act\n"
          ],
          "name": "stdout"
        }
      ]
    },
    {
      "cell_type": "code",
      "metadata": {
        "id": "5OJpmNXbVYRK"
      },
      "source": [
        "from keras.optimizers import Adam\r\n",
        "opt = Adam(learning_rate=0.001)\r\n",
        "model.compile(optimizer = opt, loss = 'CategoricalCrossentropy', metrics = ['accuracy'])"
      ],
      "execution_count": null,
      "outputs": []
    },
    {
      "cell_type": "code",
      "metadata": {
        "id": "lhJYcWewi7hW"
      },
      "source": [
        "# checkpoint\r\n",
        "filepath=\"weights.trafficsign_xception.transfer3.preprocess.best.hdf5\"\r\n",
        "checkpoint = tf.keras.callbacks.ModelCheckpoint(filepath, monitor='val_accuracy', verbose=1, save_best_only=True, mode='max')"
      ],
      "execution_count": null,
      "outputs": []
    },
    {
      "cell_type": "code",
      "metadata": {
        "colab": {
          "base_uri": "https://localhost:8080/"
        },
        "id": "gbIULLRkVnJG",
        "outputId": "8ea7417b-d9fe-4868-c364-e031c0817fee"
      },
      "source": [
        "batch_size = 64\r\n",
        "\r\n",
        "fitted_model = model.fit(\r\n",
        "        train_generator,\r\n",
        "        #steps_per_epoch= int(train_generator.samples) // batch_size,\r\n",
        "        epochs=100,\r\n",
        "        validation_data=validation_generator,\r\n",
        "        #validation_steps= int(validation_generator.samples) // batch_size,\r\n",
        "        callbacks=[checkpoint]\r\n",
        "        )"
      ],
      "execution_count": null,
      "outputs": [
        {
          "output_type": "stream",
          "text": [
            "Epoch 1/100\n",
            "692/692 [==============================] - 166s 235ms/step - loss: 1.6489 - accuracy: 0.5276 - val_loss: 1.4800 - val_accuracy: 0.6103\n",
            "\n",
            "Epoch 00001: val_accuracy improved from -inf to 0.61027, saving model to weights.trafficsign_xception.transfer3.preprocess.best.hdf5\n",
            "Epoch 2/100\n",
            "692/692 [==============================] - 164s 237ms/step - loss: 0.6931 - accuracy: 0.7820 - val_loss: 1.3813 - val_accuracy: 0.6233\n",
            "\n",
            "Epoch 00002: val_accuracy improved from 0.61027 to 0.62330, saving model to weights.trafficsign_xception.transfer3.preprocess.best.hdf5\n",
            "Epoch 3/100\n",
            "692/692 [==============================] - 165s 239ms/step - loss: 0.4926 - accuracy: 0.8437 - val_loss: 1.5958 - val_accuracy: 0.6457\n",
            "\n",
            "Epoch 00003: val_accuracy improved from 0.62330 to 0.64571, saving model to weights.trafficsign_xception.transfer3.preprocess.best.hdf5\n",
            "Epoch 4/100\n",
            "692/692 [==============================] - 171s 247ms/step - loss: 0.3852 - accuracy: 0.8774 - val_loss: 1.3816 - val_accuracy: 0.6521\n",
            "\n",
            "Epoch 00004: val_accuracy improved from 0.64571 to 0.65209, saving model to weights.trafficsign_xception.transfer3.preprocess.best.hdf5\n",
            "Epoch 5/100\n",
            "692/692 [==============================] - 171s 248ms/step - loss: 0.3116 - accuracy: 0.9011 - val_loss: 1.3604 - val_accuracy: 0.6775\n",
            "\n",
            "Epoch 00005: val_accuracy improved from 0.65209 to 0.67749, saving model to weights.trafficsign_xception.transfer3.preprocess.best.hdf5\n",
            "Epoch 6/100\n",
            "692/692 [==============================] - 172s 248ms/step - loss: 0.2708 - accuracy: 0.9145 - val_loss: 1.2477 - val_accuracy: 0.6995\n",
            "\n",
            "Epoch 00006: val_accuracy improved from 0.67749 to 0.69948, saving model to weights.trafficsign_xception.transfer3.preprocess.best.hdf5\n",
            "Epoch 7/100\n",
            "692/692 [==============================] - 189s 273ms/step - loss: 0.2280 - accuracy: 0.9302 - val_loss: 1.2854 - val_accuracy: 0.6953\n",
            "\n",
            "Epoch 00007: val_accuracy did not improve from 0.69948\n",
            "Epoch 8/100\n",
            "692/692 [==============================] - 173s 250ms/step - loss: 0.2091 - accuracy: 0.9354 - val_loss: 1.3620 - val_accuracy: 0.6885\n",
            "\n",
            "Epoch 00008: val_accuracy did not improve from 0.69948\n",
            "Epoch 9/100\n",
            "692/692 [==============================] - 175s 253ms/step - loss: 0.1892 - accuracy: 0.9409 - val_loss: 1.3389 - val_accuracy: 0.7113\n",
            "\n",
            "Epoch 00009: val_accuracy improved from 0.69948 to 0.71130, saving model to weights.trafficsign_xception.transfer3.preprocess.best.hdf5\n",
            "Epoch 10/100\n",
            "692/692 [==============================] - 177s 256ms/step - loss: 0.1589 - accuracy: 0.9501 - val_loss: 1.2802 - val_accuracy: 0.7074\n",
            "\n",
            "Epoch 00010: val_accuracy did not improve from 0.71130\n",
            "Epoch 11/100\n",
            "692/692 [==============================] - 179s 259ms/step - loss: 0.1606 - accuracy: 0.9510 - val_loss: 1.3571 - val_accuracy: 0.7174\n",
            "\n",
            "Epoch 00011: val_accuracy improved from 0.71130 to 0.71741, saving model to weights.trafficsign_xception.transfer3.preprocess.best.hdf5\n",
            "Epoch 12/100\n",
            "692/692 [==============================] - 175s 252ms/step - loss: 0.1515 - accuracy: 0.9557 - val_loss: 1.2564 - val_accuracy: 0.7314\n",
            "\n",
            "Epoch 00012: val_accuracy improved from 0.71741 to 0.73140, saving model to weights.trafficsign_xception.transfer3.preprocess.best.hdf5\n",
            "Epoch 13/100\n",
            "692/692 [==============================] - 172s 249ms/step - loss: 0.1302 - accuracy: 0.9596 - val_loss: 1.4703 - val_accuracy: 0.6916\n",
            "\n",
            "Epoch 00013: val_accuracy did not improve from 0.73140\n",
            "Epoch 14/100\n",
            "692/692 [==============================] - 172s 248ms/step - loss: 0.1254 - accuracy: 0.9619 - val_loss: 1.3715 - val_accuracy: 0.7356\n",
            "\n",
            "Epoch 00014: val_accuracy improved from 0.73140 to 0.73561, saving model to weights.trafficsign_xception.transfer3.preprocess.best.hdf5\n",
            "Epoch 15/100\n",
            "692/692 [==============================] - 172s 249ms/step - loss: 0.1232 - accuracy: 0.9639 - val_loss: 1.3488 - val_accuracy: 0.7342\n",
            "\n",
            "Epoch 00015: val_accuracy did not improve from 0.73561\n",
            "Epoch 16/100\n",
            "692/692 [==============================] - 179s 259ms/step - loss: 0.1067 - accuracy: 0.9688 - val_loss: 1.2949 - val_accuracy: 0.7325\n",
            "\n",
            "Epoch 00016: val_accuracy did not improve from 0.73561\n",
            "Epoch 17/100\n",
            "692/692 [==============================] - 173s 249ms/step - loss: 0.1048 - accuracy: 0.9684 - val_loss: 1.3209 - val_accuracy: 0.7281\n",
            "\n",
            "Epoch 00017: val_accuracy did not improve from 0.73561\n",
            "Epoch 18/100\n",
            "692/692 [==============================] - 172s 248ms/step - loss: 0.0992 - accuracy: 0.9721 - val_loss: 1.3317 - val_accuracy: 0.7253\n",
            "\n",
            "Epoch 00018: val_accuracy did not improve from 0.73561\n",
            "Epoch 19/100\n",
            "692/692 [==============================] - 171s 247ms/step - loss: 0.0938 - accuracy: 0.9725 - val_loss: 1.3715 - val_accuracy: 0.7262\n",
            "\n",
            "Epoch 00019: val_accuracy did not improve from 0.73561\n",
            "Epoch 20/100\n",
            "692/692 [==============================] - 171s 247ms/step - loss: 0.0757 - accuracy: 0.9769 - val_loss: 1.6575 - val_accuracy: 0.7253\n",
            "\n",
            "Epoch 00020: val_accuracy did not improve from 0.73561\n",
            "Epoch 21/100\n",
            "692/692 [==============================] - 171s 247ms/step - loss: 0.0775 - accuracy: 0.9772 - val_loss: 1.4377 - val_accuracy: 0.7352\n",
            "\n",
            "Epoch 00021: val_accuracy did not improve from 0.73561\n",
            "Epoch 22/100\n",
            "692/692 [==============================] - 171s 247ms/step - loss: 0.0806 - accuracy: 0.9771 - val_loss: 1.3403 - val_accuracy: 0.7474\n",
            "\n",
            "Epoch 00022: val_accuracy improved from 0.73561 to 0.74742, saving model to weights.trafficsign_xception.transfer3.preprocess.best.hdf5\n",
            "Epoch 23/100\n",
            "692/692 [==============================] - 174s 251ms/step - loss: 0.0778 - accuracy: 0.9769 - val_loss: 1.3522 - val_accuracy: 0.7332\n",
            "\n",
            "Epoch 00023: val_accuracy did not improve from 0.74742\n",
            "Epoch 24/100\n",
            "692/692 [==============================] - 177s 255ms/step - loss: 0.0708 - accuracy: 0.9797 - val_loss: 1.4748 - val_accuracy: 0.7370\n",
            "\n",
            "Epoch 00024: val_accuracy did not improve from 0.74742\n",
            "Epoch 25/100\n",
            "692/692 [==============================] - 183s 265ms/step - loss: 0.0718 - accuracy: 0.9800 - val_loss: 1.4768 - val_accuracy: 0.7340\n",
            "\n",
            "Epoch 00025: val_accuracy did not improve from 0.74742\n",
            "Epoch 26/100\n",
            "692/692 [==============================] - 181s 261ms/step - loss: 0.0728 - accuracy: 0.9788 - val_loss: 1.3468 - val_accuracy: 0.7486\n",
            "\n",
            "Epoch 00026: val_accuracy improved from 0.74742 to 0.74864, saving model to weights.trafficsign_xception.transfer3.preprocess.best.hdf5\n",
            "Epoch 27/100\n",
            "692/692 [==============================] - 184s 265ms/step - loss: 0.0674 - accuracy: 0.9814 - val_loss: 1.3848 - val_accuracy: 0.7484\n",
            "\n",
            "Epoch 00027: val_accuracy did not improve from 0.74864\n",
            "Epoch 28/100\n",
            "692/692 [==============================] - 183s 265ms/step - loss: 0.0619 - accuracy: 0.9819 - val_loss: 1.6466 - val_accuracy: 0.7355\n",
            "\n",
            "Epoch 00028: val_accuracy did not improve from 0.74864\n",
            "Epoch 29/100\n",
            "692/692 [==============================] - 184s 265ms/step - loss: 0.0660 - accuracy: 0.9801 - val_loss: 1.3827 - val_accuracy: 0.7330\n",
            "\n",
            "Epoch 00029: val_accuracy did not improve from 0.74864\n",
            "Epoch 30/100\n",
            "692/692 [==============================] - 182s 264ms/step - loss: 0.0542 - accuracy: 0.9828 - val_loss: 1.5048 - val_accuracy: 0.7452\n",
            "\n",
            "Epoch 00030: val_accuracy did not improve from 0.74864\n",
            "Epoch 31/100\n",
            "692/692 [==============================] - 187s 270ms/step - loss: 0.0601 - accuracy: 0.9831 - val_loss: 1.5433 - val_accuracy: 0.7486\n",
            "\n",
            "Epoch 00031: val_accuracy did not improve from 0.74864\n",
            "Epoch 32/100\n",
            "692/692 [==============================] - 177s 256ms/step - loss: 0.0529 - accuracy: 0.9830 - val_loss: 1.3337 - val_accuracy: 0.7662\n",
            "\n",
            "Epoch 00032: val_accuracy improved from 0.74864 to 0.76616, saving model to weights.trafficsign_xception.transfer3.preprocess.best.hdf5\n",
            "Epoch 33/100\n",
            "692/692 [==============================] - 181s 262ms/step - loss: 0.0504 - accuracy: 0.9860 - val_loss: 1.4466 - val_accuracy: 0.7459\n",
            "\n",
            "Epoch 00033: val_accuracy did not improve from 0.76616\n",
            "Epoch 34/100\n",
            "692/692 [==============================] - 176s 254ms/step - loss: 0.0493 - accuracy: 0.9859 - val_loss: 1.5328 - val_accuracy: 0.7467\n",
            "\n",
            "Epoch 00034: val_accuracy did not improve from 0.76616\n",
            "Epoch 35/100\n",
            "692/692 [==============================] - 175s 253ms/step - loss: 0.0510 - accuracy: 0.9854 - val_loss: 1.4596 - val_accuracy: 0.7435\n",
            "\n",
            "Epoch 00035: val_accuracy did not improve from 0.76616\n",
            "Epoch 36/100\n",
            "692/692 [==============================] - 173s 249ms/step - loss: 0.0569 - accuracy: 0.9835 - val_loss: 1.5051 - val_accuracy: 0.7448\n",
            "\n",
            "Epoch 00036: val_accuracy did not improve from 0.76616\n",
            "Epoch 37/100\n",
            "692/692 [==============================] - 174s 252ms/step - loss: 0.0473 - accuracy: 0.9849 - val_loss: 1.5520 - val_accuracy: 0.7461\n",
            "\n",
            "Epoch 00037: val_accuracy did not improve from 0.76616\n",
            "Epoch 38/100\n",
            "692/692 [==============================] - 186s 269ms/step - loss: 0.0442 - accuracy: 0.9868 - val_loss: 1.4742 - val_accuracy: 0.7542\n",
            "\n",
            "Epoch 00038: val_accuracy did not improve from 0.76616\n",
            "Epoch 39/100\n",
            "692/692 [==============================] - 183s 265ms/step - loss: 0.0381 - accuracy: 0.9881 - val_loss: 1.2962 - val_accuracy: 0.7645\n",
            "\n",
            "Epoch 00039: val_accuracy did not improve from 0.76616\n",
            "Epoch 40/100\n",
            "692/692 [==============================] - 186s 268ms/step - loss: 0.0545 - accuracy: 0.9857 - val_loss: 1.5640 - val_accuracy: 0.7572\n",
            "\n",
            "Epoch 00040: val_accuracy did not improve from 0.76616\n",
            "Epoch 41/100\n",
            "692/692 [==============================] - 185s 267ms/step - loss: 0.0407 - accuracy: 0.9879 - val_loss: 1.4495 - val_accuracy: 0.7529\n",
            "\n",
            "Epoch 00041: val_accuracy did not improve from 0.76616\n",
            "Epoch 42/100\n",
            "692/692 [==============================] - 182s 263ms/step - loss: 0.0421 - accuracy: 0.9872 - val_loss: 1.7052 - val_accuracy: 0.7484\n",
            "\n",
            "Epoch 00042: val_accuracy did not improve from 0.76616\n",
            "Epoch 43/100\n",
            "692/692 [==============================] - 174s 251ms/step - loss: 0.0428 - accuracy: 0.9868 - val_loss: 1.5574 - val_accuracy: 0.7546\n",
            "\n",
            "Epoch 00043: val_accuracy did not improve from 0.76616\n",
            "Epoch 44/100\n",
            "692/692 [==============================] - 176s 254ms/step - loss: 0.0371 - accuracy: 0.9891 - val_loss: 1.5910 - val_accuracy: 0.7618\n",
            "\n",
            "Epoch 00044: val_accuracy did not improve from 0.76616\n",
            "Epoch 45/100\n",
            "692/692 [==============================] - 175s 252ms/step - loss: 0.0426 - accuracy: 0.9871 - val_loss: 1.6578 - val_accuracy: 0.7524\n",
            "\n",
            "Epoch 00045: val_accuracy did not improve from 0.76616\n",
            "Epoch 46/100\n",
            "692/692 [==============================] - 176s 254ms/step - loss: 0.0430 - accuracy: 0.9880 - val_loss: 1.5579 - val_accuracy: 0.7554\n",
            "\n",
            "Epoch 00046: val_accuracy did not improve from 0.76616\n",
            "Epoch 47/100\n",
            "692/692 [==============================] - 176s 254ms/step - loss: 0.0359 - accuracy: 0.9898 - val_loss: 1.6452 - val_accuracy: 0.7485\n",
            "\n",
            "Epoch 00047: val_accuracy did not improve from 0.76616\n",
            "Epoch 48/100\n",
            "692/692 [==============================] - 173s 250ms/step - loss: 0.0413 - accuracy: 0.9878 - val_loss: 1.6751 - val_accuracy: 0.7514\n",
            "\n",
            "Epoch 00048: val_accuracy did not improve from 0.76616\n",
            "Epoch 49/100\n",
            "692/692 [==============================] - 174s 252ms/step - loss: 0.0475 - accuracy: 0.9871 - val_loss: 1.5637 - val_accuracy: 0.7518\n",
            "\n",
            "Epoch 00049: val_accuracy did not improve from 0.76616\n",
            "Epoch 50/100\n",
            "692/692 [==============================] - 175s 253ms/step - loss: 0.0293 - accuracy: 0.9918 - val_loss: 1.6338 - val_accuracy: 0.7539\n",
            "\n",
            "Epoch 00050: val_accuracy did not improve from 0.76616\n",
            "Epoch 51/100\n",
            "692/692 [==============================] - 177s 255ms/step - loss: 0.0355 - accuracy: 0.9915 - val_loss: 1.4850 - val_accuracy: 0.7656\n",
            "\n",
            "Epoch 00051: val_accuracy did not improve from 0.76616\n",
            "Epoch 52/100\n",
            "692/692 [==============================] - 178s 257ms/step - loss: 0.0321 - accuracy: 0.9895 - val_loss: 1.4897 - val_accuracy: 0.7614\n",
            "\n",
            "Epoch 00052: val_accuracy did not improve from 0.76616\n",
            "Epoch 53/100\n",
            "692/692 [==============================] - 177s 256ms/step - loss: 0.0388 - accuracy: 0.9895 - val_loss: 1.5781 - val_accuracy: 0.7625\n",
            "\n",
            "Epoch 00053: val_accuracy did not improve from 0.76616\n",
            "Epoch 54/100\n",
            "692/692 [==============================] - 178s 257ms/step - loss: 0.0325 - accuracy: 0.9895 - val_loss: 1.9136 - val_accuracy: 0.7523\n",
            "\n",
            "Epoch 00054: val_accuracy did not improve from 0.76616\n",
            "Epoch 55/100\n",
            "692/692 [==============================] - 175s 253ms/step - loss: 0.0313 - accuracy: 0.9906 - val_loss: 1.4591 - val_accuracy: 0.7557\n",
            "\n",
            "Epoch 00055: val_accuracy did not improve from 0.76616\n",
            "Epoch 56/100\n",
            "692/692 [==============================] - 178s 258ms/step - loss: 0.0297 - accuracy: 0.9913 - val_loss: 1.6213 - val_accuracy: 0.7548\n",
            "\n",
            "Epoch 00056: val_accuracy did not improve from 0.76616\n",
            "Epoch 57/100\n",
            "692/692 [==============================] - 176s 255ms/step - loss: 0.0361 - accuracy: 0.9908 - val_loss: 1.6433 - val_accuracy: 0.7571\n",
            "\n",
            "Epoch 00057: val_accuracy did not improve from 0.76616\n",
            "Epoch 58/100\n",
            "692/692 [==============================] - 179s 259ms/step - loss: 0.0354 - accuracy: 0.9905 - val_loss: 1.5841 - val_accuracy: 0.7553\n",
            "\n",
            "Epoch 00058: val_accuracy did not improve from 0.76616\n",
            "Epoch 59/100\n",
            "692/692 [==============================] - 174s 252ms/step - loss: 0.0365 - accuracy: 0.9903 - val_loss: 1.6310 - val_accuracy: 0.7625\n",
            "\n",
            "Epoch 00059: val_accuracy did not improve from 0.76616\n",
            "Epoch 60/100\n",
            "692/692 [==============================] - 176s 255ms/step - loss: 0.0352 - accuracy: 0.9906 - val_loss: 1.5941 - val_accuracy: 0.7557\n",
            "\n",
            "Epoch 00060: val_accuracy did not improve from 0.76616\n",
            "Epoch 61/100\n",
            "692/692 [==============================] - 178s 258ms/step - loss: 0.0295 - accuracy: 0.9923 - val_loss: 1.4547 - val_accuracy: 0.7560\n",
            "\n",
            "Epoch 00061: val_accuracy did not improve from 0.76616\n",
            "Epoch 62/100\n",
            "692/692 [==============================] - 176s 254ms/step - loss: 0.0322 - accuracy: 0.9922 - val_loss: 1.6713 - val_accuracy: 0.7558\n",
            "\n",
            "Epoch 00062: val_accuracy did not improve from 0.76616\n",
            "Epoch 63/100\n",
            "692/692 [==============================] - 178s 257ms/step - loss: 0.0212 - accuracy: 0.9950 - val_loss: 1.4958 - val_accuracy: 0.7590\n",
            "\n",
            "Epoch 00063: val_accuracy did not improve from 0.76616\n",
            "Epoch 64/100\n",
            "692/692 [==============================] - 179s 258ms/step - loss: 0.0312 - accuracy: 0.9909 - val_loss: 1.7453 - val_accuracy: 0.7553\n",
            "\n",
            "Epoch 00064: val_accuracy did not improve from 0.76616\n",
            "Epoch 65/100\n",
            "692/692 [==============================] - 179s 258ms/step - loss: 0.0344 - accuracy: 0.9909 - val_loss: 1.6009 - val_accuracy: 0.7560\n",
            "\n",
            "Epoch 00065: val_accuracy did not improve from 0.76616\n",
            "Epoch 66/100\n",
            "692/692 [==============================] - 178s 257ms/step - loss: 0.0283 - accuracy: 0.9932 - val_loss: 1.5681 - val_accuracy: 0.7591\n",
            "\n",
            "Epoch 00066: val_accuracy did not improve from 0.76616\n",
            "Epoch 67/100\n",
            "692/692 [==============================] - 179s 258ms/step - loss: 0.0360 - accuracy: 0.9894 - val_loss: 1.7218 - val_accuracy: 0.7508\n",
            "\n",
            "Epoch 00067: val_accuracy did not improve from 0.76616\n",
            "Epoch 68/100\n",
            "692/692 [==============================] - 177s 256ms/step - loss: 0.0303 - accuracy: 0.9919 - val_loss: 1.5998 - val_accuracy: 0.7614\n",
            "\n",
            "Epoch 00068: val_accuracy did not improve from 0.76616\n",
            "Epoch 69/100\n",
            "692/692 [==============================] - 174s 251ms/step - loss: 0.0295 - accuracy: 0.9913 - val_loss: 1.4975 - val_accuracy: 0.7766\n",
            "\n",
            "Epoch 00069: val_accuracy improved from 0.76616 to 0.77662, saving model to weights.trafficsign_xception.transfer3.preprocess.best.hdf5\n",
            "Epoch 70/100\n",
            "692/692 [==============================] - 177s 256ms/step - loss: 0.0225 - accuracy: 0.9934 - val_loss: 1.6863 - val_accuracy: 0.7462\n",
            "\n",
            "Epoch 00070: val_accuracy did not improve from 0.77662\n",
            "Epoch 71/100\n",
            "692/692 [==============================] - 177s 256ms/step - loss: 0.0185 - accuracy: 0.9946 - val_loss: 1.6777 - val_accuracy: 0.7590\n",
            "\n",
            "Epoch 00071: val_accuracy did not improve from 0.77662\n",
            "Epoch 72/100\n",
            "692/692 [==============================] - 178s 257ms/step - loss: 0.0273 - accuracy: 0.9932 - val_loss: 1.5376 - val_accuracy: 0.7596\n",
            "\n",
            "Epoch 00072: val_accuracy did not improve from 0.77662\n",
            "Epoch 73/100\n",
            "692/692 [==============================] - 177s 256ms/step - loss: 0.0243 - accuracy: 0.9934 - val_loss: 1.6567 - val_accuracy: 0.7659\n",
            "\n",
            "Epoch 00073: val_accuracy did not improve from 0.77662\n",
            "Epoch 74/100\n",
            "692/692 [==============================] - 180s 260ms/step - loss: 0.0250 - accuracy: 0.9927 - val_loss: 1.8070 - val_accuracy: 0.7605\n",
            "\n",
            "Epoch 00074: val_accuracy did not improve from 0.77662\n",
            "Epoch 75/100\n",
            "692/692 [==============================] - 178s 258ms/step - loss: 0.0262 - accuracy: 0.9933 - val_loss: 1.7710 - val_accuracy: 0.7542\n",
            "\n",
            "Epoch 00075: val_accuracy did not improve from 0.77662\n",
            "Epoch 76/100\n",
            "692/692 [==============================] - 179s 258ms/step - loss: 0.0289 - accuracy: 0.9918 - val_loss: 1.5780 - val_accuracy: 0.7628\n",
            "\n",
            "Epoch 00076: val_accuracy did not improve from 0.77662\n",
            "Epoch 77/100\n",
            "692/692 [==============================] - 177s 256ms/step - loss: 0.0262 - accuracy: 0.9943 - val_loss: 1.6466 - val_accuracy: 0.7634\n",
            "\n",
            "Epoch 00077: val_accuracy did not improve from 0.77662\n",
            "Epoch 78/100\n",
            "692/692 [==============================] - 180s 261ms/step - loss: 0.0239 - accuracy: 0.9942 - val_loss: 1.5967 - val_accuracy: 0.7780\n",
            "\n",
            "Epoch 00078: val_accuracy improved from 0.77662 to 0.77797, saving model to weights.trafficsign_xception.transfer3.preprocess.best.hdf5\n",
            "Epoch 79/100\n",
            "692/692 [==============================] - 180s 261ms/step - loss: 0.0227 - accuracy: 0.9944 - val_loss: 1.7971 - val_accuracy: 0.7690\n",
            "\n",
            "Epoch 00079: val_accuracy did not improve from 0.77797\n",
            "Epoch 80/100\n",
            "692/692 [==============================] - 181s 262ms/step - loss: 0.0239 - accuracy: 0.9929 - val_loss: 1.7362 - val_accuracy: 0.7617\n",
            "\n",
            "Epoch 00080: val_accuracy did not improve from 0.77797\n",
            "Epoch 81/100\n",
            "692/692 [==============================] - 181s 262ms/step - loss: 0.0237 - accuracy: 0.9945 - val_loss: 1.5604 - val_accuracy: 0.7719\n",
            "\n",
            "Epoch 00081: val_accuracy did not improve from 0.77797\n",
            "Epoch 82/100\n",
            "692/692 [==============================] - 181s 261ms/step - loss: 0.0196 - accuracy: 0.9935 - val_loss: 2.1366 - val_accuracy: 0.7584\n",
            "\n",
            "Epoch 00082: val_accuracy did not improve from 0.77797\n",
            "Epoch 83/100\n",
            "692/692 [==============================] - 181s 262ms/step - loss: 0.0268 - accuracy: 0.9935 - val_loss: 1.8133 - val_accuracy: 0.7523\n",
            "\n",
            "Epoch 00083: val_accuracy did not improve from 0.77797\n",
            "Epoch 84/100\n",
            "692/692 [==============================] - 179s 259ms/step - loss: 0.0239 - accuracy: 0.9941 - val_loss: 1.6532 - val_accuracy: 0.7641\n",
            "\n",
            "Epoch 00084: val_accuracy did not improve from 0.77797\n",
            "Epoch 85/100\n",
            "692/692 [==============================] - 182s 264ms/step - loss: 0.0170 - accuracy: 0.9953 - val_loss: 1.6666 - val_accuracy: 0.7725\n",
            "\n",
            "Epoch 00085: val_accuracy did not improve from 0.77797\n",
            "Epoch 86/100\n",
            "692/692 [==============================] - 183s 264ms/step - loss: 0.0226 - accuracy: 0.9927 - val_loss: 1.6220 - val_accuracy: 0.7576\n",
            "\n",
            "Epoch 00086: val_accuracy did not improve from 0.77797\n",
            "Epoch 87/100\n",
            "692/692 [==============================] - 180s 260ms/step - loss: 0.0201 - accuracy: 0.9949 - val_loss: 1.8581 - val_accuracy: 0.7679\n",
            "\n",
            "Epoch 00087: val_accuracy did not improve from 0.77797\n",
            "Epoch 88/100\n",
            "692/692 [==============================] - 178s 257ms/step - loss: 0.0302 - accuracy: 0.9937 - val_loss: 2.0151 - val_accuracy: 0.7535\n",
            "\n",
            "Epoch 00088: val_accuracy did not improve from 0.77797\n",
            "Epoch 89/100\n",
            "692/692 [==============================] - 178s 257ms/step - loss: 0.0316 - accuracy: 0.9922 - val_loss: 1.7336 - val_accuracy: 0.7548\n",
            "\n",
            "Epoch 00089: val_accuracy did not improve from 0.77797\n",
            "Epoch 90/100\n",
            "692/692 [==============================] - 177s 256ms/step - loss: 0.0252 - accuracy: 0.9940 - val_loss: 1.5554 - val_accuracy: 0.7624\n",
            "\n",
            "Epoch 00090: val_accuracy did not improve from 0.77797\n",
            "Epoch 91/100\n",
            "692/692 [==============================] - 185s 268ms/step - loss: 0.0273 - accuracy: 0.9942 - val_loss: 1.7365 - val_accuracy: 0.7606\n",
            "\n",
            "Epoch 00091: val_accuracy did not improve from 0.77797\n",
            "Epoch 92/100\n",
            "692/692 [==============================] - 189s 273ms/step - loss: 0.0129 - accuracy: 0.9956 - val_loss: 1.9815 - val_accuracy: 0.7564\n",
            "\n",
            "Epoch 00092: val_accuracy did not improve from 0.77797\n",
            "Epoch 93/100\n",
            "692/692 [==============================] - 181s 261ms/step - loss: 0.0212 - accuracy: 0.9941 - val_loss: 1.7397 - val_accuracy: 0.7723\n",
            "\n",
            "Epoch 00093: val_accuracy did not improve from 0.77797\n",
            "Epoch 94/100\n",
            "692/692 [==============================] - 180s 260ms/step - loss: 0.0162 - accuracy: 0.9958 - val_loss: 1.7868 - val_accuracy: 0.7691\n",
            "\n",
            "Epoch 00094: val_accuracy did not improve from 0.77797\n",
            "Epoch 95/100\n",
            "692/692 [==============================] - 178s 257ms/step - loss: 0.0258 - accuracy: 0.9941 - val_loss: 1.9019 - val_accuracy: 0.7667\n",
            "\n",
            "Epoch 00095: val_accuracy did not improve from 0.77797\n",
            "Epoch 96/100\n",
            "692/692 [==============================] - 176s 254ms/step - loss: 0.0306 - accuracy: 0.9930 - val_loss: 1.6458 - val_accuracy: 0.7687\n",
            "\n",
            "Epoch 00096: val_accuracy did not improve from 0.77797\n",
            "Epoch 97/100\n",
            "692/692 [==============================] - 177s 256ms/step - loss: 0.0220 - accuracy: 0.9937 - val_loss: 1.6481 - val_accuracy: 0.7705\n",
            "\n",
            "Epoch 00097: val_accuracy did not improve from 0.77797\n",
            "Epoch 98/100\n",
            "692/692 [==============================] - 186s 268ms/step - loss: 0.0199 - accuracy: 0.9943 - val_loss: 2.2052 - val_accuracy: 0.7507\n",
            "\n",
            "Epoch 00098: val_accuracy did not improve from 0.77797\n",
            "Epoch 99/100\n",
            "692/692 [==============================] - 179s 258ms/step - loss: 0.0144 - accuracy: 0.9954 - val_loss: 1.8081 - val_accuracy: 0.7656\n",
            "\n",
            "Epoch 00099: val_accuracy did not improve from 0.77797\n",
            "Epoch 100/100\n",
            "692/692 [==============================] - 179s 259ms/step - loss: 0.0224 - accuracy: 0.9936 - val_loss: 1.6652 - val_accuracy: 0.7728\n",
            "\n",
            "Epoch 00100: val_accuracy did not improve from 0.77797\n"
          ],
          "name": "stdout"
        }
      ]
    }
  ]
}