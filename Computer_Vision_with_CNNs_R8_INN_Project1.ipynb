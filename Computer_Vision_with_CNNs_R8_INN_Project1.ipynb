{
  "nbformat": 4,
  "nbformat_minor": 0,
  "metadata": {
    "colab": {
      "name": "Computer_Vision_with_CNNs_R8_INN_Project1.ipynb",
      "provenance": [],
      "collapsed_sections": [],
      "toc_visible": true,
      "machine_shape": "hm",
      "authorship_tag": "ABX9TyOzB7rgy3tyHH9qrRGT5LSe",
      "include_colab_link": true
    },
    "kernelspec": {
      "name": "python3",
      "display_name": "Python 3"
    },
    "accelerator": "TPU"
  },
  "cells": [
    {
      "cell_type": "markdown",
      "metadata": {
        "id": "view-in-github",
        "colab_type": "text"
      },
      "source": [
        "<a href=\"https://colab.research.google.com/github/bhaveshgandhi1/greatlearningpgaiml/blob/master/Computer_Vision_with_CNNs_R8_INN_Project1.ipynb\" target=\"_parent\"><img src=\"https://colab.research.google.com/assets/colab-badge.svg\" alt=\"Open In Colab\"/></a>"
      ]
    },
    {
      "cell_type": "code",
      "metadata": {
        "id": "n53pOMA7_N0Y"
      },
      "source": [
        "import numpy as np\r\n",
        "import pandas as pd\r\n",
        "import tensorflow as tf\r\n",
        "import matplotlib.pyplot as plt\r\n",
        "from sklearn.metrics import confusion_matrix,accuracy_score\r\n",
        "from sklearn.metrics import classification_report\r\n",
        "from sklearn.preprocessing import OneHotEncoder\r\n",
        "from sklearn.metrics import confusion_matrix\r\n",
        "from tensorflow.keras.preprocessing.image import ImageDataGenerator\r\n",
        "import os\r\n",
        "%matplotlib inline\r\n"
      ],
      "execution_count": null,
      "outputs": []
    },
    {
      "cell_type": "code",
      "metadata": {
        "colab": {
          "base_uri": "https://localhost:8080/"
        },
        "id": "IMK65QqLlfQ9",
        "outputId": "aaf6a516-4f5a-4960-a805-dcd95624f4d7"
      },
      "source": [
        "gpu_info = !nvidia-smi\r\n",
        "gpu_info = '\\n'.join(gpu_info)\r\n",
        "if gpu_info.find('failed') >= 0:\r\n",
        "  print('Select the Runtime > \"Change runtime type\" menu to enable a GPU accelerator, ')\r\n",
        "  print('and then re-execute this cell.')\r\n",
        "else:\r\n",
        "  print(gpu_info)"
      ],
      "execution_count": null,
      "outputs": [
        {
          "output_type": "stream",
          "text": [
            "Select the Runtime > \"Change runtime type\" menu to enable a GPU accelerator, \n",
            "and then re-execute this cell.\n"
          ],
          "name": "stdout"
        }
      ]
    },
    {
      "cell_type": "code",
      "metadata": {
        "colab": {
          "base_uri": "https://localhost:8080/"
        },
        "id": "uSxnn_0Zl4Zv",
        "outputId": "1f5edf59-1a4c-4b8b-870f-9acca8b30491"
      },
      "source": [
        " from psutil import virtual_memory\r\n",
        "ram_gb = virtual_memory().total / 1e9\r\n",
        "print('Your runtime has {:.1f} gigabytes of available RAM\\n'.format(ram_gb))\r\n",
        "\r\n",
        "if ram_gb < 20:\r\n",
        "  print('To enable a high-RAM runtime, select the Runtime > \"Change runtime type\"')\r\n",
        "  print('menu, and then select High-RAM in the Runtime shape dropdown. Then, ')\r\n",
        "  print('re-execute this cell.')\r\n",
        "else:\r\n",
        "  print('You are using a high-RAM runtime!')"
      ],
      "execution_count": null,
      "outputs": [
        {
          "output_type": "stream",
          "text": [
            "Your runtime has 38.0 gigabytes of available RAM\n",
            "\n",
            "You are using a high-RAM runtime!\n"
          ],
          "name": "stdout"
        }
      ]
    },
    {
      "cell_type": "code",
      "metadata": {
        "colab": {
          "base_uri": "https://localhost:8080/",
          "height": 35
        },
        "id": "qo3a5JdfBOm3",
        "outputId": "e8beee48-1dec-4dd1-beaf-1db96cde0741"
      },
      "source": [
        "tf.__version__"
      ],
      "execution_count": null,
      "outputs": [
        {
          "output_type": "execute_result",
          "data": {
            "application/vnd.google.colaboratory.intrinsic+json": {
              "type": "string"
            },
            "text/plain": [
              "'2.4.0'"
            ]
          },
          "metadata": {
            "tags": []
          },
          "execution_count": 50
        }
      ]
    },
    {
      "cell_type": "code",
      "metadata": {
        "colab": {
          "base_uri": "https://localhost:8080/"
        },
        "id": "Jtsp5BaOBuSj",
        "outputId": "6a1b0ba5-a00c-4f64-9851-3cfa0841677b"
      },
      "source": [
        "from google.colab import drive\r\n",
        "drive.mount('/content/drive')"
      ],
      "execution_count": null,
      "outputs": [
        {
          "output_type": "stream",
          "text": [
            "Drive already mounted at /content/drive; to attempt to forcibly remount, call drive.mount(\"/content/drive\", force_remount=True).\n"
          ],
          "name": "stdout"
        }
      ]
    },
    {
      "cell_type": "code",
      "metadata": {
        "id": "KxcXfhmPE-3m"
      },
      "source": [
        "os.chdir('/content/drive/My Drive/CNN')"
      ],
      "execution_count": null,
      "outputs": []
    },
    {
      "cell_type": "code",
      "metadata": {
        "colab": {
          "base_uri": "https://localhost:8080/"
        },
        "id": "1H4zGjgeJ674",
        "outputId": "73fc1313-9104-4fee-92e9-e53ff6697245"
      },
      "source": [
        "!ls -ltr"
      ],
      "execution_count": null,
      "outputs": [
        {
          "output_type": "stream",
          "text": [
            "total 776155\n",
            "drwx------ 4 root root      4096 Dec 28 03:42 plant-seedlings-classification\n",
            "-rw------- 1 root root  13773305 Dec 28 07:37 ngrok-stable-linux-amd64.zip\n",
            "drwx------ 4 root root      4096 Dec 28 07:39 tf-log\n",
            "-rw------- 1 root root  13773305 Dec 28 07:54 ngrok-stable-linux-amd64.zip.1\n",
            "-rw------- 1 root root  13773305 Dec 28 08:05 ngrok-stable-linux-amd64.zip.2\n",
            "-rw------- 1 root root  13773305 Dec 28 08:05 ngrok-stable-linux-amd64.zip.3\n",
            "-rw------- 1 root root  13773305 Dec 28 11:40 ngrok-stable-linux-amd64.zip.4\n",
            "-rw------- 1 root root  13773305 Dec 28 11:42 ngrok-stable-linux-amd64.zip.5\n",
            "-rw------- 1 root root   1248960 Dec 28 17:17 weights.aliens.transfer.preprocess.best.hdf5\n",
            "-rw------- 1 root root  13773305 Dec 29 02:44 ngrok-stable-linux-amd64.zip.6\n",
            "-rw------- 1 root root  26683198 Dec 29 02:45 ngrok\n",
            "-rw------- 1 root root   7161808 Dec 30 07:16 weights.plants.transfer.preprocess.best.hdf5\n",
            "-rw------- 1 root root      6494 Dec 30 07:37 plant_seedling1.json\n",
            "-rw------- 1 root root   2400064 Dec 30 07:37 plant_seedling1.h5\n",
            "-rw------- 1 root root     22818 Dec 30 08:42 submission_final1.csv\n",
            "-rw------- 1 root root 559243568 Dec 30 13:14 weights.plants1.transfer.preprocess.best.hdf5\n",
            "-rw------- 1 root root 101592712 Dec 30 15:36 plants_resnet.h5\n"
          ],
          "name": "stdout"
        }
      ]
    },
    {
      "cell_type": "code",
      "metadata": {
        "colab": {
          "base_uri": "https://localhost:8080/"
        },
        "id": "I5yH86XqKBkx",
        "outputId": "dad9a126-b335-46d7-958f-9310e1ce9cc6"
      },
      "source": [
        "!ls -R | grep \":$\" | sed -e 's/:$//' -e 's/[^-][^\\/]*\\//--/g' -e 's/^/   /' -e 's/-/|/'"
      ],
      "execution_count": null,
      "outputs": [
        {
          "output_type": "stream",
          "text": [
            "   .\n",
            "   |-plant-seedlings-classification\n",
            "   |---test\n",
            "   |---train\n",
            "   |-----Black-grass\n",
            "   |-----Charlock\n",
            "   |-----Cleavers\n",
            "   |-----Common Chickweed\n",
            "   |-----Common wheat\n",
            "   |-----Fat Hen\n",
            "   |-----Loose Silky-bent\n",
            "   |-----Maize\n",
            "   |-----Scentless Mayweed\n",
            "   |-----Shepherds Purse\n",
            "   |-----Small-flowered Cranesbill\n",
            "   |-----Sugar beet\n",
            "   |-tf-log\n",
            "   |---alien_v11\n",
            "   |-----train\n",
            "   |-------plugins\n",
            "   |---------profile\n",
            "   |-----------2020_12_28_07_40_17\n",
            "   |-----------2020_12_28_07_56_08\n",
            "   |-----------2020_12_28_07_56_48\n",
            "   |-----------2020_12_28_08_07_00\n",
            "   |-----------2020_12_28_11_43_08\n",
            "   |-----------2020_12_29_02_45_53\n",
            "   |-----validation\n",
            "   |---plants_v11\n",
            "   |-----train\n",
            "   |-------plugins\n",
            "   |---------profile\n",
            "   |-----------2020_12_29_03_13_55\n"
          ],
          "name": "stdout"
        }
      ]
    },
    {
      "cell_type": "code",
      "metadata": {
        "id": "Pzhflc0RKP-n"
      },
      "source": [
        "batch_size = 32\r\n",
        "train_datagen = tf.keras.preprocessing.image.ImageDataGenerator(    \r\n",
        "      rescale=1./255.,\r\n",
        "      vertical_flip=True, \r\n",
        "      horizontal_flip=True,\r\n",
        "      rotation_range=0.4, \r\n",
        "      zoom_range=0.25,\r\n",
        "      shear_range=0.1,\r\n",
        "      fill_mode='nearest',\r\n",
        "      validation_split=0.2\r\n",
        ")\r\n"
      ],
      "execution_count": null,
      "outputs": []
    },
    {
      "cell_type": "code",
      "metadata": {
        "colab": {
          "base_uri": "https://localhost:8080/"
        },
        "id": "mBIxHdBpNx0b",
        "outputId": "ece98d73-d14f-4652-d0ae-ca3692c2b5a4"
      },
      "source": [
        "#val_datagen=tf.keras.preprocessing.image.ImageDataGenerator(rescale=1./255.)\r\n",
        "\r\n",
        "train_generator = train_datagen.flow_from_directory(\r\n",
        "        'plant-seedlings-classification/train',\r\n",
        "        subset='training',\r\n",
        "        target_size=(256, 256),\r\n",
        "        batch_size=batch_size,\r\n",
        "        class_mode='categorical')\r\n",
        "\r\n",
        "validation_generator = train_datagen.flow_from_directory(\r\n",
        "        'plant-seedlings-classification/train',\r\n",
        "        subset='validation',\r\n",
        "        batch_size=batch_size,\r\n",
        "        class_mode='categorical')\r\n"
      ],
      "execution_count": null,
      "outputs": [
        {
          "output_type": "stream",
          "text": [
            "Found 3803 images belonging to 12 classes.\n",
            "Found 947 images belonging to 12 classes.\n"
          ],
          "name": "stdout"
        }
      ]
    },
    {
      "cell_type": "code",
      "metadata": {
        "colab": {
          "base_uri": "https://localhost:8080/",
          "height": 364
        },
        "id": "AtzobOlTQUh5",
        "outputId": "d4bbfa62-d74c-4454-dc5d-6847338abda9"
      },
      "source": [
        "#Display images from training folder\r\n",
        "# **add subplot in the below fig\r\n",
        "x,y = train_generator.next()\r\n",
        "\r\n",
        "for i in range(0,3):\r\n",
        "    image = x[i]\r\n",
        "    label = y[i]\r\n",
        "    plt.subplot2grid((3,3),(2,i))\r\n",
        "    print(list(train_generator.class_indices.keys())[list(train_generator.class_indices.values()).index(np.argmax(label))])\r\n",
        "    plt.imshow(image)\r\n",
        "    plt.show()\r\n",
        "    "
      ],
      "execution_count": null,
      "outputs": [
        {
          "output_type": "stream",
          "text": [
            "Shepherds Purse\n"
          ],
          "name": "stdout"
        },
        {
          "output_type": "display_data",
          "data": {
            "image/png": "[encoded data removed]",
            "text/plain": [
              "<Figure size 432x288 with 1 Axes>"
            ]
          },
          "metadata": {
            "tags": [],
            "needs_background": "light"
          }
        },
        {
          "output_type": "stream",
          "text": [
            "Cleavers\n"
          ],
          "name": "stdout"
        },
        {
          "output_type": "display_data",
          "data": {
            "image/png": "[encoded data removed]",
            "text/plain": [
              "<Figure size 432x288 with 1 Axes>"
            ]
          },
          "metadata": {
            "tags": [],
            "needs_background": "light"
          }
        },
        {
          "output_type": "stream",
          "text": [
            "Cleavers\n"
          ],
          "name": "stdout"
        },
        {
          "output_type": "display_data",
          "data": {
            "image/png": "[encoded data removed]",
            "text/plain": [
              "<Figure size 432x288 with 1 Axes>"
            ]
          },
          "metadata": {
            "tags": [],
            "needs_background": "light"
          }
        }
      ]
    },
    {
      "cell_type": "code",
      "metadata": {
        "colab": {
          "base_uri": "https://localhost:8080/",
          "height": 364
        },
        "id": "73RwdVR1QakX",
        "outputId": "33848034-e917-45fc-df1c-d7a171c0182e"
      },
      "source": [
        "#Display images from training folder\r\n",
        "# **add subplot in the below fig\r\n",
        "x,y = validation_generator.next()\r\n",
        "\r\n",
        "for i in range(0,3):\r\n",
        "    image = x[i]\r\n",
        "    label = y[i]\r\n",
        "    plt.subplot2grid((3,3),(2,i))\r\n",
        "    print(list(train_generator.class_indices.keys())[list(train_generator.class_indices.values()).index(np.argmax(label))])\r\n",
        "    plt.imshow(image)\r\n",
        "    plt.show()"
      ],
      "execution_count": null,
      "outputs": [
        {
          "output_type": "stream",
          "text": [
            "Scentless Mayweed\n"
          ],
          "name": "stdout"
        },
        {
          "output_type": "display_data",
          "data": {
            "image/png": "[encoded data removed]",
            "text/plain": [
              "<Figure size 432x288 with 1 Axes>"
            ]
          },
          "metadata": {
            "tags": [],
            "needs_background": "light"
          }
        },
        {
          "output_type": "stream",
          "text": [
            "Fat Hen\n"
          ],
          "name": "stdout"
        },
        {
          "output_type": "display_data",
          "data": {
            "image/png": "[encoded data removed]",
            "text/plain": [
              "<Figure size 432x288 with 1 Axes>"
            ]
          },
          "metadata": {
            "tags": [],
            "needs_background": "light"
          }
        },
        {
          "output_type": "stream",
          "text": [
            "Small-flowered Cranesbill\n"
          ],
          "name": "stdout"
        },
        {
          "output_type": "display_data",
          "data": {
            "image/png": "[encoded data removed]",
            "text/plain": [
              "<Figure size 432x288 with 1 Axes>"
            ]
          },
          "metadata": {
            "tags": [],
            "needs_background": "light"
          }
        }
      ]
    },
    {
      "cell_type": "code",
      "metadata": {
        "id": "TUphLDvCPzEN"
      },
      "source": [
        "from tensorflow.keras.models import Sequential\r\n",
        "from tensorflow.keras.layers import Conv2D, MaxPooling2D, Flatten, Dense, Dropout, Activation , BatchNormalization"
      ],
      "execution_count": null,
      "outputs": []
    },
    {
      "cell_type": "code",
      "metadata": {
        "id": "bhJ_6sqvP-el"
      },
      "source": [
        "#Clear any previous model from memory\r\n",
        "tf.keras.backend.clear_session()\r\n",
        "\r\n",
        "model = Sequential()\r\n",
        "#model.add(Dense(64,activation='relu',input_shape = train_generator.image_shape))\r\n",
        "\r\n",
        "#normalize data\r\n",
        "model.add(tf.keras.layers.InputLayer(input_shape=(256,256,3)))\r\n",
        "\r\n",
        "#normalize data\r\n",
        "model.add(tf.keras.layers.BatchNormalization())\r\n",
        "\r\n",
        "model.add(Conv2D(64, kernel_size = (3,3),activation='relu'))\r\n",
        "model.add(MaxPooling2D(pool_size = (3, 3)))\r\n",
        "\r\n",
        "\r\n",
        "\r\n",
        "#normalize data\r\n",
        "model.add(tf.keras.layers.BatchNormalization())\r\n",
        "\r\n",
        "model.add(Conv2D(32, kernel_size = (3, 3), activation = 'relu'))\r\n",
        "model.add(MaxPooling2D(pool_size = (3, 3)))\r\n",
        "\r\n",
        "\r\n",
        "\r\n",
        "#normalize data\r\n",
        "model.add(tf.keras.layers.BatchNormalization())\r\n",
        "model.add(Conv2D(32, kernel_size = (3, 3), activation = 'relu'))\r\n",
        "model.add(MaxPooling2D(pool_size = (3, 3)))\r\n",
        "\r\n",
        "\r\n",
        "\r\n",
        "#normalize data\r\n",
        "model.add(tf.keras.layers.BatchNormalization())\r\n",
        "\r\n",
        "model.add(Flatten())\r\n",
        "model.add(Dense(units = 256, activation = 'relu'))\r\n",
        "model.add(Dropout(rate = 0.5))\r\n",
        "\r\n",
        "model.add(Dense(units = 128, activation = 'relu'))\r\n",
        "model.add(Dropout(rate = 0.2))\r\n",
        "\r\n",
        "model.add(Dense(units = len(set(train_generator.classes)), activation = 'softmax'))"
      ],
      "execution_count": null,
      "outputs": []
    },
    {
      "cell_type": "code",
      "metadata": {
        "id": "XCo7b1QXRIYZ"
      },
      "source": [
        "from keras.optimizers import Adam\r\n",
        "opt = Adam(learning_rate=0.001,beta_1=0.9,beta_2=0.999,epsilon=1e-02,amsgrad=False)\r\n",
        "model.compile(optimizer = opt, loss = 'CategoricalCrossentropy', metrics = ['accuracy'])"
      ],
      "execution_count": null,
      "outputs": []
    },
    {
      "cell_type": "code",
      "metadata": {
        "colab": {
          "base_uri": "https://localhost:8080/"
        },
        "id": "oMBN3v1GRQl6",
        "outputId": "054493f8-4adb-4fa0-99e1-079677b971d6"
      },
      "source": [
        "model.summary()"
      ],
      "execution_count": null,
      "outputs": [
        {
          "output_type": "stream",
          "text": [
            "Model: \"sequential\"\n",
            "_________________________________________________________________\n",
            "Layer (type)                 Output Shape              Param #   \n",
            "=================================================================\n",
            "batch_normalization (BatchNo (None, 256, 256, 3)       12        \n",
            "_________________________________________________________________\n",
            "conv2d (Conv2D)              (None, 254, 254, 64)      1792      \n",
            "_________________________________________________________________\n",
            "max_pooling2d (MaxPooling2D) (None, 84, 84, 64)        0         \n",
            "_________________________________________________________________\n",
            "batch_normalization_1 (Batch (None, 84, 84, 64)        256       \n",
            "_________________________________________________________________\n",
            "conv2d_1 (Conv2D)            (None, 82, 82, 32)        18464     \n",
            "_________________________________________________________________\n",
            "max_pooling2d_1 (MaxPooling2 (None, 27, 27, 32)        0         \n",
            "_________________________________________________________________\n",
            "batch_normalization_2 (Batch (None, 27, 27, 32)        128       \n",
            "_________________________________________________________________\n",
            "conv2d_2 (Conv2D)            (None, 25, 25, 32)        9248      \n",
            "_________________________________________________________________\n",
            "max_pooling2d_2 (MaxPooling2 (None, 8, 8, 32)          0         \n",
            "_________________________________________________________________\n",
            "batch_normalization_3 (Batch (None, 8, 8, 32)          128       \n",
            "_________________________________________________________________\n",
            "flatten (Flatten)            (None, 2048)              0         \n",
            "_________________________________________________________________\n",
            "dense (Dense)                (None, 256)               524544    \n",
            "_________________________________________________________________\n",
            "dropout (Dropout)            (None, 256)               0         \n",
            "_________________________________________________________________\n",
            "dense_1 (Dense)              (None, 128)               32896     \n",
            "_________________________________________________________________\n",
            "dropout_1 (Dropout)          (None, 128)               0         \n",
            "_________________________________________________________________\n",
            "dense_2 (Dense)              (None, 12)                1548      \n",
            "=================================================================\n",
            "Total params: 589,016\n",
            "Trainable params: 588,754\n",
            "Non-trainable params: 262\n",
            "_________________________________________________________________\n"
          ],
          "name": "stdout"
        }
      ]
    },
    {
      "cell_type": "code",
      "metadata": {
        "id": "YmN2_-2XRTxq"
      },
      "source": [
        "# checkpoint\r\n",
        "filepath=\"weights.plants.transfer.preprocess.best.hdf5\"\r\n",
        "checkpoint = tf.keras.callbacks.ModelCheckpoint(filepath, monitor='val_accuracy', verbose=1, save_best_only=True, mode='max')"
      ],
      "execution_count": null,
      "outputs": []
    },
    {
      "cell_type": "code",
      "metadata": {
        "id": "w4YVDlyUd8dh"
      },
      "source": [
        "#%load_ext tensorboard"
      ],
      "execution_count": null,
      "outputs": []
    },
    {
      "cell_type": "code",
      "metadata": {
        "id": "Jze_zZIud_B5"
      },
      "source": [
        "#log_dir = './tf-log/plants_v11'"
      ],
      "execution_count": null,
      "outputs": []
    },
    {
      "cell_type": "code",
      "metadata": {
        "id": "cXMarU4QeJrK"
      },
      "source": [
        "#tb_cb = tf.keras.callbacks.TensorBoard(log_dir, histogram_freq=1)"
      ],
      "execution_count": null,
      "outputs": []
    },
    {
      "cell_type": "code",
      "metadata": {
        "colab": {
          "base_uri": "https://localhost:8080/"
        },
        "id": "UtEibVztSHT8",
        "outputId": "bf09d699-9c3f-402c-aee7-29c96cfbecbe"
      },
      "source": [
        "batch_size = 32\r\n",
        "\r\n",
        "fitted_model = model.fit(\r\n",
        "        train_generator,\r\n",
        "        steps_per_epoch= int(train_generator.samples) // batch_size,\r\n",
        "        epochs=100,\r\n",
        "        validation_data=validation_generator,\r\n",
        "        validation_steps= int(validation_generator.samples) // batch_size,\r\n",
        "        callbacks=[checkpoint]\r\n",
        "        )"
      ],
      "execution_count": null,
      "outputs": [
        {
          "output_type": "stream",
          "text": [
            "Epoch 1/100\n",
            "118/118 [==============================] - 1398s 12s/step - loss: 2.8715 - accuracy: 0.1547 - val_loss: 3.2068 - val_accuracy: 0.1369\n",
            "\n",
            "Epoch 00001: val_accuracy improved from -inf to 0.13685, saving model to weights.plants.transfer.preprocess.best.hdf5\n",
            "Epoch 2/100\n",
            "118/118 [==============================] - 164s 1s/step - loss: 1.7431 - accuracy: 0.4131 - val_loss: 4.2407 - val_accuracy: 0.1358\n",
            "\n",
            "Epoch 00002: val_accuracy did not improve from 0.13685\n",
            "Epoch 3/100\n",
            "118/118 [==============================] - 164s 1s/step - loss: 1.3435 - accuracy: 0.5390 - val_loss: 3.4810 - val_accuracy: 0.1864\n",
            "\n",
            "Epoch 00003: val_accuracy improved from 0.13685 to 0.18642, saving model to weights.plants.transfer.preprocess.best.hdf5\n",
            "Epoch 4/100\n",
            "118/118 [==============================] - 166s 1s/step - loss: 1.1759 - accuracy: 0.6021 - val_loss: 1.5418 - val_accuracy: 0.4601\n",
            "\n",
            "Epoch 00004: val_accuracy improved from 0.18642 to 0.46013, saving model to weights.plants.transfer.preprocess.best.hdf5\n",
            "Epoch 5/100\n",
            "118/118 [==============================] - 165s 1s/step - loss: 0.9927 - accuracy: 0.6693 - val_loss: 0.7428 - val_accuracy: 0.7511\n",
            "\n",
            "Epoch 00005: val_accuracy improved from 0.46013 to 0.75108, saving model to weights.plants.transfer.preprocess.best.hdf5\n",
            "Epoch 6/100\n",
            "118/118 [==============================] - 167s 1s/step - loss: 0.8439 - accuracy: 0.7084 - val_loss: 0.5979 - val_accuracy: 0.8103\n",
            "\n",
            "Epoch 00006: val_accuracy improved from 0.75108 to 0.81034, saving model to weights.plants.transfer.preprocess.best.hdf5\n",
            "Epoch 7/100\n",
            "118/118 [==============================] - 168s 1s/step - loss: 0.7708 - accuracy: 0.7396 - val_loss: 0.5613 - val_accuracy: 0.8125\n",
            "\n",
            "Epoch 00007: val_accuracy improved from 0.81034 to 0.81250, saving model to weights.plants.transfer.preprocess.best.hdf5\n",
            "Epoch 8/100\n",
            "118/118 [==============================] - 167s 1s/step - loss: 0.7044 - accuracy: 0.7466 - val_loss: 0.5463 - val_accuracy: 0.8297\n",
            "\n",
            "Epoch 00008: val_accuracy improved from 0.81250 to 0.82974, saving model to weights.plants.transfer.preprocess.best.hdf5\n",
            "Epoch 9/100\n",
            "118/118 [==============================] - 167s 1s/step - loss: 0.6230 - accuracy: 0.8020 - val_loss: 0.4734 - val_accuracy: 0.8384\n",
            "\n",
            "Epoch 00009: val_accuracy improved from 0.82974 to 0.83836, saving model to weights.plants.transfer.preprocess.best.hdf5\n",
            "Epoch 10/100\n",
            "118/118 [==============================] - 167s 1s/step - loss: 0.5978 - accuracy: 0.7878 - val_loss: 0.4597 - val_accuracy: 0.8567\n",
            "\n",
            "Epoch 00010: val_accuracy improved from 0.83836 to 0.85668, saving model to weights.plants.transfer.preprocess.best.hdf5\n",
            "Epoch 11/100\n",
            "118/118 [==============================] - 167s 1s/step - loss: 0.5680 - accuracy: 0.8029 - val_loss: 0.5868 - val_accuracy: 0.7963\n",
            "\n",
            "Epoch 00011: val_accuracy did not improve from 0.85668\n",
            "Epoch 12/100\n",
            "118/118 [==============================] - 165s 1s/step - loss: 0.5713 - accuracy: 0.7907 - val_loss: 0.4453 - val_accuracy: 0.8491\n",
            "\n",
            "Epoch 00012: val_accuracy did not improve from 0.85668\n",
            "Epoch 13/100\n",
            "118/118 [==============================] - 166s 1s/step - loss: 0.4973 - accuracy: 0.8286 - val_loss: 0.4335 - val_accuracy: 0.8491\n",
            "\n",
            "Epoch 00013: val_accuracy did not improve from 0.85668\n",
            "Epoch 14/100\n",
            "118/118 [==============================] - 165s 1s/step - loss: 0.4705 - accuracy: 0.8360 - val_loss: 0.4531 - val_accuracy: 0.8513\n",
            "\n",
            "Epoch 00014: val_accuracy did not improve from 0.85668\n",
            "Epoch 15/100\n",
            "118/118 [==============================] - 167s 1s/step - loss: 0.4924 - accuracy: 0.8199 - val_loss: 0.4133 - val_accuracy: 0.8631\n",
            "\n",
            "Epoch 00015: val_accuracy improved from 0.85668 to 0.86315, saving model to weights.plants.transfer.preprocess.best.hdf5\n",
            "Epoch 16/100\n",
            "118/118 [==============================] - 167s 1s/step - loss: 0.4634 - accuracy: 0.8284 - val_loss: 0.3803 - val_accuracy: 0.8750\n",
            "\n",
            "Epoch 00016: val_accuracy improved from 0.86315 to 0.87500, saving model to weights.plants.transfer.preprocess.best.hdf5\n",
            "Epoch 17/100\n",
            "118/118 [==============================] - 166s 1s/step - loss: 0.4005 - accuracy: 0.8549 - val_loss: 0.4281 - val_accuracy: 0.8502\n",
            "\n",
            "Epoch 00017: val_accuracy did not improve from 0.87500\n",
            "Epoch 18/100\n",
            "118/118 [==============================] - 166s 1s/step - loss: 0.4204 - accuracy: 0.8485 - val_loss: 0.3649 - val_accuracy: 0.8804\n",
            "\n",
            "Epoch 00018: val_accuracy improved from 0.87500 to 0.88039, saving model to weights.plants.transfer.preprocess.best.hdf5\n",
            "Epoch 19/100\n",
            "118/118 [==============================] - 165s 1s/step - loss: 0.4236 - accuracy: 0.8579 - val_loss: 0.3405 - val_accuracy: 0.8804\n",
            "\n",
            "Epoch 00019: val_accuracy did not improve from 0.88039\n",
            "Epoch 20/100\n",
            "118/118 [==============================] - 165s 1s/step - loss: 0.4202 - accuracy: 0.8550 - val_loss: 0.4135 - val_accuracy: 0.8825\n",
            "\n",
            "Epoch 00020: val_accuracy improved from 0.88039 to 0.88254, saving model to weights.plants.transfer.preprocess.best.hdf5\n",
            "Epoch 21/100\n",
            "118/118 [==============================] - 165s 1s/step - loss: 0.3984 - accuracy: 0.8521 - val_loss: 0.4504 - val_accuracy: 0.8556\n",
            "\n",
            "Epoch 00021: val_accuracy did not improve from 0.88254\n",
            "Epoch 22/100\n",
            "118/118 [==============================] - 165s 1s/step - loss: 0.4142 - accuracy: 0.8496 - val_loss: 0.3450 - val_accuracy: 0.8901\n",
            "\n",
            "Epoch 00022: val_accuracy improved from 0.88254 to 0.89009, saving model to weights.plants.transfer.preprocess.best.hdf5\n",
            "Epoch 23/100\n",
            "118/118 [==============================] - 165s 1s/step - loss: 0.3644 - accuracy: 0.8632 - val_loss: 0.4389 - val_accuracy: 0.8815\n",
            "\n",
            "Epoch 00023: val_accuracy did not improve from 0.89009\n",
            "Epoch 24/100\n",
            "118/118 [==============================] - 165s 1s/step - loss: 0.3445 - accuracy: 0.8744 - val_loss: 0.3971 - val_accuracy: 0.8825\n",
            "\n",
            "Epoch 00024: val_accuracy did not improve from 0.89009\n",
            "Epoch 25/100\n",
            "118/118 [==============================] - 165s 1s/step - loss: 0.3337 - accuracy: 0.8831 - val_loss: 0.4319 - val_accuracy: 0.8588\n",
            "\n",
            "Epoch 00025: val_accuracy did not improve from 0.89009\n",
            "Epoch 26/100\n",
            "118/118 [==============================] - 166s 1s/step - loss: 0.3701 - accuracy: 0.8685 - val_loss: 0.3554 - val_accuracy: 0.8879\n",
            "\n",
            "Epoch 00026: val_accuracy did not improve from 0.89009\n",
            "Epoch 27/100\n",
            "118/118 [==============================] - 165s 1s/step - loss: 0.3400 - accuracy: 0.8771 - val_loss: 0.2910 - val_accuracy: 0.9095\n",
            "\n",
            "Epoch 00027: val_accuracy improved from 0.89009 to 0.90948, saving model to weights.plants.transfer.preprocess.best.hdf5\n",
            "Epoch 28/100\n",
            "118/118 [==============================] - 165s 1s/step - loss: 0.3220 - accuracy: 0.8756 - val_loss: 0.3266 - val_accuracy: 0.9149\n",
            "\n",
            "Epoch 00028: val_accuracy improved from 0.90948 to 0.91487, saving model to weights.plants.transfer.preprocess.best.hdf5\n",
            "Epoch 29/100\n",
            "118/118 [==============================] - 165s 1s/step - loss: 0.3244 - accuracy: 0.8767 - val_loss: 0.3711 - val_accuracy: 0.8858\n",
            "\n",
            "Epoch 00029: val_accuracy did not improve from 0.91487\n",
            "Epoch 30/100\n",
            "118/118 [==============================] - 166s 1s/step - loss: 0.3011 - accuracy: 0.8893 - val_loss: 0.3550 - val_accuracy: 0.8890\n",
            "\n",
            "Epoch 00030: val_accuracy did not improve from 0.91487\n",
            "Epoch 31/100\n",
            "118/118 [==============================] - 165s 1s/step - loss: 0.3250 - accuracy: 0.8889 - val_loss: 0.3400 - val_accuracy: 0.9084\n",
            "\n",
            "Epoch 00031: val_accuracy did not improve from 0.91487\n",
            "Epoch 32/100\n",
            "118/118 [==============================] - 165s 1s/step - loss: 0.2969 - accuracy: 0.8929 - val_loss: 0.3694 - val_accuracy: 0.8901\n",
            "\n",
            "Epoch 00032: val_accuracy did not improve from 0.91487\n",
            "Epoch 33/100\n",
            "118/118 [==============================] - 164s 1s/step - loss: 0.2970 - accuracy: 0.8916 - val_loss: 0.3661 - val_accuracy: 0.8869\n",
            "\n",
            "Epoch 00033: val_accuracy did not improve from 0.91487\n",
            "Epoch 34/100\n",
            "118/118 [==============================] - 165s 1s/step - loss: 0.2756 - accuracy: 0.8971 - val_loss: 0.3304 - val_accuracy: 0.9073\n",
            "\n",
            "Epoch 00034: val_accuracy did not improve from 0.91487\n",
            "Epoch 35/100\n",
            "118/118 [==============================] - 165s 1s/step - loss: 0.2704 - accuracy: 0.8976 - val_loss: 0.3422 - val_accuracy: 0.8944\n",
            "\n",
            "Epoch 00035: val_accuracy did not improve from 0.91487\n",
            "Epoch 36/100\n",
            "118/118 [==============================] - 165s 1s/step - loss: 0.2982 - accuracy: 0.8965 - val_loss: 0.2978 - val_accuracy: 0.9235\n",
            "\n",
            "Epoch 00036: val_accuracy improved from 0.91487 to 0.92349, saving model to weights.plants.transfer.preprocess.best.hdf5\n",
            "Epoch 37/100\n",
            "118/118 [==============================] - 165s 1s/step - loss: 0.2487 - accuracy: 0.9041 - val_loss: 0.4983 - val_accuracy: 0.8739\n",
            "\n",
            "Epoch 00037: val_accuracy did not improve from 0.92349\n",
            "Epoch 38/100\n",
            "118/118 [==============================] - 165s 1s/step - loss: 0.2443 - accuracy: 0.9074 - val_loss: 0.3415 - val_accuracy: 0.9009\n",
            "\n",
            "Epoch 00038: val_accuracy did not improve from 0.92349\n",
            "Epoch 39/100\n",
            "118/118 [==============================] - 164s 1s/step - loss: 0.2623 - accuracy: 0.9050 - val_loss: 0.3163 - val_accuracy: 0.9138\n",
            "\n",
            "Epoch 00039: val_accuracy did not improve from 0.92349\n",
            "Epoch 40/100\n",
            "118/118 [==============================] - 166s 1s/step - loss: 0.2588 - accuracy: 0.9003 - val_loss: 0.3712 - val_accuracy: 0.9073\n",
            "\n",
            "Epoch 00040: val_accuracy did not improve from 0.92349\n",
            "Epoch 41/100\n",
            "118/118 [==============================] - 166s 1s/step - loss: 0.2833 - accuracy: 0.8965 - val_loss: 0.3946 - val_accuracy: 0.8912\n",
            "\n",
            "Epoch 00041: val_accuracy did not improve from 0.92349\n",
            "Epoch 42/100\n",
            "118/118 [==============================] - 166s 1s/step - loss: 0.2373 - accuracy: 0.9169 - val_loss: 0.3166 - val_accuracy: 0.9106\n",
            "\n",
            "Epoch 00042: val_accuracy did not improve from 0.92349\n",
            "Epoch 43/100\n",
            "118/118 [==============================] - 165s 1s/step - loss: 0.2357 - accuracy: 0.9140 - val_loss: 0.3365 - val_accuracy: 0.9030\n",
            "\n",
            "Epoch 00043: val_accuracy did not improve from 0.92349\n",
            "Epoch 44/100\n",
            "118/118 [==============================] - 166s 1s/step - loss: 0.2302 - accuracy: 0.9121 - val_loss: 0.2979 - val_accuracy: 0.9159\n",
            "\n",
            "Epoch 00044: val_accuracy did not improve from 0.92349\n",
            "Epoch 45/100\n",
            "118/118 [==============================] - 166s 1s/step - loss: 0.2166 - accuracy: 0.9183 - val_loss: 0.3626 - val_accuracy: 0.8976\n",
            "\n",
            "Epoch 00045: val_accuracy did not improve from 0.92349\n",
            "Epoch 46/100\n",
            "118/118 [==============================] - 164s 1s/step - loss: 0.2550 - accuracy: 0.9031 - val_loss: 0.3265 - val_accuracy: 0.9149\n",
            "\n",
            "Epoch 00046: val_accuracy did not improve from 0.92349\n",
            "Epoch 47/100\n",
            "118/118 [==============================] - 165s 1s/step - loss: 0.2187 - accuracy: 0.9161 - val_loss: 0.2924 - val_accuracy: 0.9332\n",
            "\n",
            "Epoch 00047: val_accuracy improved from 0.92349 to 0.93319, saving model to weights.plants.transfer.preprocess.best.hdf5\n",
            "Epoch 48/100\n",
            "118/118 [==============================] - 165s 1s/step - loss: 0.2153 - accuracy: 0.9238 - val_loss: 0.3381 - val_accuracy: 0.9149\n",
            "\n",
            "Epoch 00048: val_accuracy did not improve from 0.93319\n",
            "Epoch 49/100\n",
            "118/118 [==============================] - 167s 1s/step - loss: 0.1894 - accuracy: 0.9281 - val_loss: 0.4162 - val_accuracy: 0.8976\n",
            "\n",
            "Epoch 00049: val_accuracy did not improve from 0.93319\n",
            "Epoch 50/100\n",
            "118/118 [==============================] - 166s 1s/step - loss: 0.2231 - accuracy: 0.9155 - val_loss: 0.3141 - val_accuracy: 0.9192\n",
            "\n",
            "Epoch 00050: val_accuracy did not improve from 0.93319\n",
            "Epoch 51/100\n",
            "118/118 [==============================] - 167s 1s/step - loss: 0.2598 - accuracy: 0.9115 - val_loss: 0.2842 - val_accuracy: 0.9127\n",
            "\n",
            "Epoch 00051: val_accuracy did not improve from 0.93319\n",
            "Epoch 52/100\n",
            "118/118 [==============================] - 165s 1s/step - loss: 0.2346 - accuracy: 0.9155 - val_loss: 0.3026 - val_accuracy: 0.9289\n",
            "\n",
            "Epoch 00052: val_accuracy did not improve from 0.93319\n",
            "Epoch 53/100\n",
            "118/118 [==============================] - 165s 1s/step - loss: 0.2144 - accuracy: 0.9257 - val_loss: 0.3780 - val_accuracy: 0.8922\n",
            "\n",
            "Epoch 00053: val_accuracy did not improve from 0.93319\n",
            "Epoch 54/100\n",
            "118/118 [==============================] - 165s 1s/step - loss: 0.2080 - accuracy: 0.9237 - val_loss: 0.3266 - val_accuracy: 0.9084\n",
            "\n",
            "Epoch 00054: val_accuracy did not improve from 0.93319\n",
            "Epoch 55/100\n",
            "118/118 [==============================] - 166s 1s/step - loss: 0.2149 - accuracy: 0.9168 - val_loss: 0.3051 - val_accuracy: 0.9213\n",
            "\n",
            "Epoch 00055: val_accuracy did not improve from 0.93319\n",
            "Epoch 56/100\n",
            "118/118 [==============================] - 167s 1s/step - loss: 0.1788 - accuracy: 0.9326 - val_loss: 0.2757 - val_accuracy: 0.9256\n",
            "\n",
            "Epoch 00056: val_accuracy did not improve from 0.93319\n",
            "Epoch 57/100\n",
            "118/118 [==============================] - 166s 1s/step - loss: 0.2079 - accuracy: 0.9243 - val_loss: 0.2983 - val_accuracy: 0.9213\n",
            "\n",
            "Epoch 00057: val_accuracy did not improve from 0.93319\n",
            "Epoch 58/100\n",
            "118/118 [==============================] - 168s 1s/step - loss: 0.2088 - accuracy: 0.9234 - val_loss: 0.3314 - val_accuracy: 0.9170\n",
            "\n",
            "Epoch 00058: val_accuracy did not improve from 0.93319\n",
            "Epoch 59/100\n",
            "118/118 [==============================] - 167s 1s/step - loss: 0.1956 - accuracy: 0.9294 - val_loss: 0.2885 - val_accuracy: 0.9192\n",
            "\n",
            "Epoch 00059: val_accuracy did not improve from 0.93319\n",
            "Epoch 60/100\n",
            "118/118 [==============================] - 168s 1s/step - loss: 0.1739 - accuracy: 0.9379 - val_loss: 0.2960 - val_accuracy: 0.9116\n",
            "\n",
            "Epoch 00060: val_accuracy did not improve from 0.93319\n",
            "Epoch 61/100\n",
            "118/118 [==============================] - 166s 1s/step - loss: 0.2199 - accuracy: 0.9152 - val_loss: 0.3312 - val_accuracy: 0.9073\n",
            "\n",
            "Epoch 00061: val_accuracy did not improve from 0.93319\n",
            "Epoch 62/100\n",
            "118/118 [==============================] - 167s 1s/step - loss: 0.1997 - accuracy: 0.9273 - val_loss: 0.3179 - val_accuracy: 0.9224\n",
            "\n",
            "Epoch 00062: val_accuracy did not improve from 0.93319\n",
            "Epoch 63/100\n",
            "118/118 [==============================] - 166s 1s/step - loss: 0.1703 - accuracy: 0.9366 - val_loss: 0.3016 - val_accuracy: 0.9159\n",
            "\n",
            "Epoch 00063: val_accuracy did not improve from 0.93319\n",
            "Epoch 64/100\n",
            "118/118 [==============================] - 167s 1s/step - loss: 0.1873 - accuracy: 0.9348 - val_loss: 0.3189 - val_accuracy: 0.9170\n",
            "\n",
            "Epoch 00064: val_accuracy did not improve from 0.93319\n",
            "Epoch 65/100\n",
            "118/118 [==============================] - 167s 1s/step - loss: 0.1890 - accuracy: 0.9356 - val_loss: 0.2491 - val_accuracy: 0.9429\n",
            "\n",
            "Epoch 00065: val_accuracy improved from 0.93319 to 0.94289, saving model to weights.plants.transfer.preprocess.best.hdf5\n",
            "Epoch 66/100\n",
            "118/118 [==============================] - 166s 1s/step - loss: 0.1368 - accuracy: 0.9503 - val_loss: 0.3109 - val_accuracy: 0.9192\n",
            "\n",
            "Epoch 00066: val_accuracy did not improve from 0.94289\n",
            "Epoch 67/100\n",
            "118/118 [==============================] - 166s 1s/step - loss: 0.1619 - accuracy: 0.9468 - val_loss: 0.2635 - val_accuracy: 0.9267\n",
            "\n",
            "Epoch 00067: val_accuracy did not improve from 0.94289\n",
            "Epoch 68/100\n",
            "118/118 [==============================] - 166s 1s/step - loss: 0.1681 - accuracy: 0.9362 - val_loss: 0.3263 - val_accuracy: 0.9203\n",
            "\n",
            "Epoch 00068: val_accuracy did not improve from 0.94289\n",
            "Epoch 69/100\n",
            "118/118 [==============================] - 167s 1s/step - loss: 0.1471 - accuracy: 0.9450 - val_loss: 0.2887 - val_accuracy: 0.9332\n",
            "\n",
            "Epoch 00069: val_accuracy did not improve from 0.94289\n",
            "Epoch 70/100\n",
            "118/118 [==============================] - 165s 1s/step - loss: 0.1853 - accuracy: 0.9327 - val_loss: 0.3206 - val_accuracy: 0.9246\n",
            "\n",
            "Epoch 00070: val_accuracy did not improve from 0.94289\n",
            "Epoch 71/100\n",
            "118/118 [==============================] - 167s 1s/step - loss: 0.1730 - accuracy: 0.9365 - val_loss: 0.3171 - val_accuracy: 0.9181\n",
            "\n",
            "Epoch 00071: val_accuracy did not improve from 0.94289\n",
            "Epoch 72/100\n",
            "118/118 [==============================] - 166s 1s/step - loss: 0.1883 - accuracy: 0.9330 - val_loss: 0.2787 - val_accuracy: 0.9364\n",
            "\n",
            "Epoch 00072: val_accuracy did not improve from 0.94289\n",
            "Epoch 73/100\n",
            "118/118 [==============================] - 166s 1s/step - loss: 0.1604 - accuracy: 0.9432 - val_loss: 0.3258 - val_accuracy: 0.9213\n",
            "\n",
            "Epoch 00073: val_accuracy did not improve from 0.94289\n",
            "Epoch 74/100\n",
            "118/118 [==============================] - 166s 1s/step - loss: 0.1569 - accuracy: 0.9405 - val_loss: 0.3025 - val_accuracy: 0.9213\n",
            "\n",
            "Epoch 00074: val_accuracy did not improve from 0.94289\n",
            "Epoch 75/100\n",
            "118/118 [==============================] - 167s 1s/step - loss: 0.1478 - accuracy: 0.9443 - val_loss: 0.2662 - val_accuracy: 0.9321\n",
            "\n",
            "Epoch 00075: val_accuracy did not improve from 0.94289\n",
            "Epoch 76/100\n",
            "118/118 [==============================] - 165s 1s/step - loss: 0.1645 - accuracy: 0.9409 - val_loss: 0.2705 - val_accuracy: 0.9310\n",
            "\n",
            "Epoch 00076: val_accuracy did not improve from 0.94289\n",
            "Epoch 77/100\n",
            "118/118 [==============================] - 166s 1s/step - loss: 0.1413 - accuracy: 0.9509 - val_loss: 0.2793 - val_accuracy: 0.9321\n",
            "\n",
            "Epoch 00077: val_accuracy did not improve from 0.94289\n",
            "Epoch 78/100\n",
            "118/118 [==============================] - 166s 1s/step - loss: 0.1540 - accuracy: 0.9437 - val_loss: 0.3480 - val_accuracy: 0.9170\n",
            "\n",
            "Epoch 00078: val_accuracy did not improve from 0.94289\n",
            "Epoch 79/100\n",
            "118/118 [==============================] - 165s 1s/step - loss: 0.1644 - accuracy: 0.9458 - val_loss: 0.2911 - val_accuracy: 0.9192\n",
            "\n",
            "Epoch 00079: val_accuracy did not improve from 0.94289\n",
            "Epoch 80/100\n",
            "118/118 [==============================] - 166s 1s/step - loss: 0.1483 - accuracy: 0.9490 - val_loss: 0.2963 - val_accuracy: 0.9235\n",
            "\n",
            "Epoch 00080: val_accuracy did not improve from 0.94289\n",
            "Epoch 81/100\n",
            "118/118 [==============================] - 165s 1s/step - loss: 0.1419 - accuracy: 0.9474 - val_loss: 0.2700 - val_accuracy: 0.9321\n",
            "\n",
            "Epoch 00081: val_accuracy did not improve from 0.94289\n",
            "Epoch 82/100\n",
            "118/118 [==============================] - 166s 1s/step - loss: 0.1359 - accuracy: 0.9490 - val_loss: 0.3156 - val_accuracy: 0.9213\n",
            "\n",
            "Epoch 00082: val_accuracy did not improve from 0.94289\n",
            "Epoch 83/100\n",
            "118/118 [==============================] - 167s 1s/step - loss: 0.1282 - accuracy: 0.9538 - val_loss: 0.2677 - val_accuracy: 0.9375\n",
            "\n",
            "Epoch 00083: val_accuracy did not improve from 0.94289\n",
            "Epoch 84/100\n",
            "118/118 [==============================] - 167s 1s/step - loss: 0.1337 - accuracy: 0.9518 - val_loss: 0.2862 - val_accuracy: 0.9343\n",
            "\n",
            "Epoch 00084: val_accuracy did not improve from 0.94289\n",
            "Epoch 85/100\n",
            "118/118 [==============================] - 165s 1s/step - loss: 0.1283 - accuracy: 0.9473 - val_loss: 0.2932 - val_accuracy: 0.9343\n",
            "\n",
            "Epoch 00085: val_accuracy did not improve from 0.94289\n",
            "Epoch 86/100\n",
            "118/118 [==============================] - 164s 1s/step - loss: 0.1390 - accuracy: 0.9500 - val_loss: 0.2932 - val_accuracy: 0.9332\n",
            "\n",
            "Epoch 00086: val_accuracy did not improve from 0.94289\n",
            "Epoch 87/100\n",
            "118/118 [==============================] - 164s 1s/step - loss: 0.1475 - accuracy: 0.9479 - val_loss: 0.5213 - val_accuracy: 0.9030\n",
            "\n",
            "Epoch 00087: val_accuracy did not improve from 0.94289\n",
            "Epoch 88/100\n",
            "118/118 [==============================] - 164s 1s/step - loss: 0.1342 - accuracy: 0.9583 - val_loss: 0.2204 - val_accuracy: 0.9429\n",
            "\n",
            "Epoch 00088: val_accuracy did not improve from 0.94289\n",
            "Epoch 89/100\n",
            "118/118 [==============================] - 164s 1s/step - loss: 0.1438 - accuracy: 0.9477 - val_loss: 0.3032 - val_accuracy: 0.9278\n",
            "\n",
            "Epoch 00089: val_accuracy did not improve from 0.94289\n",
            "Epoch 90/100\n",
            "118/118 [==============================] - 165s 1s/step - loss: 0.1502 - accuracy: 0.9456 - val_loss: 0.2547 - val_accuracy: 0.9386\n",
            "\n",
            "Epoch 00090: val_accuracy did not improve from 0.94289\n",
            "Epoch 91/100\n",
            "118/118 [==============================] - 165s 1s/step - loss: 0.1272 - accuracy: 0.9485 - val_loss: 0.2924 - val_accuracy: 0.9375\n",
            "\n",
            "Epoch 00091: val_accuracy did not improve from 0.94289\n",
            "Epoch 92/100\n",
            "118/118 [==============================] - 165s 1s/step - loss: 0.1430 - accuracy: 0.9489 - val_loss: 0.2669 - val_accuracy: 0.9440\n",
            "\n",
            "Epoch 00092: val_accuracy improved from 0.94289 to 0.94397, saving model to weights.plants.transfer.preprocess.best.hdf5\n",
            "Epoch 93/100\n",
            "118/118 [==============================] - 165s 1s/step - loss: 0.1280 - accuracy: 0.9565 - val_loss: 0.3120 - val_accuracy: 0.9278\n",
            "\n",
            "Epoch 00093: val_accuracy did not improve from 0.94397\n",
            "Epoch 94/100\n",
            "118/118 [==============================] - 166s 1s/step - loss: 0.1386 - accuracy: 0.9423 - val_loss: 0.2903 - val_accuracy: 0.9332\n",
            "\n",
            "Epoch 00094: val_accuracy did not improve from 0.94397\n",
            "Epoch 95/100\n",
            "118/118 [==============================] - 165s 1s/step - loss: 0.1241 - accuracy: 0.9583 - val_loss: 0.3110 - val_accuracy: 0.9300\n",
            "\n",
            "Epoch 00095: val_accuracy did not improve from 0.94397\n",
            "Epoch 96/100\n",
            "118/118 [==============================] - 165s 1s/step - loss: 0.1246 - accuracy: 0.9525 - val_loss: 0.2555 - val_accuracy: 0.9483\n",
            "\n",
            "Epoch 00096: val_accuracy improved from 0.94397 to 0.94828, saving model to weights.plants.transfer.preprocess.best.hdf5\n",
            "Epoch 97/100\n",
            "118/118 [==============================] - 165s 1s/step - loss: 0.1217 - accuracy: 0.9516 - val_loss: 0.3234 - val_accuracy: 0.9224\n",
            "\n",
            "Epoch 00097: val_accuracy did not improve from 0.94828\n",
            "Epoch 98/100\n",
            "118/118 [==============================] - 164s 1s/step - loss: 0.1248 - accuracy: 0.9495 - val_loss: 0.3293 - val_accuracy: 0.9375\n",
            "\n",
            "Epoch 00098: val_accuracy did not improve from 0.94828\n",
            "Epoch 99/100\n",
            "118/118 [==============================] - 165s 1s/step - loss: 0.1178 - accuracy: 0.9539 - val_loss: 0.3104 - val_accuracy: 0.9386\n",
            "\n",
            "Epoch 00099: val_accuracy did not improve from 0.94828\n",
            "Epoch 100/100\n",
            "118/118 [==============================] - 164s 1s/step - loss: 0.1010 - accuracy: 0.9698 - val_loss: 0.2831 - val_accuracy: 0.9310\n",
            "\n",
            "Epoch 00100: val_accuracy did not improve from 0.94828\n"
          ],
          "name": "stdout"
        }
      ]
    },
    {
      "cell_type": "code",
      "metadata": {
        "id": "A4Cfhtysiyc6"
      },
      "source": [
        "train_acc = fitted_model.history['accuracy']\r\n",
        "val_acc =fitted_model.history['val_accuracy']\r\n",
        "\r\n",
        "train_loss = fitted_model.history['loss']\r\n",
        "val_loss = fitted_model.history['val_loss']"
      ],
      "execution_count": null,
      "outputs": []
    },
    {
      "cell_type": "code",
      "metadata": {
        "colab": {
          "base_uri": "https://localhost:8080/",
          "height": 607
        },
        "id": "tgNU2OTOi3yk",
        "outputId": "6b2b4953-3625-4695-a8dd-61f71a035bcc"
      },
      "source": [
        "plt.figure(figsize=(20, 10))\r\n",
        "\r\n",
        "plt.subplot(1, 2, 1)\r\n",
        "plt.plot(train_acc, label='Training Accuracy')\r\n",
        "plt.plot(val_acc, label='Validation Accuracy')\r\n",
        "plt.legend()\r\n",
        "plt.title('Epochs vs. Training and Validation Accuracy')\r\n",
        "    \r\n",
        "plt.subplot(1, 2, 2)\r\n",
        "plt.plot(train_loss, label='Training Loss')\r\n",
        "plt.plot(val_loss, label='Validation Loss')\r\n",
        "plt.legend()\r\n",
        "plt.title('Epochs vs. Training and Validation Loss')\r\n",
        "\r\n",
        "plt.show()"
      ],
      "execution_count": null,
      "outputs": [
        {
          "output_type": "display_data",
          "data": {
            "image/png": "[encoded data removed]",
            "text/plain": [
              "<Figure size 1440x720 with 2 Axes>"
            ]
          },
          "metadata": {
            "tags": [],
            "needs_background": "light"
          }
        }
      ]
    },
    {
      "cell_type": "code",
      "metadata": {
        "id": "9orUpL9-jDcy"
      },
      "source": [
        "def create_test_dataset(test_images_dir):\r\n",
        "    filenames = []\r\n",
        "    test_data = []\r\n",
        "    \r\n",
        "    for img_file in os.listdir(test_images_dir):\r\n",
        "        filenames.append(img_file)\r\n",
        "\r\n",
        "        img = tf.keras.preprocessing.image.load_img(test_images_dir + '/' + img_file)\r\n",
        "        img_new = img.resize([256, 256])\r\n",
        "        img_array = tf.keras.preprocessing.image.img_to_array(img_new)\r\n",
        "        img_array = img_array * 1./255\r\n",
        "        test_data.append(img_array)\r\n",
        "    \r\n",
        "    test_data = np.array(test_data,dtype=np.float32)\r\n",
        "    \r\n",
        "    return test_data, filenames "
      ],
      "execution_count": null,
      "outputs": []
    },
    {
      "cell_type": "code",
      "metadata": {
        "id": "qMMIiRUdjL0j"
      },
      "source": [
        "test_data, filenames  = create_test_dataset('/content/drive/My Drive/CNN/plant-seedlings-classification/test/')"
      ],
      "execution_count": null,
      "outputs": []
    },
    {
      "cell_type": "code",
      "metadata": {
        "colab": {
          "base_uri": "https://localhost:8080/"
        },
        "id": "uLkB1d38kwhz",
        "outputId": "71c62a83-4e96-4180-c451-308c393dec4c"
      },
      "source": [
        "test_data[1].shape"
      ],
      "execution_count": null,
      "outputs": [
        {
          "output_type": "execute_result",
          "data": {
            "text/plain": [
              "(256, 256, 3)"
            ]
          },
          "metadata": {
            "tags": []
          },
          "execution_count": 23
        }
      ]
    },
    {
      "cell_type": "code",
      "metadata": {
        "colab": {
          "base_uri": "https://localhost:8080/"
        },
        "id": "1Qb3YpbTk3-B",
        "outputId": "a7699964-05de-4ba9-aa1d-77613b9c5b72"
      },
      "source": [
        "# serialize model to JSON\r\n",
        "model_json = model.to_json()\r\n",
        "with open(\"plant_seedling1.json\", \"w\") as json_file:\r\n",
        "    json_file.write(model_json)\r\n",
        "\r\n",
        "# serialize weights to HDF5\r\n",
        "model.save_weights(\"plant_seedling1.h5\")\r\n",
        "\r\n",
        "print(\"Saved model to disk\")"
      ],
      "execution_count": null,
      "outputs": [
        {
          "output_type": "stream",
          "text": [
            "Saved model to disk\n"
          ],
          "name": "stdout"
        }
      ]
    },
    {
      "cell_type": "code",
      "metadata": {
        "colab": {
          "base_uri": "https://localhost:8080/"
        },
        "id": "7rf6xbXOmDIr",
        "outputId": "c1cf5b2f-a394-4b0c-8436-e56e00d39edb"
      },
      "source": [
        "train_generator.class_indices"
      ],
      "execution_count": null,
      "outputs": [
        {
          "output_type": "execute_result",
          "data": {
            "text/plain": [
              "{'Black-grass': 0,\n",
              " 'Charlock': 1,\n",
              " 'Cleavers': 2,\n",
              " 'Common Chickweed': 3,\n",
              " 'Common wheat': 4,\n",
              " 'Fat Hen': 5,\n",
              " 'Loose Silky-bent': 6,\n",
              " 'Maize': 7,\n",
              " 'Scentless Mayweed': 8,\n",
              " 'Shepherds Purse': 9,\n",
              " 'Small-flowered Cranesbill': 10,\n",
              " 'Sugar beet': 11}"
            ]
          },
          "metadata": {
            "tags": []
          },
          "execution_count": 26
        }
      ]
    },
    {
      "cell_type": "code",
      "metadata": {
        "colab": {
          "base_uri": "https://localhost:8080/"
        },
        "id": "fuzCI57hmkRW",
        "outputId": "14f86c45-c43f-4c2e-ff9e-a6f35c1c3132"
      },
      "source": [
        "type(train_generator.class_indices)"
      ],
      "execution_count": null,
      "outputs": [
        {
          "output_type": "execute_result",
          "data": {
            "text/plain": [
              "dict"
            ]
          },
          "metadata": {
            "tags": []
          },
          "execution_count": 27
        }
      ]
    },
    {
      "cell_type": "code",
      "metadata": {
        "id": "eHB4FfgWqHJ4"
      },
      "source": [
        "import pathlib"
      ],
      "execution_count": null,
      "outputs": []
    },
    {
      "cell_type": "code",
      "metadata": {
        "id": "C0wIxPy2zBrx"
      },
      "source": [
        "class_mapping = {\r\n",
        "0:\"Black-grass\",\r\n",
        "1:\"Charlock\",\r\n",
        "2:\"Cleavers\",\r\n",
        "3:\"Common-Chickweed\",\r\n",
        "4:\"Common-wheat\",\r\n",
        "5:\"Fat-Hen\",\r\n",
        "6:\"Loose-Silky-bent\",\r\n",
        "7:\"Maize\",\r\n",
        "8:\"Scentless-Mayweed\",\r\n",
        "9:\"Shepherds-Purse\",\r\n",
        "10:\"Small-flowered-Cranesbill\",\r\n",
        "11:\"Sugar-beet\",\r\n",
        "}"
      ],
      "execution_count": null,
      "outputs": []
    },
    {
      "cell_type": "code",
      "metadata": {
        "id": "YYLVRn-VpeDE"
      },
      "source": [
        "predicted_class = []\r\n",
        "for img in test_data:\r\n",
        "    img_instance = np.expand_dims(img, axis=0)\r\n",
        "    img_instance_class = model.predict(img_instance)\r\n",
        "    img_instance_class = np.argmax(img_instance_class,axis=1)\r\n",
        "    img_instance_class = class_mapping.get(img_instance_class[0], np.nan)\r\n",
        "    predicted_class.append(img_instance_class)\r\n",
        "    pass"
      ],
      "execution_count": null,
      "outputs": []
    },
    {
      "cell_type": "code",
      "metadata": {
        "colab": {
          "base_uri": "https://localhost:8080/",
          "height": 347
        },
        "id": "97vWq1tPm7a4",
        "outputId": "5511de19-30d4-4db6-a786-baeadeb9557f"
      },
      "source": [
        "results = pd.DataFrame({\"file\":filenames,\"species\":predicted_class})\r\n",
        "results.to_csv('submission_final1.csv', index = False)\r\n",
        "results.sample(10)"
      ],
      "execution_count": null,
      "outputs": [
        {
          "output_type": "execute_result",
          "data": {
            "text/html": [
              "<div>\n",
              "<style scoped>\n",
              "    .dataframe tbody tr th:only-of-type {\n",
              "        vertical-align: middle;\n",
              "    }\n",
              "\n",
              "    .dataframe tbody tr th {\n",
              "        vertical-align: top;\n",
              "    }\n",
              "\n",
              "    .dataframe thead th {\n",
              "        text-align: right;\n",
              "    }\n",
              "</style>\n",
              "<table border=\"1\" class=\"dataframe\">\n",
              "  <thead>\n",
              "    <tr style=\"text-align: right;\">\n",
              "      <th></th>\n",
              "      <th>file</th>\n",
              "      <th>species</th>\n",
              "    </tr>\n",
              "  </thead>\n",
              "  <tbody>\n",
              "    <tr>\n",
              "      <th>749</th>\n",
              "      <td>efe19dc32.png</td>\n",
              "      <td>Charlock</td>\n",
              "    </tr>\n",
              "    <tr>\n",
              "      <th>471</th>\n",
              "      <td>8faadb6a8.png</td>\n",
              "      <td>Sugar-beet</td>\n",
              "    </tr>\n",
              "    <tr>\n",
              "      <th>723</th>\n",
              "      <td>e901b0f28.png</td>\n",
              "      <td>Fat-Hen</td>\n",
              "    </tr>\n",
              "    <tr>\n",
              "      <th>290</th>\n",
              "      <td>5817b766d.png</td>\n",
              "      <td>Shepherds-Purse</td>\n",
              "    </tr>\n",
              "    <tr>\n",
              "      <th>348</th>\n",
              "      <td>66ab0e8d0.png</td>\n",
              "      <td>Charlock</td>\n",
              "    </tr>\n",
              "    <tr>\n",
              "      <th>572</th>\n",
              "      <td>b39c71707.png</td>\n",
              "      <td>Maize</td>\n",
              "    </tr>\n",
              "    <tr>\n",
              "      <th>609</th>\n",
              "      <td>c5e419015.png</td>\n",
              "      <td>Scentless-Mayweed</td>\n",
              "    </tr>\n",
              "    <tr>\n",
              "      <th>14</th>\n",
              "      <td>0a64e3e6c.png</td>\n",
              "      <td>Black-grass</td>\n",
              "    </tr>\n",
              "    <tr>\n",
              "      <th>738</th>\n",
              "      <td>e73e308be.png</td>\n",
              "      <td>Fat-Hen</td>\n",
              "    </tr>\n",
              "    <tr>\n",
              "      <th>392</th>\n",
              "      <td>7696badea.png</td>\n",
              "      <td>Black-grass</td>\n",
              "    </tr>\n",
              "  </tbody>\n",
              "</table>\n",
              "</div>"
            ],
            "text/plain": [
              "              file            species\n",
              "749  efe19dc32.png           Charlock\n",
              "471  8faadb6a8.png         Sugar-beet\n",
              "723  e901b0f28.png            Fat-Hen\n",
              "290  5817b766d.png    Shepherds-Purse\n",
              "348  66ab0e8d0.png           Charlock\n",
              "572  b39c71707.png              Maize\n",
              "609  c5e419015.png  Scentless-Mayweed\n",
              "14   0a64e3e6c.png        Black-grass\n",
              "738  e73e308be.png            Fat-Hen\n",
              "392  7696badea.png        Black-grass"
            ]
          },
          "metadata": {
            "tags": []
          },
          "execution_count": 57
        }
      ]
    }
  ]
}